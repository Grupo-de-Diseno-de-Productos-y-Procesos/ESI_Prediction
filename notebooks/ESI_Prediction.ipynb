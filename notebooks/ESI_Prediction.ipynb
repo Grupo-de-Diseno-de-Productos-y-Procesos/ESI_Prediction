{
  "cells": [
    {
      "cell_type": "markdown",
      "metadata": {
        "id": "o6roOmuio2a7"
      },
      "source": [
        "# Enzyme-Substrate Interaction (ESI) Prediction\n",
        "\n",
        "<img src=\"https://raw.githubusercontent.com/lfsalasnu/Specific_CPI/main/Problem_general.png\" alt=\"Figura 1\" width=\"800\"/>"
      ]
    },
    {
      "cell_type": "code",
      "execution_count": null,
      "metadata": {
        "id": "3dWZEv_f3ndm"
      },
      "outputs": [],
      "source": [
        "# This code is based on the article:\n",
        "# EnZymClass: Substrate specificity prediction tool of plant acyl-ACP thioesterases based on ensemble learning\n",
        "# DOI: https://doi.org/10.1016/j.crbiot.2021.12.002\n",
        "# DOI: https://zenodo.org/records/5032482"
      ]
    },
    {
      "cell_type": "markdown",
      "metadata": {
        "id": "sGaJ6b1D2dwZ"
      },
      "source": [
        "## Introduction"
      ]
    },
    {
      "cell_type": "markdown",
      "metadata": {
        "id": "1ZyDJMW-qQVi"
      },
      "source": [
        "### Specific problem\n",
        "\n",
        "Find the enzyme that catalyzes the reaction:\n",
        "\n",
        "\n",
        "\n",
        "\n"
      ]
    },
    {
      "cell_type": "markdown",
      "metadata": {
        "id": "Gm56ASbGrUFX"
      },
      "source": [
        "### Machine Learning Model\n",
        "\n",
        "<img src=\"https://raw.githubusercontent.com/lfsalasnu/Specific_CPI/main/Model.png\" alt=\"Figura 2\" width=\"800\"/>"
      ]
    },
    {
      "cell_type": "markdown",
      "metadata": {
        "id": "5e47XIhf3zW2"
      },
      "source": [
        "## Features"
      ]
    },
    {
      "cell_type": "markdown",
      "metadata": {
        "id": "Ql5jSJeDqp5T"
      },
      "source": [
        "### Preprocessing"
      ]
    },
    {
      "cell_type": "markdown",
      "metadata": {
        "id": "l_QGZCXy5qj2"
      },
      "source": [
        "#### Initials"
      ]
    },
    {
      "cell_type": "markdown",
      "metadata": {
        "id": "2C28iNL6uIgl"
      },
      "source": [
        "##### Installing and calling libraries"
      ]
    },
    {
      "cell_type": "code",
      "execution_count": null,
      "metadata": {
        "colab": {
          "base_uri": "https://localhost:8080/"
        },
        "id": "MgM0Iju8pKPB",
        "outputId": "34179639-4fc6-450a-bbe5-41ad968f2b94"
      },
      "outputs": [
        {
          "output_type": "stream",
          "name": "stdout",
          "text": [
            "Collecting ifeatpro\n",
            "  Downloading ifeatpro-0.0.3-py3-none-any.whl.metadata (3.6 kB)\n",
            "Requirement already satisfied: numpy in /usr/local/lib/python3.11/dist-packages (from ifeatpro) (2.0.2)\n",
            "Downloading ifeatpro-0.0.3-py3-none-any.whl (34 kB)\n",
            "Installing collected packages: ifeatpro\n",
            "Successfully installed ifeatpro-0.0.3\n",
            "Collecting ngrampro\n",
            "  Downloading ngrampro-0.0.7-py3-none-any.whl.metadata (7.3 kB)\n",
            "Requirement already satisfied: numpy in /usr/local/lib/python3.11/dist-packages (from ngrampro) (2.0.2)\n",
            "Downloading ngrampro-0.0.7-py3-none-any.whl (6.5 kB)\n",
            "Installing collected packages: ngrampro\n",
            "Successfully installed ngrampro-0.0.7\n",
            "Collecting pssmpro\n",
            "  Downloading pssmpro-0.0.2-py3-none-any.whl.metadata (4.5 kB)\n",
            "Requirement already satisfied: numpy in /usr/local/lib/python3.11/dist-packages (from pssmpro) (2.0.2)\n",
            "Downloading pssmpro-0.0.2-py3-none-any.whl (25 kB)\n",
            "Installing collected packages: pssmpro\n",
            "Successfully installed pssmpro-0.0.2\n"
          ]
        }
      ],
      "source": [
        "!pip install ifeatpro\n",
        "!pip install ngrampro\n",
        "!pip install pssmpro"
      ]
    },
    {
      "cell_type": "code",
      "execution_count": null,
      "metadata": {
        "id": "p7FM_HD5rHGP"
      },
      "outputs": [],
      "source": [
        "def warn(*args, **kwargs):\n",
        "    pass\n",
        "import warnings\n",
        "warnings.warn = warn"
      ]
    },
    {
      "cell_type": "code",
      "execution_count": null,
      "metadata": {
        "id": "2OKokXvIsDOp"
      },
      "outputs": [],
      "source": [
        "# feature encoding\n",
        "import pandas as pd\n",
        "import os\n",
        "import ifeatpro.features as ipro\n",
        "import pssmpro.features as ppro\n",
        "import ngrampro as npro\n",
        "from scipy import sparse, io\n",
        "import numpy as np"
      ]
    },
    {
      "cell_type": "markdown",
      "metadata": {
        "id": "et4tmdAc37zU"
      },
      "source": [
        "##### Upload files"
      ]
    },
    {
      "cell_type": "markdown",
      "source": [
        "Upload the compressed data file, this must contain the training sequences and search space sequences in the 'data/raw/' address. It must also contain the utils folder where the 'Kernels-KeBABs.r' file is located, which will be used to calculate the kernel-based descriptors.\n",
        "\n",
        "Example: TE.zip"
      ],
      "metadata": {
        "id": "2UFlBxJF0ZV2"
      }
    },
    {
      "cell_type": "code",
      "execution_count": null,
      "metadata": {
        "colab": {
          "base_uri": "https://localhost:8080/",
          "height": 73
        },
        "id": "jdpCgQ5gE_WP",
        "outputId": "3ebf8824-9d55-4334-e405-1e6312fa61b1"
      },
      "outputs": [
        {
          "output_type": "display_data",
          "data": {
            "text/plain": [
              "<IPython.core.display.HTML object>"
            ],
            "text/html": [
              "\n",
              "     <input type=\"file\" id=\"files-a122e786-aec9-47ff-9928-529eed5a4c35\" name=\"files[]\" multiple disabled\n",
              "        style=\"border:none\" />\n",
              "     <output id=\"result-a122e786-aec9-47ff-9928-529eed5a4c35\">\n",
              "      Upload widget is only available when the cell has been executed in the\n",
              "      current browser session. Please rerun this cell to enable.\n",
              "      </output>\n",
              "      <script>// Copyright 2017 Google LLC\n",
              "//\n",
              "// Licensed under the Apache License, Version 2.0 (the \"License\");\n",
              "// you may not use this file except in compliance with the License.\n",
              "// You may obtain a copy of the License at\n",
              "//\n",
              "//      http://www.apache.org/licenses/LICENSE-2.0\n",
              "//\n",
              "// Unless required by applicable law or agreed to in writing, software\n",
              "// distributed under the License is distributed on an \"AS IS\" BASIS,\n",
              "// WITHOUT WARRANTIES OR CONDITIONS OF ANY KIND, either express or implied.\n",
              "// See the License for the specific language governing permissions and\n",
              "// limitations under the License.\n",
              "\n",
              "/**\n",
              " * @fileoverview Helpers for google.colab Python module.\n",
              " */\n",
              "(function(scope) {\n",
              "function span(text, styleAttributes = {}) {\n",
              "  const element = document.createElement('span');\n",
              "  element.textContent = text;\n",
              "  for (const key of Object.keys(styleAttributes)) {\n",
              "    element.style[key] = styleAttributes[key];\n",
              "  }\n",
              "  return element;\n",
              "}\n",
              "\n",
              "// Max number of bytes which will be uploaded at a time.\n",
              "const MAX_PAYLOAD_SIZE = 100 * 1024;\n",
              "\n",
              "function _uploadFiles(inputId, outputId) {\n",
              "  const steps = uploadFilesStep(inputId, outputId);\n",
              "  const outputElement = document.getElementById(outputId);\n",
              "  // Cache steps on the outputElement to make it available for the next call\n",
              "  // to uploadFilesContinue from Python.\n",
              "  outputElement.steps = steps;\n",
              "\n",
              "  return _uploadFilesContinue(outputId);\n",
              "}\n",
              "\n",
              "// This is roughly an async generator (not supported in the browser yet),\n",
              "// where there are multiple asynchronous steps and the Python side is going\n",
              "// to poll for completion of each step.\n",
              "// This uses a Promise to block the python side on completion of each step,\n",
              "// then passes the result of the previous step as the input to the next step.\n",
              "function _uploadFilesContinue(outputId) {\n",
              "  const outputElement = document.getElementById(outputId);\n",
              "  const steps = outputElement.steps;\n",
              "\n",
              "  const next = steps.next(outputElement.lastPromiseValue);\n",
              "  return Promise.resolve(next.value.promise).then((value) => {\n",
              "    // Cache the last promise value to make it available to the next\n",
              "    // step of the generator.\n",
              "    outputElement.lastPromiseValue = value;\n",
              "    return next.value.response;\n",
              "  });\n",
              "}\n",
              "\n",
              "/**\n",
              " * Generator function which is called between each async step of the upload\n",
              " * process.\n",
              " * @param {string} inputId Element ID of the input file picker element.\n",
              " * @param {string} outputId Element ID of the output display.\n",
              " * @return {!Iterable<!Object>} Iterable of next steps.\n",
              " */\n",
              "function* uploadFilesStep(inputId, outputId) {\n",
              "  const inputElement = document.getElementById(inputId);\n",
              "  inputElement.disabled = false;\n",
              "\n",
              "  const outputElement = document.getElementById(outputId);\n",
              "  outputElement.innerHTML = '';\n",
              "\n",
              "  const pickedPromise = new Promise((resolve) => {\n",
              "    inputElement.addEventListener('change', (e) => {\n",
              "      resolve(e.target.files);\n",
              "    });\n",
              "  });\n",
              "\n",
              "  const cancel = document.createElement('button');\n",
              "  inputElement.parentElement.appendChild(cancel);\n",
              "  cancel.textContent = 'Cancel upload';\n",
              "  const cancelPromise = new Promise((resolve) => {\n",
              "    cancel.onclick = () => {\n",
              "      resolve(null);\n",
              "    };\n",
              "  });\n",
              "\n",
              "  // Wait for the user to pick the files.\n",
              "  const files = yield {\n",
              "    promise: Promise.race([pickedPromise, cancelPromise]),\n",
              "    response: {\n",
              "      action: 'starting',\n",
              "    }\n",
              "  };\n",
              "\n",
              "  cancel.remove();\n",
              "\n",
              "  // Disable the input element since further picks are not allowed.\n",
              "  inputElement.disabled = true;\n",
              "\n",
              "  if (!files) {\n",
              "    return {\n",
              "      response: {\n",
              "        action: 'complete',\n",
              "      }\n",
              "    };\n",
              "  }\n",
              "\n",
              "  for (const file of files) {\n",
              "    const li = document.createElement('li');\n",
              "    li.append(span(file.name, {fontWeight: 'bold'}));\n",
              "    li.append(span(\n",
              "        `(${file.type || 'n/a'}) - ${file.size} bytes, ` +\n",
              "        `last modified: ${\n",
              "            file.lastModifiedDate ? file.lastModifiedDate.toLocaleDateString() :\n",
              "                                    'n/a'} - `));\n",
              "    const percent = span('0% done');\n",
              "    li.appendChild(percent);\n",
              "\n",
              "    outputElement.appendChild(li);\n",
              "\n",
              "    const fileDataPromise = new Promise((resolve) => {\n",
              "      const reader = new FileReader();\n",
              "      reader.onload = (e) => {\n",
              "        resolve(e.target.result);\n",
              "      };\n",
              "      reader.readAsArrayBuffer(file);\n",
              "    });\n",
              "    // Wait for the data to be ready.\n",
              "    let fileData = yield {\n",
              "      promise: fileDataPromise,\n",
              "      response: {\n",
              "        action: 'continue',\n",
              "      }\n",
              "    };\n",
              "\n",
              "    // Use a chunked sending to avoid message size limits. See b/62115660.\n",
              "    let position = 0;\n",
              "    do {\n",
              "      const length = Math.min(fileData.byteLength - position, MAX_PAYLOAD_SIZE);\n",
              "      const chunk = new Uint8Array(fileData, position, length);\n",
              "      position += length;\n",
              "\n",
              "      const base64 = btoa(String.fromCharCode.apply(null, chunk));\n",
              "      yield {\n",
              "        response: {\n",
              "          action: 'append',\n",
              "          file: file.name,\n",
              "          data: base64,\n",
              "        },\n",
              "      };\n",
              "\n",
              "      let percentDone = fileData.byteLength === 0 ?\n",
              "          100 :\n",
              "          Math.round((position / fileData.byteLength) * 100);\n",
              "      percent.textContent = `${percentDone}% done`;\n",
              "\n",
              "    } while (position < fileData.byteLength);\n",
              "  }\n",
              "\n",
              "  // All done.\n",
              "  yield {\n",
              "    response: {\n",
              "      action: 'complete',\n",
              "    }\n",
              "  };\n",
              "}\n",
              "\n",
              "scope.google = scope.google || {};\n",
              "scope.google.colab = scope.google.colab || {};\n",
              "scope.google.colab._files = {\n",
              "  _uploadFiles,\n",
              "  _uploadFilesContinue,\n",
              "};\n",
              "})(self);\n",
              "</script> "
            ]
          },
          "metadata": {}
        },
        {
          "output_type": "stream",
          "name": "stdout",
          "text": [
            "Saving CYP.zip to CYP.zip\n"
          ]
        }
      ],
      "source": [
        "# Uploded Data\n",
        "from google.colab import files\n",
        "import zipfile\n",
        "\n",
        "uploaded=files.upload()\n",
        "archivo_zip=list(uploaded.keys())[0]\n",
        "with zipfile.ZipFile(archivo_zip, 'r') as zip_ref:\n",
        "    zip_ref.extractall('./')"
      ]
    },
    {
      "cell_type": "markdown",
      "metadata": {
        "id": "TvCPu5JjuXcO"
      },
      "source": [
        "##### Training data"
      ]
    },
    {
      "cell_type": "code",
      "execution_count": null,
      "metadata": {
        "id": "CDXtu_mjSbWK"
      },
      "outputs": [],
      "source": [
        "# change the data names, if you only have one dataset split it into training and search space data\n",
        "file_train=\"CYP/CYP_trainset\"\n",
        "file_search_space=\"CYP/CYP_search_space\"\n",
        "#file_test=\"TE_testset.csv\""
      ]
    },
    {
      "cell_type": "code",
      "execution_count": null,
      "metadata": {
        "colab": {
          "base_uri": "https://localhost:8080/",
          "height": 147
        },
        "id": "RWSJpsyKqHjH",
        "outputId": "e45d1a9b-115f-4a92-a1c6-ef47202aa966"
      },
      "outputs": [
        {
          "output_type": "stream",
          "name": "stdout",
          "text": [
            "The number of enzymatic sequences to train the model is: 100\n",
            "The number of enzymatic sequences to search space is: 100\n"
          ]
        },
        {
          "output_type": "execute_result",
          "data": {
            "text/plain": [
              "                enz_name                                            enz_seq  \\\n",
              "0   sp|P92994|TCMO_ARATH  MDLLLLEKSLIAVFVAVILATVISKLRGKKLKLPPGPIPIPIFGNW...   \n",
              "1  sp|O49342|C71AD_ARATH  MEMILSISLCLTTLITLLLLRRFLKRTATKVNLPPSPWRLPVIGNL...   \n",
              "\n",
              "   enz_label  \n",
              "0          1  \n",
              "1          1  "
            ],
            "text/html": [
              "\n",
              "  <div id=\"df-7866af6f-baf9-43e5-af01-be729cfa7211\" class=\"colab-df-container\">\n",
              "    <div>\n",
              "<style scoped>\n",
              "    .dataframe tbody tr th:only-of-type {\n",
              "        vertical-align: middle;\n",
              "    }\n",
              "\n",
              "    .dataframe tbody tr th {\n",
              "        vertical-align: top;\n",
              "    }\n",
              "\n",
              "    .dataframe thead th {\n",
              "        text-align: right;\n",
              "    }\n",
              "</style>\n",
              "<table border=\"1\" class=\"dataframe\">\n",
              "  <thead>\n",
              "    <tr style=\"text-align: right;\">\n",
              "      <th></th>\n",
              "      <th>enz_name</th>\n",
              "      <th>enz_seq</th>\n",
              "      <th>enz_label</th>\n",
              "    </tr>\n",
              "  </thead>\n",
              "  <tbody>\n",
              "    <tr>\n",
              "      <th>0</th>\n",
              "      <td>sp|P92994|TCMO_ARATH</td>\n",
              "      <td>MDLLLLEKSLIAVFVAVILATVISKLRGKKLKLPPGPIPIPIFGNW...</td>\n",
              "      <td>1</td>\n",
              "    </tr>\n",
              "    <tr>\n",
              "      <th>1</th>\n",
              "      <td>sp|O49342|C71AD_ARATH</td>\n",
              "      <td>MEMILSISLCLTTLITLLLLRRFLKRTATKVNLPPSPWRLPVIGNL...</td>\n",
              "      <td>1</td>\n",
              "    </tr>\n",
              "  </tbody>\n",
              "</table>\n",
              "</div>\n",
              "    <div class=\"colab-df-buttons\">\n",
              "\n",
              "  <div class=\"colab-df-container\">\n",
              "    <button class=\"colab-df-convert\" onclick=\"convertToInteractive('df-7866af6f-baf9-43e5-af01-be729cfa7211')\"\n",
              "            title=\"Convert this dataframe to an interactive table.\"\n",
              "            style=\"display:none;\">\n",
              "\n",
              "  <svg xmlns=\"http://www.w3.org/2000/svg\" height=\"24px\" viewBox=\"0 -960 960 960\">\n",
              "    <path d=\"M120-120v-720h720v720H120Zm60-500h600v-160H180v160Zm220 220h160v-160H400v160Zm0 220h160v-160H400v160ZM180-400h160v-160H180v160Zm440 0h160v-160H620v160ZM180-180h160v-160H180v160Zm440 0h160v-160H620v160Z\"/>\n",
              "  </svg>\n",
              "    </button>\n",
              "\n",
              "  <style>\n",
              "    .colab-df-container {\n",
              "      display:flex;\n",
              "      gap: 12px;\n",
              "    }\n",
              "\n",
              "    .colab-df-convert {\n",
              "      background-color: #E8F0FE;\n",
              "      border: none;\n",
              "      border-radius: 50%;\n",
              "      cursor: pointer;\n",
              "      display: none;\n",
              "      fill: #1967D2;\n",
              "      height: 32px;\n",
              "      padding: 0 0 0 0;\n",
              "      width: 32px;\n",
              "    }\n",
              "\n",
              "    .colab-df-convert:hover {\n",
              "      background-color: #E2EBFA;\n",
              "      box-shadow: 0px 1px 2px rgba(60, 64, 67, 0.3), 0px 1px 3px 1px rgba(60, 64, 67, 0.15);\n",
              "      fill: #174EA6;\n",
              "    }\n",
              "\n",
              "    .colab-df-buttons div {\n",
              "      margin-bottom: 4px;\n",
              "    }\n",
              "\n",
              "    [theme=dark] .colab-df-convert {\n",
              "      background-color: #3B4455;\n",
              "      fill: #D2E3FC;\n",
              "    }\n",
              "\n",
              "    [theme=dark] .colab-df-convert:hover {\n",
              "      background-color: #434B5C;\n",
              "      box-shadow: 0px 1px 3px 1px rgba(0, 0, 0, 0.15);\n",
              "      filter: drop-shadow(0px 1px 2px rgba(0, 0, 0, 0.3));\n",
              "      fill: #FFFFFF;\n",
              "    }\n",
              "  </style>\n",
              "\n",
              "    <script>\n",
              "      const buttonEl =\n",
              "        document.querySelector('#df-7866af6f-baf9-43e5-af01-be729cfa7211 button.colab-df-convert');\n",
              "      buttonEl.style.display =\n",
              "        google.colab.kernel.accessAllowed ? 'block' : 'none';\n",
              "\n",
              "      async function convertToInteractive(key) {\n",
              "        const element = document.querySelector('#df-7866af6f-baf9-43e5-af01-be729cfa7211');\n",
              "        const dataTable =\n",
              "          await google.colab.kernel.invokeFunction('convertToInteractive',\n",
              "                                                    [key], {});\n",
              "        if (!dataTable) return;\n",
              "\n",
              "        const docLinkHtml = 'Like what you see? Visit the ' +\n",
              "          '<a target=\"_blank\" href=https://colab.research.google.com/notebooks/data_table.ipynb>data table notebook</a>'\n",
              "          + ' to learn more about interactive tables.';\n",
              "        element.innerHTML = '';\n",
              "        dataTable['output_type'] = 'display_data';\n",
              "        await google.colab.output.renderOutput(dataTable, element);\n",
              "        const docLink = document.createElement('div');\n",
              "        docLink.innerHTML = docLinkHtml;\n",
              "        element.appendChild(docLink);\n",
              "      }\n",
              "    </script>\n",
              "  </div>\n",
              "\n",
              "\n",
              "    <div id=\"df-1a26d736-f69c-4df9-ad28-4f2d6897592b\">\n",
              "      <button class=\"colab-df-quickchart\" onclick=\"quickchart('df-1a26d736-f69c-4df9-ad28-4f2d6897592b')\"\n",
              "                title=\"Suggest charts\"\n",
              "                style=\"display:none;\">\n",
              "\n",
              "<svg xmlns=\"http://www.w3.org/2000/svg\" height=\"24px\"viewBox=\"0 0 24 24\"\n",
              "     width=\"24px\">\n",
              "    <g>\n",
              "        <path d=\"M19 3H5c-1.1 0-2 .9-2 2v14c0 1.1.9 2 2 2h14c1.1 0 2-.9 2-2V5c0-1.1-.9-2-2-2zM9 17H7v-7h2v7zm4 0h-2V7h2v10zm4 0h-2v-4h2v4z\"/>\n",
              "    </g>\n",
              "</svg>\n",
              "      </button>\n",
              "\n",
              "<style>\n",
              "  .colab-df-quickchart {\n",
              "      --bg-color: #E8F0FE;\n",
              "      --fill-color: #1967D2;\n",
              "      --hover-bg-color: #E2EBFA;\n",
              "      --hover-fill-color: #174EA6;\n",
              "      --disabled-fill-color: #AAA;\n",
              "      --disabled-bg-color: #DDD;\n",
              "  }\n",
              "\n",
              "  [theme=dark] .colab-df-quickchart {\n",
              "      --bg-color: #3B4455;\n",
              "      --fill-color: #D2E3FC;\n",
              "      --hover-bg-color: #434B5C;\n",
              "      --hover-fill-color: #FFFFFF;\n",
              "      --disabled-bg-color: #3B4455;\n",
              "      --disabled-fill-color: #666;\n",
              "  }\n",
              "\n",
              "  .colab-df-quickchart {\n",
              "    background-color: var(--bg-color);\n",
              "    border: none;\n",
              "    border-radius: 50%;\n",
              "    cursor: pointer;\n",
              "    display: none;\n",
              "    fill: var(--fill-color);\n",
              "    height: 32px;\n",
              "    padding: 0;\n",
              "    width: 32px;\n",
              "  }\n",
              "\n",
              "  .colab-df-quickchart:hover {\n",
              "    background-color: var(--hover-bg-color);\n",
              "    box-shadow: 0 1px 2px rgba(60, 64, 67, 0.3), 0 1px 3px 1px rgba(60, 64, 67, 0.15);\n",
              "    fill: var(--button-hover-fill-color);\n",
              "  }\n",
              "\n",
              "  .colab-df-quickchart-complete:disabled,\n",
              "  .colab-df-quickchart-complete:disabled:hover {\n",
              "    background-color: var(--disabled-bg-color);\n",
              "    fill: var(--disabled-fill-color);\n",
              "    box-shadow: none;\n",
              "  }\n",
              "\n",
              "  .colab-df-spinner {\n",
              "    border: 2px solid var(--fill-color);\n",
              "    border-color: transparent;\n",
              "    border-bottom-color: var(--fill-color);\n",
              "    animation:\n",
              "      spin 1s steps(1) infinite;\n",
              "  }\n",
              "\n",
              "  @keyframes spin {\n",
              "    0% {\n",
              "      border-color: transparent;\n",
              "      border-bottom-color: var(--fill-color);\n",
              "      border-left-color: var(--fill-color);\n",
              "    }\n",
              "    20% {\n",
              "      border-color: transparent;\n",
              "      border-left-color: var(--fill-color);\n",
              "      border-top-color: var(--fill-color);\n",
              "    }\n",
              "    30% {\n",
              "      border-color: transparent;\n",
              "      border-left-color: var(--fill-color);\n",
              "      border-top-color: var(--fill-color);\n",
              "      border-right-color: var(--fill-color);\n",
              "    }\n",
              "    40% {\n",
              "      border-color: transparent;\n",
              "      border-right-color: var(--fill-color);\n",
              "      border-top-color: var(--fill-color);\n",
              "    }\n",
              "    60% {\n",
              "      border-color: transparent;\n",
              "      border-right-color: var(--fill-color);\n",
              "    }\n",
              "    80% {\n",
              "      border-color: transparent;\n",
              "      border-right-color: var(--fill-color);\n",
              "      border-bottom-color: var(--fill-color);\n",
              "    }\n",
              "    90% {\n",
              "      border-color: transparent;\n",
              "      border-bottom-color: var(--fill-color);\n",
              "    }\n",
              "  }\n",
              "</style>\n",
              "\n",
              "      <script>\n",
              "        async function quickchart(key) {\n",
              "          const quickchartButtonEl =\n",
              "            document.querySelector('#' + key + ' button');\n",
              "          quickchartButtonEl.disabled = true;  // To prevent multiple clicks.\n",
              "          quickchartButtonEl.classList.add('colab-df-spinner');\n",
              "          try {\n",
              "            const charts = await google.colab.kernel.invokeFunction(\n",
              "                'suggestCharts', [key], {});\n",
              "          } catch (error) {\n",
              "            console.error('Error during call to suggestCharts:', error);\n",
              "          }\n",
              "          quickchartButtonEl.classList.remove('colab-df-spinner');\n",
              "          quickchartButtonEl.classList.add('colab-df-quickchart-complete');\n",
              "        }\n",
              "        (() => {\n",
              "          let quickchartButtonEl =\n",
              "            document.querySelector('#df-1a26d736-f69c-4df9-ad28-4f2d6897592b button');\n",
              "          quickchartButtonEl.style.display =\n",
              "            google.colab.kernel.accessAllowed ? 'block' : 'none';\n",
              "        })();\n",
              "      </script>\n",
              "    </div>\n",
              "\n",
              "    </div>\n",
              "  </div>\n"
            ],
            "application/vnd.google.colaboratory.intrinsic+json": {
              "type": "dataframe",
              "variable_name": "df_train",
              "summary": "{\n  \"name\": \"df_train\",\n  \"rows\": 100,\n  \"fields\": [\n    {\n      \"column\": \"enz_name\",\n      \"properties\": {\n        \"dtype\": \"string\",\n        \"num_unique_values\": 97,\n        \"samples\": [\n          \"sp|Q9V7G5|C4AA1_DROME\",\n          \"sp|Q9NGX9|CP302_DROME\",\n          \"sp|Q0WTF4|C81F3_ARATH\"\n        ],\n        \"semantic_type\": \"\",\n        \"description\": \"\"\n      }\n    },\n    {\n      \"column\": \"enz_seq\",\n      \"properties\": {\n        \"dtype\": \"string\",\n        \"num_unique_values\": 97,\n        \"samples\": [\n          \"MFVEKVLERTTNLELCSILILLVISLSIYTFYATLNTYLRSVLLSLRLTGPPSLPFLGNCMLVTDKDLMRRCAGKAFDLYGSLVRIWVLLFPFFAVLEPEDLQVILSSKKHTNKVFFYRLMHNFLGDGLITSSGSKWSNHRRLIQPAFHHNLLEKFIDTFVDASQSLYENLDAEAVGTEINIAKYVNNCVLDILNEAVLGVPIKKRGQDVAMMEDSPFRQGKIMMPARFTQPWLLLDGIYHWTKMANDELNQKKRLNDFTRKMIQRRRQIQNNNNGNSERKCLLDHMIEISESNRDFTEEDIVNEACTFMLAGQDSVGAAVAFTLFLLTQNPECQDRCVLELATIFEDSNRAPTMTDLHEMRYMEMCIKEALRLYPSVPLIARKLGEEVRLAKHTLPAGSNVFICPYATHRLAHIYPDPEKFQPERFSPENSENRHPYAFLPFSAGPRYCIGNRFAIMEIKTIVSRLLRSYQLLPVTGKTTIAATFRITLRASGGLWVRLKERDHPLIAH\",\n          \"MLTKLLKISCTSRQCTFAKPYQAIPGPRGPFGMGNLYNYLPGIGSYSWLRLHQAGQDKYEKYGAIVRETIVPGQDIVWLYDPKDIALLLNERDCPQRRSHLALAQYRKSRPDVYKTTGLLPTNGPEWWRIRAQVQKELSAPKSVRNFVRQVDGVTKEFIRFLQESRNGGAIDMLPKLTRLNLELTCLLTFGARLQSFTAQEQDPRSRSTRLMDAAETTNSCILPTDQGLQLWRFLETPSFRKLSQAQSYMESVALELVEENVRNGSVGSSLISAYVKNPELDRSDVVGTAADLLLAGIDTTSYASAFLLYHIARNPEVQQKLHEEARRVLPSAKDELSMDALRTDITYTRAVLKESLRLNPIAVGVGRILNQDAIFSGYFVPKGTTVVTQNMVACRLEQHFQDPLRFQPDRWLQHRSALNPYLVLPFGHGMRACIARRLAEQNMHILLLRLLREYELIWSGSDDEMGVKTLLINKPDAPVLIDLRLRRE\",\n          \"MFYYVIVLPLALFLLAYKLFFTSKTKRFNLPPSPPYSLPILGHHNLLKPPVHRLFHRLSKTHGPIFSLQFGSRRAVVISSSSLATQCFTGQNDIILSNRPCFLTAKYVAYNYTTVGTAPYGDHWRNLRRICSLEILSSNRLTNFLHIRKDEIHRMLTRLSRDVNKEIELEPLLSDLTFNNIVRMVTGKRYYGDEVHNEEEANVFKKLVADINDCSGARHPGDYLPFMKMFGGSFEKKVKALAEAMDEILQRLLEECKRDKDGNTMVNHLLSLQQNEPEYYTDVTIKGLMLGMMIAGTDTSAVTLEWAMSSLLNHPEALEKAKLEIDEKIGQERLIDEPDIANLPYLQNIVSETFRLYPAAPLLVPRSPTEDIKVGGYDVPRGTMVMVNAWAIHRDPELWNEPEKFKPERFNGGEGGGRGEDVHKLMPFGNGRRSCPGAGLGQKIVTLALGSLIQCFDWQKVNGEAIDMTETPGMAMRKKIPLSALCQSRPIMSKLQAHLKG\"\n        ],\n        \"semantic_type\": \"\",\n        \"description\": \"\"\n      }\n    },\n    {\n      \"column\": \"enz_label\",\n      \"properties\": {\n        \"dtype\": \"number\",\n        \"std\": 0,\n        \"min\": 1,\n        \"max\": 2,\n        \"num_unique_values\": 2,\n        \"samples\": [\n          2,\n          1\n        ],\n        \"semantic_type\": \"\",\n        \"description\": \"\"\n      }\n    }\n  ]\n}"
            }
          },
          "metadata": {},
          "execution_count": 6
        }
      ],
      "source": [
        "search_space_raw=\"./data/raw/\" + file_search_space + \".csv\"\n",
        "train_raw=\"./data/raw/\" + file_train + \".csv\"\n",
        "df_search_space = pd.read_csv(search_space_raw, header=None, names=[\"enz_name\", \"enz_seq\"])\n",
        "df_train = pd.read_csv(train_raw, header=None, names=[\"enz_name\", \"enz_seq\", \"enz_label\"])\n",
        "print(f'The number of enzymatic sequences to train the model is: {len(df_train)}')\n",
        "print(f'The number of enzymatic sequences to search space is: {len(df_search_space)}')\n",
        "df_search_space.head(2)\n",
        "df_train.head(2)"
      ]
    },
    {
      "cell_type": "markdown",
      "metadata": {
        "id": "yoSdv8SVBDCU"
      },
      "source": [
        "##### Raw data analysis\n",
        "for easier downstream applications"
      ]
    },
    {
      "cell_type": "code",
      "execution_count": null,
      "metadata": {
        "id": "vBuUW-q41tb7"
      },
      "outputs": [],
      "source": [
        "# parse raw file\n",
        "# upper case all sequences\n",
        "def up_seq(seq):\n",
        "    return seq.upper().replace('-','')\n",
        "\n",
        "\n",
        "df_train[\"enz_seq\"] = df_train.enz_seq.apply(up_seq)\n",
        "df_search_space[\"enz_seq\"] = df_search_space.enz_seq.apply(up_seq)\n",
        "\n",
        "# get rid of sequences with illegitimate amino acids\n",
        "df_train = df_train.loc[~df_train[\"enz_seq\"].str.contains('B|J|O|U|X|Z')]\n",
        "df_search_space = df_search_space.loc[~df_search_space[\"enz_seq\"].str.contains('B|J|O|U|X|Z')]\n",
        "\n",
        "# create enzyme alias\n",
        "enz_alias_train = [f'enz_{i}' for i in range(len(df_train['enz_name']))]\n",
        "df_train = df_train.assign(enz_alias=enz_alias_train)\n",
        "enz_alias_search_space = [f'search_space_enz_{i}' for i in range(len(df_search_space['enz_name']))]\n",
        "df_search_space = df_search_space.assign(enz_alias=enz_alias_search_space)\n",
        "\n",
        "# enzyme alias to original enzyme name mapping\n",
        "folder='./analysis/mappings'\n",
        "if not os.path.exists(folder):\n",
        "    os.makedirs(folder)\n",
        "enz_train_name_map = folder + \"/train_enz_map.csv\"\n",
        "enz_search_space_name_map = folder + \"/search_space_enz_map.csv\"\n",
        "df_train.loc[:, [\"enz_alias\", \"enz_name\"]].to_csv(enz_train_name_map, index=False, header=False)\n",
        "df_search_space.loc[:, [\"enz_alias\", \"enz_name\"]].to_csv(enz_search_space_name_map, index=False, header=False)\n",
        "\n",
        "# names in fasta\n",
        "folder='./analysis/seq'\n",
        "if not os.path.exists(folder):\n",
        "    os.makedirs(folder)\n",
        "enz_train_fasta = folder + \"/train_enz.fa\"\n",
        "enz_search_space_fasta = folder + \"/search_space_enz.fa\"\n",
        "\n",
        "\n",
        "train_fasta_stream = open(enz_train_fasta, 'w')\n",
        "search_space_fasta_stream = open(enz_search_space_fasta, \"w\")\n",
        "\n",
        "for value in df_train.loc[:, [\"enz_alias\", \"enz_seq\"]].values:\n",
        "    train_fasta_stream.write(f\">{value[0]}\\n{value[1]}\\n\")\n",
        "\n",
        "for value in df_search_space.loc[:, [\"enz_alias\", \"enz_seq\"]].values:\n",
        "    search_space_fasta_stream.write(f\">{value[0]}\\n{value[1]}\\n\")\n",
        "\n",
        "train_fasta_stream.close()\n",
        "search_space_fasta_stream.close()\n",
        "\n",
        "# create csv file of sequence\n",
        "enz_train_csv = folder + \"/train_enz.csv\"\n",
        "enz_search_space_csv = folder + \"/search_space_enz.csv\"\n",
        "df_train.loc[:, [\"enz_alias\", \"enz_seq\"]].to_csv(enz_train_csv, header=False, index=False)\n",
        "df_search_space.loc[:, [\"enz_alias\", \"enz_seq\"]].to_csv(enz_search_space_csv, header=False, index=False)"
      ]
    },
    {
      "cell_type": "markdown",
      "metadata": {
        "id": "f6LDtdSIb9Mj"
      },
      "source": [
        "##### Creating labels"
      ]
    },
    {
      "cell_type": "code",
      "execution_count": null,
      "metadata": {
        "id": "MV7nudeFbyvO"
      },
      "outputs": [],
      "source": [
        "# create labels as csv\n",
        "folder='./analysis/label'\n",
        "if not os.path.exists(folder):\n",
        "    os.makedirs(folder)\n",
        "train_labels = folder + \"/train_enz_label.csv\"\n",
        "df_train.loc[:, [\"enz_alias\", \"enz_label\"]].to_csv(train_labels, index=False, header=False)"
      ]
    },
    {
      "cell_type": "markdown",
      "metadata": {
        "id": "TQ-xdjdqcahZ"
      },
      "source": [
        "### Numerical coding of sequences (Descriptors)\n"
      ]
    },
    {
      "cell_type": "markdown",
      "metadata": {
        "id": "Er1zboD35HoY"
      },
      "source": [
        "The sequences are numerically encoded in 47 different ways. They are:\n",
        "\n",
        "21 types of physicochemical encodings using the [ifeatpro](https://github.com/deeprob/ifeatpro).\n",
        "\n",
        "21 types of PSSM-based encodings using the [pssmpro](https://pypi.org/project/pssmpro/).\n",
        "\n",
        "2 types of ngram-based encodings using the [ngrampro](https://pypi.org/project/ngrampro/).\n",
        "\n",
        "3 types of kernel-based encodings using an external tool written in R known as [KeBABS](https://bioconductor.org/packages/release/bioc/vignettes/kebabs/inst/doc/kebabs.pdf).\n",
        "\n"
      ]
    },
    {
      "cell_type": "markdown",
      "metadata": {
        "id": "6UyMSgkZ5QGy"
      },
      "source": [
        "#### [Ifeatpro](https://github.com/deeprob/ifeatpro)\n",
        "The ifeatpro link can be used directly with a fasta file containing protein sequences in fasta format."
      ]
    },
    {
      "cell_type": "code",
      "execution_count": null,
      "metadata": {
        "colab": {
          "base_uri": "https://localhost:8080/"
        },
        "id": "O9tC1s0Kcq6J",
        "outputId": "6b0677a9-ecc0-409e-f51e-f30e41e428f0"
      },
      "outputs": [
        {
          "output_type": "stream",
          "name": "stdout",
          "text": [
            "Help on function get_all_features in module ifeatpro.features:\n",
            "\n",
            "get_all_features(fasta_file, output_dir)\n",
            "    A function to create 21 numerically encoded features for protein sequences\n",
            "    :param fasta_file: The path to a file that contains all the protein sequences in fasta format\n",
            "    :param output_dir: The path to a directory where the feature encoded files will be stored\n",
            "    :return: None\n",
            "\n"
          ]
        }
      ],
      "source": [
        "help(ipro.get_all_features)"
      ]
    },
    {
      "cell_type": "code",
      "execution_count": null,
      "metadata": {
        "colab": {
          "base_uri": "https://localhost:8080/"
        },
        "id": "lSk2qK2UcyOY",
        "outputId": "a99aed6f-ecc2-42ce-b0d9-74a3616706d0"
      },
      "outputs": [
        {
          "output_type": "stream",
          "name": "stdout",
          "text": [
            "Descriptor type: aac\n",
            "Descriptor type: cksaap\n",
            "Descriptor type: tpc\n",
            "Descriptor type: dpc\n",
            "Descriptor type: dde\n",
            "Descriptor type: gaac\n",
            "Descriptor type: cksaagp\n",
            "Descriptor type: gtpc\n",
            "Descriptor type: gdpc\n",
            "Descriptor type: moran\n",
            "Descriptor type: geary\n",
            "Descriptor type: nmbroto\n",
            "Descriptor type: ctdc\n",
            "Descriptor type: ctdt\n",
            "Descriptor type: ctdd\n",
            "Descriptor type: ctriad\n",
            "Descriptor type: ksctriad\n",
            "Descriptor type: socnumber\n",
            "Descriptor type: qsorder\n",
            "Descriptor type: paac\n",
            "Descriptor type: apaac\n",
            "Descriptor type: aac\n",
            "Descriptor type: cksaap\n",
            "Descriptor type: tpc\n",
            "Descriptor type: dpc\n",
            "Descriptor type: dde\n",
            "Descriptor type: gaac\n",
            "Descriptor type: cksaagp\n",
            "Descriptor type: gtpc\n",
            "Descriptor type: gdpc\n",
            "Descriptor type: moran\n",
            "Descriptor type: geary\n",
            "Descriptor type: nmbroto\n",
            "Descriptor type: ctdc\n",
            "Descriptor type: ctdt\n",
            "Descriptor type: ctdd\n",
            "Descriptor type: ctriad\n",
            "Descriptor type: ksctriad\n",
            "Descriptor type: socnumber\n",
            "Descriptor type: qsorder\n",
            "Descriptor type: paac\n",
            "Descriptor type: apaac\n"
          ]
        }
      ],
      "source": [
        "# Addresses\n",
        "train_fasta_file = \"./analysis/seq/train_enz.fa\"\n",
        "search_space_fasta_file = \"./analysis/seq/search_space_enz.fa\"\n",
        "\n",
        "train_output_dir = \"./analysis/features/ifeatpro/train/\"\n",
        "search_space_output_dir = \"./analysis/features/ifeatpro/search_space/\"\n",
        "\n",
        "os.makedirs(train_output_dir, exist_ok=True)\n",
        "os.makedirs(search_space_output_dir, exist_ok=True)\n",
        "\n",
        "ipro.get_all_features(train_fasta_file, train_output_dir)\n",
        "ipro.get_all_features(search_space_fasta_file, search_space_output_dir)"
      ]
    },
    {
      "cell_type": "markdown",
      "metadata": {
        "id": "HbMrBMtpk33S"
      },
      "source": [
        "#### [Pssmpro](https://pypi.org/project/pssmpro/)\n",
        "\n",
        "Pssmpro requires the pssm profile of protein sequences as input. At first, it is necessary to create the pssm profiles and then these profiles can be numerically encoded using the function provided by pssmpro. pssmpro also provides a function to create numerical encodings of protein sequences. The psiblast program path and an indexed blast database are required as function argument.\n",
        "\n"
      ]
    },
    {
      "cell_type": "markdown",
      "metadata": {
        "id": "5O7lcHpy6WVG"
      },
      "source": [
        "##### Creating pssm profiles"
      ]
    },
    {
      "cell_type": "code",
      "execution_count": null,
      "metadata": {
        "colab": {
          "base_uri": "https://localhost:8080/"
        },
        "id": "yN3nQ-tOk7W4",
        "outputId": "3602610b-1cc0-4618-9243-9874764ea6f3"
      },
      "outputs": [
        {
          "output_type": "stream",
          "name": "stdout",
          "text": [
            "Help on function create_pssm_profile in module pssmpro.features:\n",
            "\n",
            "create_pssm_profile(seq_file, out_dir, psiblast_exec, database_prefix, num_threads=24)\n",
            "    A function to create psiblast or pssm profile for protein sequences\n",
            "    :param seq_file: A csv file with name of the protein followed by its sequence separated by a comma\n",
            "    :param out_dir: The directory where the user would like to store the pssm profiles of all the sequences\n",
            "    :param psiblast_exec: The path of the psiblast executable. psiblast program needs to be installed\n",
            "    :param database_prefix: The path of the indexed blast database directory prefix\n",
            "    :param num_threads: Number of threads to use while creating the psiblast profile\n",
            "    :return: The output directory where the psiblast/pssm profiles are stored\n",
            "\n"
          ]
        }
      ],
      "source": [
        "help(ppro.create_pssm_profile)"
      ]
    },
    {
      "cell_type": "markdown",
      "metadata": {
        "id": "C_OWDU6hrFQb"
      },
      "source": [
        "###### Installation Blast and download database swissprot"
      ]
    },
    {
      "cell_type": "code",
      "execution_count": null,
      "metadata": {
        "colab": {
          "base_uri": "https://localhost:8080/"
        },
        "id": "tJPAznNdogt_",
        "outputId": "b778ebf5-33b1-49d9-f085-b36846bc107b"
      },
      "outputs": [
        {
          "output_type": "stream",
          "name": "stdout",
          "text": [
            "Collecting biopython\n",
            "  Downloading biopython-1.85-cp311-cp311-manylinux_2_17_x86_64.manylinux2014_x86_64.whl.metadata (13 kB)\n",
            "Requirement already satisfied: numpy in /usr/local/lib/python3.11/dist-packages (from biopython) (2.0.2)\n",
            "Downloading biopython-1.85-cp311-cp311-manylinux_2_17_x86_64.manylinux2014_x86_64.whl (3.3 MB)\n",
            "\u001b[2K   \u001b[90m━━━━━━━━━━━━━━━━━━━━━━━━━━━━━━━━━━━━━━━━\u001b[0m \u001b[32m3.3/3.3 MB\u001b[0m \u001b[31m26.9 MB/s\u001b[0m eta \u001b[36m0:00:00\u001b[0m\n",
            "\u001b[?25hInstalling collected packages: biopython\n",
            "Successfully installed biopython-1.85\n",
            "--2025-05-05 18:22:42--  https://ftp.ncbi.nlm.nih.gov/blast/db/FASTA/swissprot.gz\n",
            "Resolving ftp.ncbi.nlm.nih.gov (ftp.ncbi.nlm.nih.gov)... 130.14.250.7, 130.14.250.10, 130.14.250.11, ...\n",
            "Connecting to ftp.ncbi.nlm.nih.gov (ftp.ncbi.nlm.nih.gov)|130.14.250.7|:443... connected.\n",
            "HTTP request sent, awaiting response... 200 OK\n",
            "Length: 143234298 (137M) [application/x-gzip]\n",
            "Saving to: ‘swissprot.gz’\n",
            "\n",
            "swissprot.gz        100%[===================>] 136.60M  65.9MB/s    in 2.1s    \n",
            "\n",
            "2025-05-05 18:22:44 (65.9 MB/s) - ‘swissprot.gz’ saved [143234298/143234298]\n",
            "\n"
          ]
        }
      ],
      "source": [
        "!pip install biopython #Install blast package\n",
        "#download database to make blast\n",
        "#linux, colab or macOS\n",
        "!wget https://ftp.ncbi.nlm.nih.gov/blast/db/FASTA/swissprot.gz # linux or colab\n",
        "#!wget ftp://ftp.uniprot.org/pub/databases/uniprot/current_release/knowledgebase/complete/uniprot_sprot.fasta.gz\n",
        "\n",
        "#windows\n",
        "#import urllib.request\n",
        "#url = \"https://ftp.ncbi.nlm.nih.gov/blast/db/FASTA/swissprot.gz\"\n",
        "#output_file = \"swissprot.gz\"\n",
        "#urllib.request.urlretrieve(url, output_file)\n"
      ]
    },
    {
      "cell_type": "code",
      "execution_count": null,
      "metadata": {
        "id": "Q8wGHZgTpIuq"
      },
      "outputs": [],
      "source": [
        "# linux or colab\n",
        "!gunzip swissprot.gz\n",
        "#!gunzip uniprot_sprot.fasta.gz\n",
        "# windows\n",
        "#import gzip\n",
        "#import shutil\n",
        "\n",
        "#with gzip.open('swissprot.gz', 'rb') as f_in:\n",
        "#    with open('swissprot', 'wb') as f_out:\n",
        "#        shutil.copyfileobj(f_in, f_out)"
      ]
    },
    {
      "cell_type": "code",
      "execution_count": null,
      "metadata": {
        "colab": {
          "base_uri": "https://localhost:8080/"
        },
        "id": "TnBDLO7lL3qM",
        "outputId": "9bb1c08b-4df2-4652-d8c7-3d9da1ad43de"
      },
      "outputs": [
        {
          "output_type": "stream",
          "name": "stdout",
          "text": [
            "Reading package lists... Done\n",
            "Building dependency tree... Done\n",
            "Reading state information... Done\n",
            "The following additional packages will be installed:\n",
            "  ncbi-data\n",
            "The following NEW packages will be installed:\n",
            "  ncbi-blast+ ncbi-data\n",
            "0 upgraded, 2 newly installed, 0 to remove and 34 not upgraded.\n",
            "Need to get 15.8 MB of archives.\n",
            "After this operation, 71.8 MB of additional disk space will be used.\n",
            "Get:1 http://archive.ubuntu.com/ubuntu jammy/universe amd64 ncbi-data all 6.1.20170106+dfsg1-9 [3,519 kB]\n",
            "Get:2 http://archive.ubuntu.com/ubuntu jammy/universe amd64 ncbi-blast+ amd64 2.12.0+ds-3build1 [12.3 MB]\n",
            "Fetched 15.8 MB in 1s (13.1 MB/s)\n",
            "Selecting previously unselected package ncbi-data.\n",
            "(Reading database ... 126101 files and directories currently installed.)\n",
            "Preparing to unpack .../ncbi-data_6.1.20170106+dfsg1-9_all.deb ...\n",
            "Unpacking ncbi-data (6.1.20170106+dfsg1-9) ...\n",
            "Selecting previously unselected package ncbi-blast+.\n",
            "Preparing to unpack .../ncbi-blast+_2.12.0+ds-3build1_amd64.deb ...\n",
            "Unpacking ncbi-blast+ (2.12.0+ds-3build1) ...\n",
            "Setting up ncbi-data (6.1.20170106+dfsg1-9) ...\n",
            "Setting up ncbi-blast+ (2.12.0+ds-3build1) ...\n",
            "Processing triggers for man-db (2.10.2-1) ...\n",
            "Processing triggers for hicolor-icon-theme (0.17-2) ...\n"
          ]
        }
      ],
      "source": [
        "# We install blast in the environment\n",
        "!apt-get install ncbi-blast+\n",
        "# You can also download the executables and run them.\n",
        "#!wget ftp://ftp.ncbi.nlm.nih.gov/blast/executables/blast+/2.9.0/ncbi-blast-2.9.0+-x64-linux.tar.gz\n",
        "# Unzip either of the two\n",
        "#!tar -zxvf ncbi-blast-2.9.0+-x64-linux.tar.gz\n",
        "#!gunzip ncbi-blast-2.9.0+-x64-linux.tar.gz\n",
        "# We add it to the directory so that it can be executed\n",
        "#os.environ['PATH'] += \":/content/ncbi-blast-2.9.0+/bin\""
      ]
    },
    {
      "cell_type": "code",
      "execution_count": null,
      "metadata": {
        "colab": {
          "base_uri": "https://localhost:8080/"
        },
        "id": "fQXFHr6ES5YJ",
        "outputId": "f99ecd86-3702-4702-dd56-f619c2e63211"
      },
      "outputs": [
        {
          "output_type": "stream",
          "name": "stdout",
          "text": [
            "\n",
            "\n",
            "Building a new DB, current time: 05/05/2025 18:23:10\n",
            "New DB name:   /content/db/swissprot\n",
            "New DB title:  swissprot.fasta\n",
            "Sequence type: Protein\n",
            "Keep MBits: T\n",
            "Maximum file size: 1000000000B\n",
            "Adding sequences from FASTA; added 482697 sequences in 18.7495 seconds.\n",
            "\n",
            "\n"
          ]
        }
      ],
      "source": [
        "# We generate the database for blast from the downloaded one\n",
        "os.rename('swissprot', 'swissprot.fasta')\n",
        "#!makeblastdb -in uniprot_sprot.fasta -dbtype prot -out ./db/sprot\n",
        "!makeblastdb -in swissprot.fasta -dbtype prot -out ./db/swissprot"
      ]
    },
    {
      "cell_type": "markdown",
      "metadata": {
        "id": "JHyGJuMCrdwZ"
      },
      "source": [
        "###### Generating psiblast profile"
      ]
    },
    {
      "cell_type": "code",
      "execution_count": null,
      "metadata": {
        "colab": {
          "base_uri": "https://localhost:8080/",
          "height": 1000
        },
        "id": "bf19ODXJmqz6",
        "outputId": "83679efc-a3a4-43c9-b810-5def669f6d25"
      },
      "outputs": [
        {
          "output_type": "stream",
          "name": "stdout",
          "text": [
            "Generating psiblast profile for protein: enz_0\n",
            "Generating psiblast profile for protein: enz_1\n",
            "Generating psiblast profile for protein: enz_2\n",
            "Generating psiblast profile for protein: enz_3\n",
            "Generating psiblast profile for protein: enz_4\n",
            "Generating psiblast profile for protein: enz_5\n",
            "Generating psiblast profile for protein: enz_6\n",
            "Generating psiblast profile for protein: enz_7\n",
            "Generating psiblast profile for protein: enz_8\n",
            "Generating psiblast profile for protein: enz_9\n",
            "Generating psiblast profile for protein: enz_10\n",
            "Generating psiblast profile for protein: enz_11\n",
            "Generating psiblast profile for protein: enz_12\n",
            "Generating psiblast profile for protein: enz_13\n",
            "Generating psiblast profile for protein: enz_14\n",
            "Generating psiblast profile for protein: enz_15\n",
            "Generating psiblast profile for protein: enz_16\n",
            "Generating psiblast profile for protein: enz_17\n",
            "Generating psiblast profile for protein: enz_18\n",
            "Generating psiblast profile for protein: enz_19\n",
            "Generating psiblast profile for protein: enz_20\n",
            "Generating psiblast profile for protein: enz_21\n",
            "Generating psiblast profile for protein: enz_22\n",
            "Generating psiblast profile for protein: enz_23\n",
            "Generating psiblast profile for protein: enz_24\n",
            "Generating psiblast profile for protein: enz_25\n",
            "Generating psiblast profile for protein: enz_26\n",
            "Generating psiblast profile for protein: enz_27\n",
            "Generating psiblast profile for protein: enz_28\n",
            "Generating psiblast profile for protein: enz_29\n",
            "Generating psiblast profile for protein: enz_30\n",
            "Generating psiblast profile for protein: enz_31\n",
            "Generating psiblast profile for protein: enz_32\n",
            "Generating psiblast profile for protein: enz_33\n",
            "Generating psiblast profile for protein: enz_34\n",
            "Generating psiblast profile for protein: enz_35\n",
            "Generating psiblast profile for protein: enz_36\n",
            "Generating psiblast profile for protein: enz_37\n",
            "Generating psiblast profile for protein: enz_38\n",
            "Generating psiblast profile for protein: enz_39\n",
            "Generating psiblast profile for protein: enz_40\n",
            "Generating psiblast profile for protein: enz_41\n",
            "Generating psiblast profile for protein: enz_42\n",
            "Generating psiblast profile for protein: enz_43\n",
            "Generating psiblast profile for protein: enz_44\n",
            "Generating psiblast profile for protein: enz_45\n",
            "Generating psiblast profile for protein: enz_46\n",
            "Generating psiblast profile for protein: enz_47\n",
            "Generating psiblast profile for protein: enz_48\n",
            "Generating psiblast profile for protein: enz_49\n",
            "Generating psiblast profile for protein: enz_50\n",
            "Generating psiblast profile for protein: enz_51\n",
            "Generating psiblast profile for protein: enz_52\n",
            "Generating psiblast profile for protein: enz_53\n",
            "Generating psiblast profile for protein: enz_54\n",
            "Generating psiblast profile for protein: enz_55\n",
            "Generating psiblast profile for protein: enz_56\n",
            "Generating psiblast profile for protein: enz_57\n",
            "Generating psiblast profile for protein: enz_58\n",
            "Generating psiblast profile for protein: enz_59\n",
            "Generating psiblast profile for protein: enz_60\n",
            "Generating psiblast profile for protein: enz_61\n",
            "Generating psiblast profile for protein: enz_62\n",
            "Generating psiblast profile for protein: enz_63\n",
            "Generating psiblast profile for protein: enz_64\n",
            "Generating psiblast profile for protein: enz_65\n",
            "Generating psiblast profile for protein: enz_66\n",
            "Generating psiblast profile for protein: enz_67\n",
            "Generating psiblast profile for protein: enz_68\n",
            "Generating psiblast profile for protein: enz_69\n",
            "Generating psiblast profile for protein: enz_70\n",
            "Generating psiblast profile for protein: enz_71\n",
            "Generating psiblast profile for protein: enz_72\n",
            "Generating psiblast profile for protein: enz_73\n",
            "Generating psiblast profile for protein: enz_74\n",
            "Generating psiblast profile for protein: enz_75\n",
            "Generating psiblast profile for protein: enz_76\n",
            "Generating psiblast profile for protein: enz_77\n",
            "Generating psiblast profile for protein: enz_78\n",
            "Generating psiblast profile for protein: enz_79\n",
            "Generating psiblast profile for protein: enz_80\n",
            "Generating psiblast profile for protein: enz_81\n",
            "Generating psiblast profile for protein: enz_82\n",
            "Generating psiblast profile for protein: enz_83\n",
            "Generating psiblast profile for protein: enz_84\n",
            "Generating psiblast profile for protein: enz_85\n",
            "Generating psiblast profile for protein: enz_86\n",
            "Generating psiblast profile for protein: enz_87\n",
            "Generating psiblast profile for protein: enz_88\n",
            "Generating psiblast profile for protein: enz_89\n",
            "Generating psiblast profile for protein: enz_90\n",
            "Generating psiblast profile for protein: enz_91\n",
            "Generating psiblast profile for protein: enz_92\n",
            "Generating psiblast profile for protein: enz_93\n",
            "Generating psiblast profile for protein: enz_94\n",
            "Generating psiblast profile for protein: enz_95\n",
            "Generating psiblast profile for protein: enz_96\n",
            "Generating psiblast profile for protein: enz_97\n",
            "Generating psiblast profile for protein: enz_98\n",
            "Generating psiblast profile for protein: enz_99\n"
          ]
        },
        {
          "output_type": "execute_result",
          "data": {
            "text/plain": [
              "'./analysis/features/pssmpro/pssm_profiles/train/'"
            ],
            "application/vnd.google.colaboratory.intrinsic+json": {
              "type": "string"
            }
          },
          "metadata": {},
          "execution_count": 16
        }
      ],
      "source": [
        "#database_pre = \"db/sprot\"\n",
        "database_pre = \"./db/swissprot\"\n",
        "train_seq_file = \"./analysis/seq/train_enz.csv\"\n",
        "search_space_seq_file = \"./analysis/seq/search_space_enz.csv\"\n",
        "psiblast_path = \"/usr/bin/psiblast\"\n",
        "output_dir_train = \"./analysis/features/pssmpro/pssm_profiles/train/\"\n",
        "os.makedirs(output_dir_train, exist_ok=True)\n",
        "ppro.create_pssm_profile(train_seq_file, output_dir_train, psiblast_path, database_pre)"
      ]
    },
    {
      "cell_type": "code",
      "execution_count": null,
      "metadata": {
        "colab": {
          "base_uri": "https://localhost:8080/"
        },
        "id": "OJpA071utSnx",
        "outputId": "2db74d2a-e60b-4ab0-94b3-a2f70e4ea2f3"
      },
      "outputs": [
        {
          "output_type": "stream",
          "name": "stdout",
          "text": [
            "Generating psiblast profile for protein: search_space_enz_0\n",
            "Generating psiblast profile for protein: search_space_enz_1\n",
            "Generating psiblast profile for protein: search_space_enz_2\n",
            "Generating psiblast profile for protein: search_space_enz_3\n",
            "Generating psiblast profile for protein: search_space_enz_4\n",
            "Generating psiblast profile for protein: search_space_enz_5\n",
            "Generating psiblast profile for protein: search_space_enz_6\n",
            "Generating psiblast profile for protein: search_space_enz_7\n",
            "Generating psiblast profile for protein: search_space_enz_8\n",
            "Generating psiblast profile for protein: search_space_enz_9\n",
            "Generating psiblast profile for protein: search_space_enz_10\n",
            "Generating psiblast profile for protein: search_space_enz_11\n",
            "Generating psiblast profile for protein: search_space_enz_12\n",
            "Generating psiblast profile for protein: search_space_enz_13\n",
            "Generating psiblast profile for protein: search_space_enz_14\n",
            "Generating psiblast profile for protein: search_space_enz_15\n",
            "Generating psiblast profile for protein: search_space_enz_16\n",
            "Generating psiblast profile for protein: search_space_enz_17\n",
            "Generating psiblast profile for protein: search_space_enz_18\n",
            "Generating psiblast profile for protein: search_space_enz_19\n",
            "Generating psiblast profile for protein: search_space_enz_20\n",
            "Generating psiblast profile for protein: search_space_enz_21\n",
            "Generating psiblast profile for protein: search_space_enz_22\n",
            "Generating psiblast profile for protein: search_space_enz_23\n",
            "Generating psiblast profile for protein: search_space_enz_24\n",
            "Generating psiblast profile for protein: search_space_enz_25\n",
            "Generating psiblast profile for protein: search_space_enz_26\n",
            "Generating psiblast profile for protein: search_space_enz_27\n",
            "Generating psiblast profile for protein: search_space_enz_28\n",
            "Generating psiblast profile for protein: search_space_enz_29\n",
            "Generating psiblast profile for protein: search_space_enz_30\n",
            "Generating psiblast profile for protein: search_space_enz_31\n",
            "Generating psiblast profile for protein: search_space_enz_32\n",
            "Generating psiblast profile for protein: search_space_enz_33\n",
            "Generating psiblast profile for protein: search_space_enz_34\n",
            "Generating psiblast profile for protein: search_space_enz_35\n",
            "Generating psiblast profile for protein: search_space_enz_36\n",
            "Generating psiblast profile for protein: search_space_enz_37\n",
            "Generating psiblast profile for protein: search_space_enz_38\n",
            "Generating psiblast profile for protein: search_space_enz_39\n",
            "Generating psiblast profile for protein: search_space_enz_40\n",
            "Generating psiblast profile for protein: search_space_enz_41\n",
            "Generating psiblast profile for protein: search_space_enz_42\n",
            "Generating psiblast profile for protein: search_space_enz_43\n",
            "Generating psiblast profile for protein: search_space_enz_44\n",
            "Generating psiblast profile for protein: search_space_enz_45\n",
            "Generating psiblast profile for protein: search_space_enz_46\n",
            "Generating psiblast profile for protein: search_space_enz_47\n",
            "Generating psiblast profile for protein: search_space_enz_48\n",
            "Generating psiblast profile for protein: search_space_enz_49\n",
            "Generating psiblast profile for protein: search_space_enz_50\n",
            "Generating psiblast profile for protein: search_space_enz_51\n",
            "Generating psiblast profile for protein: search_space_enz_52\n",
            "Generating psiblast profile for protein: search_space_enz_53\n",
            "Generating psiblast profile for protein: search_space_enz_54\n",
            "Generating psiblast profile for protein: search_space_enz_55\n",
            "Generating psiblast profile for protein: search_space_enz_56\n",
            "Generating psiblast profile for protein: search_space_enz_57\n",
            "Generating psiblast profile for protein: search_space_enz_58\n",
            "Generating psiblast profile for protein: search_space_enz_59\n",
            "Generating psiblast profile for protein: search_space_enz_60\n",
            "Generating psiblast profile for protein: search_space_enz_61\n",
            "Generating psiblast profile for protein: search_space_enz_62\n",
            "Generating psiblast profile for protein: search_space_enz_63\n",
            "Generating psiblast profile for protein: search_space_enz_64\n",
            "Generating psiblast profile for protein: search_space_enz_65\n",
            "Generating psiblast profile for protein: search_space_enz_66\n",
            "Generating psiblast profile for protein: search_space_enz_67\n",
            "Generating psiblast profile for protein: search_space_enz_68\n",
            "Generating psiblast profile for protein: search_space_enz_69\n",
            "Generating psiblast profile for protein: search_space_enz_70\n",
            "Generating psiblast profile for protein: search_space_enz_71\n",
            "Generating psiblast profile for protein: search_space_enz_72\n",
            "Generating psiblast profile for protein: search_space_enz_73\n",
            "Generating psiblast profile for protein: search_space_enz_74\n",
            "Generating psiblast profile for protein: search_space_enz_75\n",
            "Generating psiblast profile for protein: search_space_enz_76\n",
            "Generating psiblast profile for protein: search_space_enz_77\n",
            "Generating psiblast profile for protein: search_space_enz_78\n",
            "Generating psiblast profile for protein: search_space_enz_79\n",
            "Generating psiblast profile for protein: search_space_enz_80\n",
            "Generating psiblast profile for protein: search_space_enz_81\n",
            "Generating psiblast profile for protein: search_space_enz_82\n",
            "Generating psiblast profile for protein: search_space_enz_83\n",
            "Generating psiblast profile for protein: search_space_enz_84\n",
            "Generating psiblast profile for protein: search_space_enz_85\n",
            "Generating psiblast profile for protein: search_space_enz_86\n",
            "Generating psiblast profile for protein: search_space_enz_87\n",
            "Generating psiblast profile for protein: search_space_enz_88\n",
            "Generating psiblast profile for protein: search_space_enz_89\n",
            "Generating psiblast profile for protein: search_space_enz_90\n",
            "Generating psiblast profile for protein: search_space_enz_91\n",
            "Generating psiblast profile for protein: search_space_enz_92\n",
            "Generating psiblast profile for protein: search_space_enz_93\n",
            "Generating psiblast profile for protein: search_space_enz_94\n",
            "generated\n"
          ]
        }
      ],
      "source": [
        "output_dir_search_space = \"analysis/features/pssmpro/pssm_profiles/search_space/\"\n",
        "os.makedirs(output_dir_search_space, exist_ok=True)\n",
        "ppro.create_pssm_profile(search_space_seq_file, output_dir_search_space, psiblast_path, database_pre)\n",
        "print('generated')"
      ]
    },
    {
      "cell_type": "markdown",
      "metadata": {
        "id": "ichPjXFUzqvV"
      },
      "source": [
        "###### Generating features from profiles."
      ]
    },
    {
      "cell_type": "code",
      "execution_count": null,
      "metadata": {
        "colab": {
          "base_uri": "https://localhost:8080/"
        },
        "id": "rX7SymMrzjy9",
        "outputId": "6a372f22-a3c2-4fad-aec9-dd9b420e0a31"
      },
      "outputs": [
        {
          "output_type": "stream",
          "name": "stdout",
          "text": [
            "Help on function get_all_features in module pssmpro.features:\n",
            "\n",
            "get_all_features(pssm_dir, store_dir='./')\n",
            "\n"
          ]
        }
      ],
      "source": [
        "help(ppro.get_all_features)"
      ]
    },
    {
      "cell_type": "code",
      "execution_count": null,
      "metadata": {
        "id": "L85wV1sV1tOU"
      },
      "outputs": [],
      "source": [
        "train_out_dir = \"./analysis/features/pssmpro/train/\"\n",
        "search_space_out_dir = \"./analysis/features/pssmpro/search_space/\""
      ]
    },
    {
      "cell_type": "code",
      "execution_count": null,
      "metadata": {
        "colab": {
          "base_uri": "https://localhost:8080/"
        },
        "id": "xKL0jDsI1yzM",
        "outputId": "153ab830-11a8-4d18-93d1-bbd0322c67a4"
      },
      "outputs": [
        {
          "output_type": "execute_result",
          "data": {
            "text/plain": [
              "['aac_pssm',\n",
              " 'aadp_pssm',\n",
              " 'aatp',\n",
              " 'ab_pssm',\n",
              " 'd_fpssm',\n",
              " 'dp_pssm',\n",
              " 'dpc_pssm',\n",
              " 'edp',\n",
              " 'eedp',\n",
              " 'k_separated_bigrams_pssm',\n",
              " 'medp',\n",
              " 'pse_pssm',\n",
              " 'pssm_ac',\n",
              " 'pssm_cc',\n",
              " 'pssm_composition',\n",
              " 'rpm_pssm',\n",
              " 'rpssm',\n",
              " 's_fpssm',\n",
              " 'smoothed_pssm',\n",
              " 'tpc_pssm',\n",
              " 'tri_gram_pssm']"
            ]
          },
          "metadata": {},
          "execution_count": 20
        }
      ],
      "source": [
        "# It takes a while to generate the profiles\n",
        "os.makedirs(train_out_dir, exist_ok=True)\n",
        "ppro.get_all_features(\"./analysis/features/pssmpro/pssm_profiles/train/\", train_out_dir)"
      ]
    },
    {
      "cell_type": "code",
      "execution_count": null,
      "metadata": {
        "colab": {
          "base_uri": "https://localhost:8080/"
        },
        "id": "bJL6vdKR14gU",
        "outputId": "698c3ed0-658a-426e-fdc9-ae6198869fa1"
      },
      "outputs": [
        {
          "output_type": "execute_result",
          "data": {
            "text/plain": [
              "['aac_pssm',\n",
              " 'aadp_pssm',\n",
              " 'aatp',\n",
              " 'ab_pssm',\n",
              " 'd_fpssm',\n",
              " 'dp_pssm',\n",
              " 'dpc_pssm',\n",
              " 'edp',\n",
              " 'eedp',\n",
              " 'k_separated_bigrams_pssm',\n",
              " 'medp',\n",
              " 'pse_pssm',\n",
              " 'pssm_ac',\n",
              " 'pssm_cc',\n",
              " 'pssm_composition',\n",
              " 'rpm_pssm',\n",
              " 'rpssm',\n",
              " 's_fpssm',\n",
              " 'smoothed_pssm',\n",
              " 'tpc_pssm',\n",
              " 'tri_gram_pssm']"
            ]
          },
          "metadata": {},
          "execution_count": 21
        }
      ],
      "source": [
        "os.makedirs(search_space_out_dir, exist_ok=True)\n",
        "ppro.get_all_features(\"./analysis/features/pssmpro/pssm_profiles/search_space/\", search_space_out_dir)"
      ]
    },
    {
      "cell_type": "markdown",
      "metadata": {
        "id": "q8sHcXcg3ymm"
      },
      "source": [
        "#### [Ngrampro](https://pypi.org/project/ngrampro/)\n",
        "\n",
        "\n"
      ]
    },
    {
      "cell_type": "code",
      "source": [
        "from ngrampro import NGModel, GAANGModel"
      ],
      "metadata": {
        "id": "Sl_aNCH9yEpf"
      },
      "execution_count": null,
      "outputs": []
    },
    {
      "cell_type": "code",
      "source": [
        "train_enz_seq = \"./analysis/seq/train_enz.csv\"\n",
        "label_file = \"./analysis/label/train_enz_label.csv\"\n",
        "\n",
        "train_output_dir = \"./analysis/features/ifeatpro/train/\"\n",
        "search_space_output_dir = \"./analysis/features/ifeatpro/search_space/\"\n",
        "\n",
        "# create output directories\n",
        "kmer_train_dir = \"./analysis/features/ngrampro/kmer/train/\"\n",
        "kmer_search_space_dir = \"./analysis/features/ngrampro/kmer/search_space/\"\n",
        "gaakmer_train_dir = \"./analysis/features/ngrampro/gaakmer/train/\"\n",
        "gaakmer_search_space_dir = \"./analysis/features/ngrampro/gaakmer/search_space/\"\n",
        "\n",
        "os.makedirs(kmer_train_dir, exist_ok=True)\n",
        "os.makedirs(kmer_search_space_dir, exist_ok=True)\n",
        "os.makedirs(gaakmer_train_dir, exist_ok=True)\n",
        "os.makedirs(gaakmer_search_space_dir, exist_ok=True)"
      ],
      "metadata": {
        "id": "HpU6KrRPyMaB"
      },
      "execution_count": null,
      "outputs": []
    },
    {
      "cell_type": "code",
      "source": [
        "# Train\n",
        "df1 = pd.read_csv(train_enz_seq, header=None)\n",
        "df2 = pd.read_csv(label_file, header=None)\n",
        "train_df = df1.merge(df2, on=0)\n",
        "enz_names_train = train_df[0].values\n",
        "X_train = train_df.iloc[:, 1].values"
      ],
      "metadata": {
        "id": "vVqAFXgI5ZTD"
      },
      "execution_count": null,
      "outputs": []
    },
    {
      "cell_type": "code",
      "source": [
        "# search space\n",
        "test_enz_seq = \"./analysis/seq/search_space_enz.csv\"\n",
        "test_df = pd.read_csv(test_enz_seq, header=None)\n",
        "enz_names_search_space = test_df[0].values\n",
        "X_search_space = test_df.iloc[:, 1].values"
      ],
      "metadata": {
        "id": "b97HpsPB6MAa"
      },
      "execution_count": null,
      "outputs": []
    },
    {
      "cell_type": "code",
      "source": [
        "# Calculate descriptors with NGModel and GAANGModel\n",
        "# NGModel needs X_train, X_valid, X_test, but since we don't want splitting, we pass an empty array for X_valid\n",
        "ng = NGModel(X_train, np.array([]), X_search_space)\n",
        "gaang = GAANGModel(X_train, np.array([]), X_search_space)"
      ],
      "metadata": {
        "id": "k_Ao3ov8yIMK"
      },
      "execution_count": null,
      "outputs": []
    },
    {
      "cell_type": "code",
      "source": [
        "# NGModel (kmer)\n",
        "ng_train_df = pd.DataFrame(ng.x_train, index=enz_names_train)\n",
        "ng_train_df.to_csv(os.path.join(kmer_train_dir, \"kmer_train.csv\"))\n",
        "\n",
        "ng_search_space_df = pd.DataFrame(ng.x_test, index=enz_names_search_space)\n",
        "ng_search_space_df.to_csv(os.path.join(kmer_search_space_dir, \"kmer_search_space.csv\"))"
      ],
      "metadata": {
        "id": "pPOJYm0B79P4"
      },
      "execution_count": null,
      "outputs": []
    },
    {
      "cell_type": "code",
      "source": [
        "# GAANGModel (gaakmer)\n",
        "gaang_train_df = pd.DataFrame(gaang.x_train, index=enz_names_train)\n",
        "gaang_train_df.to_csv(os.path.join(gaakmer_train_dir, \"gaakmer_train.csv\"))\n",
        "\n",
        "gaang_search_space_df = pd.DataFrame(gaang.x_test, index=enz_names_search_space)\n",
        "gaang_search_space_df.to_csv(os.path.join(gaakmer_search_space_dir, \"gaakmer_search_space.csv\"))"
      ],
      "metadata": {
        "id": "7mwO4vp-8Gdn"
      },
      "execution_count": null,
      "outputs": []
    },
    {
      "cell_type": "markdown",
      "metadata": {
        "id": "j8-UM9sknDJH"
      },
      "source": [
        "#### [KeBABS](https://bioconductor.org/packages/release/bioc/vignettes/kebabs/inst/doc/kebabs.pdf)\n",
        "\n",
        "Kernel-based functions are created using an external software package called KeBABS. The Rscript used to generate the features called Kernels-KeBABs.r is located in the utils directory.\n"
      ]
    },
    {
      "cell_type": "markdown",
      "metadata": {
        "id": "i9_f0OwQ7erd"
      },
      "source": [
        "##### Run the R script"
      ]
    },
    {
      "cell_type": "code",
      "execution_count": null,
      "metadata": {
        "colab": {
          "base_uri": "https://localhost:8080/"
        },
        "id": "dTWRXU7AfwDT",
        "outputId": "3148a89f-f5ed-4513-b14c-9ed1ecb74292"
      },
      "outputs": [
        {
          "output_type": "stream",
          "name": "stdout",
          "text": [
            "\n",
            "R version 4.5.0 (2025-04-11) -- \"How About a Twenty-Six\"\n",
            "Copyright (C) 2025 The R Foundation for Statistical Computing\n",
            "Platform: x86_64-pc-linux-gnu\n",
            "\n",
            "R is free software and comes with ABSOLUTELY NO WARRANTY.\n",
            "You are welcome to redistribute it under certain conditions.\n",
            "Type 'license()' or 'licence()' for distribution details.\n",
            "\n",
            "  Natural language support but running in an English locale\n",
            "\n",
            "R is a collaborative project with many contributors.\n",
            "Type 'contributors()' for more information and\n",
            "'citation()' on how to cite R or R packages in publications.\n",
            "\n",
            "Type 'demo()' for some demos, 'help()' for on-line help, or\n",
            "'help.start()' for an HTML browser interface to help.\n",
            "Type 'q()' to quit R.\n",
            "\n",
            "> if (!requireNamespace('BiocManager', quietly = TRUE)) install.packages('BiocManager')\n",
            "Installing package into ‘/usr/local/lib/R/site-library’\n",
            "(as ‘lib’ is unspecified)\n",
            "trying URL 'https://cran.rstudio.com/src/contrib/BiocManager_1.30.25.tar.gz'\n",
            "Content type 'application/x-gzip' length 593414 bytes (579 KB)\n",
            "==================================================\n",
            "downloaded 579 KB\n",
            "\n",
            "* installing *source* package ‘BiocManager’ ...\n",
            "** this is package ‘BiocManager’ version ‘1.30.25’\n",
            "** package ‘BiocManager’ successfully unpacked and MD5 sums checked\n",
            "** using staged installation\n",
            "** R\n",
            "** inst\n",
            "** byte-compile and prepare package for lazy loading\n",
            "** help\n",
            "*** installing help indices\n",
            "** building package indices\n",
            "** installing vignettes\n",
            "** testing if installed package can be loaded from temporary location\n",
            "** testing if installed package can be loaded from final location\n",
            "** testing if installed package keeps a record of temporary installation path\n",
            "* DONE (BiocManager)\n",
            "\n",
            "The downloaded source packages are in\n",
            "\t‘/tmp/RtmphjQQqf/downloaded_packages’\n",
            "> \n",
            "\n",
            "R version 4.5.0 (2025-04-11) -- \"How About a Twenty-Six\"\n",
            "Copyright (C) 2025 The R Foundation for Statistical Computing\n",
            "Platform: x86_64-pc-linux-gnu\n",
            "\n",
            "R is free software and comes with ABSOLUTELY NO WARRANTY.\n",
            "You are welcome to redistribute it under certain conditions.\n",
            "Type 'license()' or 'licence()' for distribution details.\n",
            "\n",
            "  Natural language support but running in an English locale\n",
            "\n",
            "R is a collaborative project with many contributors.\n",
            "Type 'contributors()' for more information and\n",
            "'citation()' on how to cite R or R packages in publications.\n",
            "\n",
            "Type 'demo()' for some demos, 'help()' for on-line help, or\n",
            "'help.start()' for an HTML browser interface to help.\n",
            "Type 'q()' to quit R.\n",
            "\n",
            "> BiocManager::install('kebabs')\n",
            "'getOption(\"repos\")' replaces Bioconductor standard repositories, see\n",
            "'help(\"repositories\", package = \"BiocManager\")' for details.\n",
            "Replacement repositories:\n",
            "    CRAN: https://cran.rstudio.com\n",
            "Bioconductor version 3.21 (BiocManager 1.30.25), R 4.5.0 (2025-04-11)\n",
            "Installing package(s) 'BiocVersion', 'kebabs'\n",
            "also installing the dependencies ‘UCSC.utils’, ‘GenomeInfoDbData’, ‘BiocGenerics’, ‘GenomeInfoDb’, ‘proxy’, ‘Biostrings’, ‘kernlab’, ‘XVector’, ‘S4Vectors’, ‘e1071’, ‘LiblineaR’, ‘apcluster’, ‘IRanges’\n",
            "\n",
            "trying URL 'https://bioconductor.org/packages/3.21/bioc/src/contrib/UCSC.utils_1.4.0.tar.gz'\n",
            "trying URL 'https://bioconductor.org/packages/3.21/data/annotation/src/contrib/GenomeInfoDbData_1.2.14.tar.gz'\n",
            "trying URL 'https://bioconductor.org/packages/3.21/bioc/src/contrib/BiocGenerics_0.54.0.tar.gz'\n",
            "trying URL 'https://bioconductor.org/packages/3.21/bioc/src/contrib/GenomeInfoDb_1.44.0.tar.gz'\n",
            "trying URL 'https://cran.rstudio.com/src/contrib/proxy_0.4-27.tar.gz'\n",
            "trying URL 'https://bioconductor.org/packages/3.21/bioc/src/contrib/Biostrings_2.76.0.tar.gz'\n",
            "trying URL 'https://cran.rstudio.com/src/contrib/kernlab_0.9-33.tar.gz'\n",
            "trying URL 'https://bioconductor.org/packages/3.21/bioc/src/contrib/XVector_0.48.0.tar.gz'\n",
            "trying URL 'https://bioconductor.org/packages/3.21/bioc/src/contrib/S4Vectors_0.46.0.tar.gz'\n",
            "trying URL 'https://cran.rstudio.com/src/contrib/e1071_1.7-16.tar.gz'\n",
            "trying URL 'https://cran.rstudio.com/src/contrib/LiblineaR_2.10-24.tar.gz'\n",
            "trying URL 'https://cran.rstudio.com/src/contrib/apcluster_1.4.13.tar.gz'\n",
            "trying URL 'https://bioconductor.org/packages/3.21/bioc/src/contrib/IRanges_2.42.0.tar.gz'\n",
            "trying URL 'https://bioconductor.org/packages/3.21/bioc/src/contrib/BiocVersion_3.21.1.tar.gz'\n",
            "trying URL 'https://bioconductor.org/packages/3.21/bioc/src/contrib/kebabs_1.42.0.tar.gz'\n",
            "* installing *source* package ‘GenomeInfoDbData’ ...\n",
            "** this is package ‘GenomeInfoDbData’ version ‘1.2.14’\n",
            "** using staged installation\n",
            "** data\n",
            "** inst\n",
            "** help\n",
            "*** installing help indices\n",
            "** building package indices\n",
            "** testing if installed package can be loaded from temporary location\n",
            "** testing if installed package can be loaded from final location\n",
            "** testing if installed package keeps a record of temporary installation path\n",
            "* DONE (GenomeInfoDbData)\n",
            "* installing *source* package ‘BiocGenerics’ ...\n",
            "** this is package ‘BiocGenerics’ version ‘0.54.0’\n",
            "** using staged installation\n",
            "** R\n",
            "** inst\n",
            "** byte-compile and prepare package for lazy loading\n",
            "Creating a new generic function for ‘aperm’ in package ‘BiocGenerics’\n",
            "Creating a new generic function for ‘append’ in package ‘BiocGenerics’\n",
            "Creating a new generic function for ‘as.data.frame’ in package ‘BiocGenerics’\n",
            "Creating a new generic function for ‘cbind’ in package ‘BiocGenerics’\n",
            "Creating a new generic function for ‘rbind’ in package ‘BiocGenerics’\n",
            "Creating a new generic function for ‘do.call’ in package ‘BiocGenerics’\n",
            "Creating a new generic function for ‘duplicated’ in package ‘BiocGenerics’\n",
            "Creating a new generic function for ‘anyDuplicated’ in package ‘BiocGenerics’\n",
            "Creating a new generic function for ‘eval’ in package ‘BiocGenerics’\n",
            "Creating a new generic function for ‘pmax’ in package ‘BiocGenerics’\n",
            "Creating a new generic function for ‘pmin’ in package ‘BiocGenerics’\n",
            "Creating a new generic function for ‘pmax.int’ in package ‘BiocGenerics’\n",
            "Creating a new generic function for ‘pmin.int’ in package ‘BiocGenerics’\n",
            "Creating a new generic function for ‘Reduce’ in package ‘BiocGenerics’\n",
            "Creating a new generic function for ‘Filter’ in package ‘BiocGenerics’\n",
            "Creating a new generic function for ‘Find’ in package ‘BiocGenerics’\n",
            "Creating a new generic function for ‘Map’ in package ‘BiocGenerics’\n",
            "Creating a new generic function for ‘Position’ in package ‘BiocGenerics’\n",
            "Creating a new generic function for ‘get’ in package ‘BiocGenerics’\n",
            "Creating a new generic function for ‘mget’ in package ‘BiocGenerics’\n",
            "Creating a new generic function for ‘grep’ in package ‘BiocGenerics’\n",
            "Creating a new generic function for ‘grepl’ in package ‘BiocGenerics’\n",
            "Creating a new generic function for ‘is.unsorted’ in package ‘BiocGenerics’\n",
            "Creating a new generic function for ‘lapply’ in package ‘BiocGenerics’\n",
            "Creating a new generic function for ‘sapply’ in package ‘BiocGenerics’\n",
            "Creating a new generic function for ‘mapply’ in package ‘BiocGenerics’\n",
            "Creating a new generic function for ‘match’ in package ‘BiocGenerics’\n",
            "Creating a new generic function for ‘order’ in package ‘BiocGenerics’\n",
            "Creating a new generic function for ‘paste’ in package ‘BiocGenerics’\n",
            "Creating a new generic function for ‘rank’ in package ‘BiocGenerics’\n",
            "Creating a new generic function for ‘rownames’ in package ‘BiocGenerics’\n",
            "Creating a new generic function for ‘colnames’ in package ‘BiocGenerics’\n",
            "Creating a new generic function for ‘saveRDS’ in package ‘BiocGenerics’\n",
            "Creating a new generic function for ‘table’ in package ‘BiocGenerics’\n",
            "Creating a new generic function for ‘tapply’ in package ‘BiocGenerics’\n",
            "Creating a new generic function for ‘unique’ in package ‘BiocGenerics’\n",
            "Creating a new generic function for ‘unsplit’ in package ‘BiocGenerics’\n",
            "Creating a new generic function for ‘which.min’ in package ‘BiocGenerics’\n",
            "Creating a new generic function for ‘which.max’ in package ‘BiocGenerics’\n",
            "Creating a new generic function for ‘IQR’ in package ‘BiocGenerics’\n",
            "Creating a new generic function for ‘mad’ in package ‘BiocGenerics’\n",
            "Creating a new generic function for ‘var’ in package ‘BiocGenerics’\n",
            "Creating a new generic function for ‘sd’ in package ‘BiocGenerics’\n",
            "Creating a new generic function for ‘xtabs’ in package ‘BiocGenerics’\n",
            "Creating a new generic function for ‘basename’ in package ‘BiocGenerics’\n",
            "Creating a new generic function for ‘dirname’ in package ‘BiocGenerics’\n",
            "** help\n",
            "*** installing help indices\n",
            "** building package indices\n",
            "** testing if installed package can be loaded from temporary location\n",
            "** testing if installed package can be loaded from final location\n",
            "** testing if installed package keeps a record of temporary installation path\n",
            "* DONE (BiocGenerics)\n",
            "* installing *source* package ‘proxy’ ...\n",
            "** this is package ‘proxy’ version ‘0.4-27’\n",
            "** package ‘proxy’ successfully unpacked and MD5 sums checked\n",
            "** using staged installation\n",
            "** libs\n",
            "using C compiler: ‘gcc (Ubuntu 11.4.0-1ubuntu1~22.04) 11.4.0’\n",
            "gcc -I\"/usr/share/R/include\" -DNDEBUG       -fpic  -g -O2 -ffile-prefix-map=/build/r-base-TYDrW1/r-base-4.5.0=. -fstack-protector-strong -Wformat -Werror=format-security -Wdate-time -D_FORTIFY_SOURCE=2  -c apply.c -o apply.o\n",
            "gcc -I\"/usr/share/R/include\" -DNDEBUG       -fpic  -g -O2 -ffile-prefix-map=/build/r-base-TYDrW1/r-base-4.5.0=. -fstack-protector-strong -Wformat -Werror=format-security -Wdate-time -D_FORTIFY_SOURCE=2  -c arrayIndex.c -o arrayIndex.o\n",
            "gcc -I\"/usr/share/R/include\" -DNDEBUG       -fpic  -g -O2 -ffile-prefix-map=/build/r-base-TYDrW1/r-base-4.5.0=. -fstack-protector-strong -Wformat -Werror=format-security -Wdate-time -D_FORTIFY_SOURCE=2  -c distance.c -o distance.o\n",
            "gcc -I\"/usr/share/R/include\" -DNDEBUG       -fpic  -g -O2 -ffile-prefix-map=/build/r-base-TYDrW1/r-base-4.5.0=. -fstack-protector-strong -Wformat -Werror=format-security -Wdate-time -D_FORTIFY_SOURCE=2  -c dll.c -o dll.o\n",
            "gcc -I\"/usr/share/R/include\" -DNDEBUG       -fpic  -g -O2 -ffile-prefix-map=/build/r-base-TYDrW1/r-base-4.5.0=. -fstack-protector-strong -Wformat -Werror=format-security -Wdate-time -D_FORTIFY_SOURCE=2  -c util.c -o util.o\n",
            "gcc -shared -L/usr/lib/R/lib -Wl,-Bsymbolic-functions -flto=auto -ffat-lto-objects -flto=auto -Wl,-z,relro -o proxy.so apply.o arrayIndex.o distance.o dll.o util.o -L/usr/lib/R/lib -lR\n",
            "installing to /usr/local/lib/R/site-library/00LOCK-proxy/00new/proxy/libs\n",
            "** R\n",
            "** inst\n",
            "** byte-compile and prepare package for lazy loading\n",
            "** help\n",
            "*** installing help indices\n",
            "** building package indices\n",
            "** installing vignettes\n",
            "** testing if installed package can be loaded from temporary location\n",
            "** checking absolute paths in shared objects and dynamic libraries\n",
            "** testing if installed package can be loaded from final location\n",
            "** testing if installed package keeps a record of temporary installation path\n",
            "* DONE (proxy)\n",
            "* installing *source* package ‘kernlab’ ...\n",
            "** this is package ‘kernlab’ version ‘0.9-33’\n",
            "** package ‘kernlab’ successfully unpacked and MD5 sums checked\n",
            "** using staged installation\n",
            "** libs\n",
            "using C compiler: ‘gcc (Ubuntu 11.4.0-1ubuntu1~22.04) 11.4.0’\n",
            "using C++ compiler: ‘g++ (Ubuntu 11.4.0-1ubuntu1~22.04) 11.4.0’\n",
            "g++ -std=gnu++17 -I\"/usr/share/R/include\" -DNDEBUG       -fpic  -g -O2 -ffile-prefix-map=/build/r-base-TYDrW1/r-base-4.5.0=. -fstack-protector-strong -Wformat -Werror=format-security -Wdate-time -D_FORTIFY_SOURCE=2   -c brweight.cpp -o brweight.o\n",
            "g++ -std=gnu++17 -I\"/usr/share/R/include\" -DNDEBUG       -fpic  -g -O2 -ffile-prefix-map=/build/r-base-TYDrW1/r-base-4.5.0=. -fstack-protector-strong -Wformat -Werror=format-security -Wdate-time -D_FORTIFY_SOURCE=2   -c ctable.cpp -o ctable.o\n",
            "g++ -std=gnu++17 -I\"/usr/share/R/include\" -DNDEBUG       -fpic  -g -O2 -ffile-prefix-map=/build/r-base-TYDrW1/r-base-4.5.0=. -fstack-protector-strong -Wformat -Werror=format-security -Wdate-time -D_FORTIFY_SOURCE=2   -c cweight.cpp -o cweight.o\n",
            "gcc -I\"/usr/share/R/include\" -DNDEBUG       -fpic  -g -O2 -ffile-prefix-map=/build/r-base-TYDrW1/r-base-4.5.0=. -fstack-protector-strong -Wformat -Werror=format-security -Wdate-time -D_FORTIFY_SOURCE=2  -c dbreakpt.c -o dbreakpt.o\n",
            "gcc -I\"/usr/share/R/include\" -DNDEBUG       -fpic  -g -O2 -ffile-prefix-map=/build/r-base-TYDrW1/r-base-4.5.0=. -fstack-protector-strong -Wformat -Werror=format-security -Wdate-time -D_FORTIFY_SOURCE=2  -c dcauchy.c -o dcauchy.o\n",
            "gcc -I\"/usr/share/R/include\" -DNDEBUG       -fpic  -g -O2 -ffile-prefix-map=/build/r-base-TYDrW1/r-base-4.5.0=. -fstack-protector-strong -Wformat -Werror=format-security -Wdate-time -D_FORTIFY_SOURCE=2  -c dgpnrm.c -o dgpnrm.o\n",
            "gcc -I\"/usr/share/R/include\" -DNDEBUG       -fpic  -g -O2 -ffile-prefix-map=/build/r-base-TYDrW1/r-base-4.5.0=. -fstack-protector-strong -Wformat -Werror=format-security -Wdate-time -D_FORTIFY_SOURCE=2  -c dgpstep.c -o dgpstep.o\n",
            "gcc -I\"/usr/share/R/include\" -DNDEBUG       -fpic  -g -O2 -ffile-prefix-map=/build/r-base-TYDrW1/r-base-4.5.0=. -fstack-protector-strong -Wformat -Werror=format-security -Wdate-time -D_FORTIFY_SOURCE=2  -c dprecond.c -o dprecond.o\n",
            "gcc -I\"/usr/share/R/include\" -DNDEBUG       -fpic  -g -O2 -ffile-prefix-map=/build/r-base-TYDrW1/r-base-4.5.0=. -fstack-protector-strong -Wformat -Werror=format-security -Wdate-time -D_FORTIFY_SOURCE=2  -c dprsrch.c -o dprsrch.o\n",
            "gcc -I\"/usr/share/R/include\" -DNDEBUG       -fpic  -g -O2 -ffile-prefix-map=/build/r-base-TYDrW1/r-base-4.5.0=. -fstack-protector-strong -Wformat -Werror=format-security -Wdate-time -D_FORTIFY_SOURCE=2  -c dspcg.c -o dspcg.o\n",
            "gcc -I\"/usr/share/R/include\" -DNDEBUG       -fpic  -g -O2 -ffile-prefix-map=/build/r-base-TYDrW1/r-base-4.5.0=. -fstack-protector-strong -Wformat -Werror=format-security -Wdate-time -D_FORTIFY_SOURCE=2  -c dtron.c -o dtron.o\n",
            "gcc -I\"/usr/share/R/include\" -DNDEBUG       -fpic  -g -O2 -ffile-prefix-map=/build/r-base-TYDrW1/r-base-4.5.0=. -fstack-protector-strong -Wformat -Werror=format-security -Wdate-time -D_FORTIFY_SOURCE=2  -c dtrpcg.c -o dtrpcg.o\n",
            "gcc -I\"/usr/share/R/include\" -DNDEBUG       -fpic  -g -O2 -ffile-prefix-map=/build/r-base-TYDrW1/r-base-4.5.0=. -fstack-protector-strong -Wformat -Werror=format-security -Wdate-time -D_FORTIFY_SOURCE=2  -c dtrqsol.c -o dtrqsol.o\n",
            "g++ -std=gnu++17 -I\"/usr/share/R/include\" -DNDEBUG       -fpic  -g -O2 -ffile-prefix-map=/build/r-base-TYDrW1/r-base-4.5.0=. -fstack-protector-strong -Wformat -Werror=format-security -Wdate-time -D_FORTIFY_SOURCE=2   -c esa.cpp -o esa.o\n",
            "g++ -std=gnu++17 -I\"/usr/share/R/include\" -DNDEBUG       -fpic  -g -O2 -ffile-prefix-map=/build/r-base-TYDrW1/r-base-4.5.0=. -fstack-protector-strong -Wformat -Werror=format-security -Wdate-time -D_FORTIFY_SOURCE=2   -c expdecayweight.cpp -o expdecayweight.o\n",
            "g++ -std=gnu++17 -I\"/usr/share/R/include\" -DNDEBUG       -fpic  -g -O2 -ffile-prefix-map=/build/r-base-TYDrW1/r-base-4.5.0=. -fstack-protector-strong -Wformat -Werror=format-security -Wdate-time -D_FORTIFY_SOURCE=2   -c inductionsort.cpp -o inductionsort.o\n",
            "gcc -I\"/usr/share/R/include\" -DNDEBUG       -fpic  -g -O2 -ffile-prefix-map=/build/r-base-TYDrW1/r-base-4.5.0=. -fstack-protector-strong -Wformat -Werror=format-security -Wdate-time -D_FORTIFY_SOURCE=2  -c init.c -o init.o\n",
            "g++ -std=gnu++17 -I\"/usr/share/R/include\" -DNDEBUG       -fpic  -g -O2 -ffile-prefix-map=/build/r-base-TYDrW1/r-base-4.5.0=. -fstack-protector-strong -Wformat -Werror=format-security -Wdate-time -D_FORTIFY_SOURCE=2   -c kspectrumweight.cpp -o kspectrumweight.o\n",
            "g++ -std=gnu++17 -I\"/usr/share/R/include\" -DNDEBUG       -fpic  -g -O2 -ffile-prefix-map=/build/r-base-TYDrW1/r-base-4.5.0=. -fstack-protector-strong -Wformat -Werror=format-security -Wdate-time -D_FORTIFY_SOURCE=2   -c lcp.cpp -o lcp.o\n",
            "gcc -I\"/usr/share/R/include\" -DNDEBUG       -fpic  -g -O2 -ffile-prefix-map=/build/r-base-TYDrW1/r-base-4.5.0=. -fstack-protector-strong -Wformat -Werror=format-security -Wdate-time -D_FORTIFY_SOURCE=2  -c misc.c -o misc.o\n",
            "g++ -std=gnu++17 -I\"/usr/share/R/include\" -DNDEBUG       -fpic  -g -O2 -ffile-prefix-map=/build/r-base-TYDrW1/r-base-4.5.0=. -fstack-protector-strong -Wformat -Werror=format-security -Wdate-time -D_FORTIFY_SOURCE=2   -c msufsort.cpp -o msufsort.o\n",
            "gcc -I\"/usr/share/R/include\" -DNDEBUG       -fpic  -g -O2 -ffile-prefix-map=/build/r-base-TYDrW1/r-base-4.5.0=. -fstack-protector-strong -Wformat -Werror=format-security -Wdate-time -D_FORTIFY_SOURCE=2  -c solvebqp.c -o solvebqp.o\n",
            "gcc -I\"/usr/share/R/include\" -DNDEBUG       -fpic  -g -O2 -ffile-prefix-map=/build/r-base-TYDrW1/r-base-4.5.0=. -fstack-protector-strong -Wformat -Werror=format-security -Wdate-time -D_FORTIFY_SOURCE=2  -c stringk.c -o stringk.o\n",
            "g++ -std=gnu++17 -I\"/usr/share/R/include\" -DNDEBUG       -fpic  -g -O2 -ffile-prefix-map=/build/r-base-TYDrW1/r-base-4.5.0=. -fstack-protector-strong -Wformat -Werror=format-security -Wdate-time -D_FORTIFY_SOURCE=2   -c stringkernel.cpp -o stringkernel.o\n",
            "g++ -std=gnu++17 -I\"/usr/share/R/include\" -DNDEBUG       -fpic  -g -O2 -ffile-prefix-map=/build/r-base-TYDrW1/r-base-4.5.0=. -fstack-protector-strong -Wformat -Werror=format-security -Wdate-time -D_FORTIFY_SOURCE=2   -c svm.cpp -o svm.o\n",
            "g++ -std=gnu++17 -I\"/usr/share/R/include\" -DNDEBUG       -fpic  -g -O2 -ffile-prefix-map=/build/r-base-TYDrW1/r-base-4.5.0=. -fstack-protector-strong -Wformat -Werror=format-security -Wdate-time -D_FORTIFY_SOURCE=2   -c wkasailcp.cpp -o wkasailcp.o\n",
            "g++ -std=gnu++17 -I\"/usr/share/R/include\" -DNDEBUG       -fpic  -g -O2 -ffile-prefix-map=/build/r-base-TYDrW1/r-base-4.5.0=. -fstack-protector-strong -Wformat -Werror=format-security -Wdate-time -D_FORTIFY_SOURCE=2   -c wmsufsort.cpp -o wmsufsort.o\n",
            "g++ -std=gnu++17 -shared -L/usr/lib/R/lib -Wl,-Bsymbolic-functions -flto=auto -ffat-lto-objects -flto=auto -Wl,-z,relro -o kernlab.so brweight.o ctable.o cweight.o dbreakpt.o dcauchy.o dgpnrm.o dgpstep.o dprecond.o dprsrch.o dspcg.o dtron.o dtrpcg.o dtrqsol.o esa.o expdecayweight.o inductionsort.o init.o kspectrumweight.o lcp.o misc.o msufsort.o solvebqp.o stringk.o stringkernel.o svm.o wkasailcp.o wmsufsort.o -llapack -lblas -lgfortran -lm -lquadmath -L/usr/lib/R/lib -lR\n",
            "installing to /usr/local/lib/R/site-library/00LOCK-kernlab/00new/kernlab/libs\n",
            "** R\n",
            "** data\n",
            "** inst\n",
            "** byte-compile and prepare package for lazy loading\n",
            "Creating a new generic function for ‘pattern’ in package ‘kernlab’\n",
            "** help\n",
            "*** installing help indices\n",
            "** building package indices\n",
            "** installing vignettes\n",
            "** testing if installed package can be loaded from temporary location\n",
            "** checking absolute paths in shared objects and dynamic libraries\n",
            "** testing if installed package can be loaded from final location\n",
            "** testing if installed package keeps a record of temporary installation path\n",
            "* DONE (kernlab)\n",
            "* installing *source* package ‘LiblineaR’ ...\n",
            "** this is package ‘LiblineaR’ version ‘2.10-24’\n",
            "** package ‘LiblineaR’ successfully unpacked and MD5 sums checked\n",
            "** using staged installation\n",
            "** libs\n",
            "using C compiler: ‘gcc (Ubuntu 11.4.0-1ubuntu1~22.04) 11.4.0’\n",
            "using C++ compiler: ‘g++ (Ubuntu 11.4.0-1ubuntu1~22.04) 11.4.0’\n",
            "gcc -I\"/usr/share/R/include\" -DNDEBUG       -fpic  -g -O2 -ffile-prefix-map=/build/r-base-TYDrW1/r-base-4.5.0=. -fstack-protector-strong -Wformat -Werror=format-security -Wdate-time -D_FORTIFY_SOURCE=2  -c init.c -o init.o\n",
            "g++ -std=gnu++17 -I\"/usr/share/R/include\" -DNDEBUG       -fpic  -g -O2 -ffile-prefix-map=/build/r-base-TYDrW1/r-base-4.5.0=. -fstack-protector-strong -Wformat -Werror=format-security -Wdate-time -D_FORTIFY_SOURCE=2   -c linear.cpp -o linear.o\n",
            "gcc -I\"/usr/share/R/include\" -DNDEBUG       -fpic  -g -O2 -ffile-prefix-map=/build/r-base-TYDrW1/r-base-4.5.0=. -fstack-protector-strong -Wformat -Werror=format-security -Wdate-time -D_FORTIFY_SOURCE=2  -c predictLinear.c -o predictLinear.o\n",
            "gcc -I\"/usr/share/R/include\" -DNDEBUG       -fpic  -g -O2 -ffile-prefix-map=/build/r-base-TYDrW1/r-base-4.5.0=. -fstack-protector-strong -Wformat -Werror=format-security -Wdate-time -D_FORTIFY_SOURCE=2  -c trainLinear.c -o trainLinear.o\n",
            "g++ -std=gnu++17 -I\"/usr/share/R/include\" -DNDEBUG       -fpic  -g -O2 -ffile-prefix-map=/build/r-base-TYDrW1/r-base-4.5.0=. -fstack-protector-strong -Wformat -Werror=format-security -Wdate-time -D_FORTIFY_SOURCE=2   -c tron.cpp -o tron.o\n",
            "g++ -std=gnu++17 -shared -L/usr/lib/R/lib -Wl,-Bsymbolic-functions -flto=auto -ffat-lto-objects -flto=auto -Wl,-z,relro -o LiblineaR.so init.o linear.o predictLinear.o trainLinear.o tron.o -L/usr/lib/R/lib -lR\n",
            "installing to /usr/local/lib/R/site-library/00LOCK-LiblineaR/00new/LiblineaR/libs\n",
            "** R\n",
            "** inst\n",
            "** byte-compile and prepare package for lazy loading\n",
            "** help\n",
            "*** installing help indices\n",
            "** building package indices\n",
            "** testing if installed package can be loaded from temporary location\n",
            "** checking absolute paths in shared objects and dynamic libraries\n",
            "** testing if installed package can be loaded from final location\n",
            "** testing if installed package keeps a record of temporary installation path\n",
            "* DONE (LiblineaR)\n",
            "* installing *source* package ‘apcluster’ ...\n",
            "** this is package ‘apcluster’ version ‘1.4.13’\n",
            "** package ‘apcluster’ successfully unpacked and MD5 sums checked\n",
            "** using staged installation\n",
            "** libs\n",
            "using C compiler: ‘gcc (Ubuntu 11.4.0-1ubuntu1~22.04) 11.4.0’\n",
            "using C++ compiler: ‘g++ (Ubuntu 11.4.0-1ubuntu1~22.04) 11.4.0’\n",
            "g++ -std=gnu++17 -I\"/usr/share/R/include\" -DNDEBUG  -I'/usr/lib/R/site-library/Rcpp/include'     -fpic  -g -O2 -ffile-prefix-map=/build/r-base-TYDrW1/r-base-4.5.0=. -fstack-protector-strong -Wformat -Werror=format-security -Wdate-time -D_FORTIFY_SOURCE=2   -c R_init_apcluster.cpp -o R_init_apcluster.o\n",
            "g++ -std=gnu++17 -I\"/usr/share/R/include\" -DNDEBUG  -I'/usr/lib/R/site-library/Rcpp/include'     -fpic  -g -O2 -ffile-prefix-map=/build/r-base-TYDrW1/r-base-4.5.0=. -fstack-protector-strong -Wformat -Werror=format-security -Wdate-time -D_FORTIFY_SOURCE=2   -c aggExClusterC.cpp -o aggExClusterC.o\n",
            "g++ -std=gnu++17 -I\"/usr/share/R/include\" -DNDEBUG  -I'/usr/lib/R/site-library/Rcpp/include'     -fpic  -g -O2 -ffile-prefix-map=/build/r-base-TYDrW1/r-base-4.5.0=. -fstack-protector-strong -Wformat -Werror=format-security -Wdate-time -D_FORTIFY_SOURCE=2   -c apclusterC.cpp -o apclusterC.o\n",
            "g++ -std=gnu++17 -I\"/usr/share/R/include\" -DNDEBUG  -I'/usr/lib/R/site-library/Rcpp/include'     -fpic  -g -O2 -ffile-prefix-map=/build/r-base-TYDrW1/r-base-4.5.0=. -fstack-protector-strong -Wformat -Werror=format-security -Wdate-time -D_FORTIFY_SOURCE=2   -c apclusterLeveragedC.cpp -o apclusterLeveragedC.o\n",
            "g++ -std=gnu++17 -I\"/usr/share/R/include\" -DNDEBUG  -I'/usr/lib/R/site-library/Rcpp/include'     -fpic  -g -O2 -ffile-prefix-map=/build/r-base-TYDrW1/r-base-4.5.0=. -fstack-protector-strong -Wformat -Werror=format-security -Wdate-time -D_FORTIFY_SOURCE=2   -c apclusterSparseC.cpp -o apclusterSparseC.o\n",
            "gcc -I\"/usr/share/R/include\" -DNDEBUG  -I'/usr/lib/R/site-library/Rcpp/include'     -fpic  -g -O2 -ffile-prefix-map=/build/r-base-TYDrW1/r-base-4.5.0=. -fstack-protector-strong -Wformat -Werror=format-security -Wdate-time -D_FORTIFY_SOURCE=2  -c distanceL.c -o distanceL.o\n",
            "g++ -std=gnu++17 -I\"/usr/share/R/include\" -DNDEBUG  -I'/usr/lib/R/site-library/Rcpp/include'     -fpic  -g -O2 -ffile-prefix-map=/build/r-base-TYDrW1/r-base-4.5.0=. -fstack-protector-strong -Wformat -Werror=format-security -Wdate-time -D_FORTIFY_SOURCE=2   -c preferenceRangeC.cpp -o preferenceRangeC.o\n",
            "g++ -std=gnu++17 -I\"/usr/share/R/include\" -DNDEBUG  -I'/usr/lib/R/site-library/Rcpp/include'     -fpic  -g -O2 -ffile-prefix-map=/build/r-base-TYDrW1/r-base-4.5.0=. -fstack-protector-strong -Wformat -Werror=format-security -Wdate-time -D_FORTIFY_SOURCE=2   -c preferenceRangeSparseC.cpp -o preferenceRangeSparseC.o\n",
            "g++ -std=gnu++17 -shared -L/usr/lib/R/lib -Wl,-Bsymbolic-functions -flto=auto -ffat-lto-objects -flto=auto -Wl,-z,relro -o apcluster.so R_init_apcluster.o aggExClusterC.o apclusterC.o apclusterLeveragedC.o apclusterSparseC.o distanceL.o preferenceRangeC.o preferenceRangeSparseC.o -L/usr/lib/R/lib -lR\n",
            "installing to /usr/local/lib/R/site-library/00LOCK-apcluster/00new/apcluster/libs\n",
            "** R\n",
            "** inst\n",
            "** byte-compile and prepare package for lazy loading\n",
            "Creating a new generic function for ‘heatmap’ in package ‘apcluster’\n",
            "Creating a generic function for ‘cutree’ from package ‘stats’ in package ‘apcluster’\n",
            "** help\n",
            "*** installing help indices\n",
            "** building package indices\n",
            "** installing vignettes\n",
            "** testing if installed package can be loaded from temporary location\n",
            "** checking absolute paths in shared objects and dynamic libraries\n",
            "** testing if installed package can be loaded from final location\n",
            "** testing if installed package keeps a record of temporary installation path\n",
            "* DONE (apcluster)\n",
            "* installing *source* package ‘BiocVersion’ ...\n",
            "** this is package ‘BiocVersion’ version ‘3.21.1’\n",
            "** using staged installation\n",
            "** help\n",
            "*** installing help indices\n",
            "** building package indices\n",
            "** testing if installed package can be loaded from temporary location\n",
            "** testing if installed package can be loaded from final location\n",
            "** testing if installed package keeps a record of temporary installation path\n",
            "* DONE (BiocVersion)\n",
            "* installing *source* package ‘S4Vectors’ ...\n",
            "** this is package ‘S4Vectors’ version ‘0.46.0’\n",
            "** using staged installation\n",
            "** libs\n",
            "using C compiler: ‘gcc (Ubuntu 11.4.0-1ubuntu1~22.04) 11.4.0’\n",
            "gcc -I\"/usr/share/R/include\" -DNDEBUG       -fpic  -g -O2 -ffile-prefix-map=/build/r-base-TYDrW1/r-base-4.5.0=. -fstack-protector-strong -Wformat -Werror=format-security -Wdate-time -D_FORTIFY_SOURCE=2  -c AEbufs.c -o AEbufs.o\n",
            "gcc -I\"/usr/share/R/include\" -DNDEBUG       -fpic  -g -O2 -ffile-prefix-map=/build/r-base-TYDrW1/r-base-4.5.0=. -fstack-protector-strong -Wformat -Werror=format-security -Wdate-time -D_FORTIFY_SOURCE=2  -c DataFrame_class.c -o DataFrame_class.o\n",
            "gcc -I\"/usr/share/R/include\" -DNDEBUG       -fpic  -g -O2 -ffile-prefix-map=/build/r-base-TYDrW1/r-base-4.5.0=. -fstack-protector-strong -Wformat -Werror=format-security -Wdate-time -D_FORTIFY_SOURCE=2  -c Hits_class.c -o Hits_class.o\n",
            "In file included from \u001b[01m\u001b[K/usr/include/string.h:535\u001b[m\u001b[K,\n",
            "                 from \u001b[01m\u001b[K/usr/share/R/include/R_ext/RS.h:34\u001b[m\u001b[K,\n",
            "                 from \u001b[01m\u001b[K/usr/share/R/include/Rdefines.h:38\u001b[m\u001b[K,\n",
            "                 from \u001b[01m\u001b[K../inst/include/S4Vectors_defines.h:18\u001b[m\u001b[K,\n",
            "                 from \u001b[01m\u001b[KS4Vectors.h:1\u001b[m\u001b[K,\n",
            "                 from \u001b[01m\u001b[KHits_class.c:4\u001b[m\u001b[K:\n",
            "In function ‘\u001b[01m\u001b[Kmemcpy\u001b[m\u001b[K’,\n",
            "    inlined from ‘\u001b[01m\u001b[Kqsort_hits\u001b[m\u001b[K’ at \u001b[01m\u001b[KHits_class.c:74:4\u001b[m\u001b[K:\n",
            "\u001b[01m\u001b[K/usr/include/x86_64-linux-gnu/bits/string_fortified.h:29:10:\u001b[m\u001b[K \u001b[01;35m\u001b[Kwarning: \u001b[m\u001b[K‘\u001b[01m\u001b[K__builtin_memcpy\u001b[m\u001b[K’ specified bound between 18446744065119617024 and 18446744073709551612 exceeds maximum object size 9223372036854775807 [\u001b[01;35m\u001b[K\u001b]8;;https://gcc.gnu.org/onlinedocs/gcc/Warning-Options.html#index-Wstringop-overflow=\u0007-Wstringop-overflow=\u001b]8;;\u0007\u001b[m\u001b[K]\n",
            "   29 |   return \u001b[01;35m\u001b[K__builtin___memcpy_chk (__dest, __src, __len,\u001b[m\u001b[K\n",
            "      |          \u001b[01;35m\u001b[K^~~~~~~~~~~~~~~~~~~~~~~~~~~~~~~~~~~~~~~~~~~~~\u001b[m\u001b[K\n",
            "   30 | \u001b[01;35m\u001b[K                                 __glibc_objsize0 (__dest))\u001b[m\u001b[K;\n",
            "      |                                  \u001b[01;35m\u001b[K~~~~~~~~~~~~~~~~~~~~~~~~~~\u001b[m\u001b[K\n",
            "gcc -I\"/usr/share/R/include\" -DNDEBUG       -fpic  -g -O2 -ffile-prefix-map=/build/r-base-TYDrW1/r-base-4.5.0=. -fstack-protector-strong -Wformat -Werror=format-security -Wdate-time -D_FORTIFY_SOURCE=2  -c LLint_class.c -o LLint_class.o\n",
            "gcc -I\"/usr/share/R/include\" -DNDEBUG       -fpic  -g -O2 -ffile-prefix-map=/build/r-base-TYDrW1/r-base-4.5.0=. -fstack-protector-strong -Wformat -Werror=format-security -Wdate-time -D_FORTIFY_SOURCE=2  -c List_class.c -o List_class.o\n",
            "gcc -I\"/usr/share/R/include\" -DNDEBUG       -fpic  -g -O2 -ffile-prefix-map=/build/r-base-TYDrW1/r-base-4.5.0=. -fstack-protector-strong -Wformat -Werror=format-security -Wdate-time -D_FORTIFY_SOURCE=2  -c R_init_S4Vectors.c -o R_init_S4Vectors.o\n",
            "gcc -I\"/usr/share/R/include\" -DNDEBUG       -fpic  -g -O2 -ffile-prefix-map=/build/r-base-TYDrW1/r-base-4.5.0=. -fstack-protector-strong -Wformat -Werror=format-security -Wdate-time -D_FORTIFY_SOURCE=2  -c Rle_class.c -o Rle_class.o\n",
            "gcc -I\"/usr/share/R/include\" -DNDEBUG       -fpic  -g -O2 -ffile-prefix-map=/build/r-base-TYDrW1/r-base-4.5.0=. -fstack-protector-strong -Wformat -Werror=format-security -Wdate-time -D_FORTIFY_SOURCE=2  -c Rle_utils.c -o Rle_utils.o\n",
            "gcc -I\"/usr/share/R/include\" -DNDEBUG       -fpic  -g -O2 -ffile-prefix-map=/build/r-base-TYDrW1/r-base-4.5.0=. -fstack-protector-strong -Wformat -Werror=format-security -Wdate-time -D_FORTIFY_SOURCE=2  -c SEXP_utils.c -o SEXP_utils.o\n",
            "gcc -I\"/usr/share/R/include\" -DNDEBUG       -fpic  -g -O2 -ffile-prefix-map=/build/r-base-TYDrW1/r-base-4.5.0=. -fstack-protector-strong -Wformat -Werror=format-security -Wdate-time -D_FORTIFY_SOURCE=2  -c SimpleList_class.c -o SimpleList_class.o\n",
            "gcc -I\"/usr/share/R/include\" -DNDEBUG       -fpic  -g -O2 -ffile-prefix-map=/build/r-base-TYDrW1/r-base-4.5.0=. -fstack-protector-strong -Wformat -Werror=format-security -Wdate-time -D_FORTIFY_SOURCE=2  -c anyMissing.c -o anyMissing.o\n",
            "gcc -I\"/usr/share/R/include\" -DNDEBUG       -fpic  -g -O2 -ffile-prefix-map=/build/r-base-TYDrW1/r-base-4.5.0=. -fstack-protector-strong -Wformat -Werror=format-security -Wdate-time -D_FORTIFY_SOURCE=2  -c character_utils.c -o character_utils.o\n",
            "gcc -I\"/usr/share/R/include\" -DNDEBUG       -fpic  -g -O2 -ffile-prefix-map=/build/r-base-TYDrW1/r-base-4.5.0=. -fstack-protector-strong -Wformat -Werror=format-security -Wdate-time -D_FORTIFY_SOURCE=2  -c eval_utils.c -o eval_utils.o\n",
            "gcc -I\"/usr/share/R/include\" -DNDEBUG       -fpic  -g -O2 -ffile-prefix-map=/build/r-base-TYDrW1/r-base-4.5.0=. -fstack-protector-strong -Wformat -Werror=format-security -Wdate-time -D_FORTIFY_SOURCE=2  -c hash_utils.c -o hash_utils.o\n",
            "gcc -I\"/usr/share/R/include\" -DNDEBUG       -fpic  -g -O2 -ffile-prefix-map=/build/r-base-TYDrW1/r-base-4.5.0=. -fstack-protector-strong -Wformat -Werror=format-security -Wdate-time -D_FORTIFY_SOURCE=2  -c integer_utils.c -o integer_utils.o\n",
            "gcc -I\"/usr/share/R/include\" -DNDEBUG       -fpic  -g -O2 -ffile-prefix-map=/build/r-base-TYDrW1/r-base-4.5.0=. -fstack-protector-strong -Wformat -Werror=format-security -Wdate-time -D_FORTIFY_SOURCE=2  -c logical_utils.c -o logical_utils.o\n",
            "gcc -I\"/usr/share/R/include\" -DNDEBUG       -fpic  -g -O2 -ffile-prefix-map=/build/r-base-TYDrW1/r-base-4.5.0=. -fstack-protector-strong -Wformat -Werror=format-security -Wdate-time -D_FORTIFY_SOURCE=2  -c map_ranges_to_runs.c -o map_ranges_to_runs.o\n",
            "gcc -I\"/usr/share/R/include\" -DNDEBUG       -fpic  -g -O2 -ffile-prefix-map=/build/r-base-TYDrW1/r-base-4.5.0=. -fstack-protector-strong -Wformat -Werror=format-security -Wdate-time -D_FORTIFY_SOURCE=2  -c raw_utils.c -o raw_utils.o\n",
            "gcc -I\"/usr/share/R/include\" -DNDEBUG       -fpic  -g -O2 -ffile-prefix-map=/build/r-base-TYDrW1/r-base-4.5.0=. -fstack-protector-strong -Wformat -Werror=format-security -Wdate-time -D_FORTIFY_SOURCE=2  -c safe_arithm.c -o safe_arithm.o\n",
            "gcc -I\"/usr/share/R/include\" -DNDEBUG       -fpic  -g -O2 -ffile-prefix-map=/build/r-base-TYDrW1/r-base-4.5.0=. -fstack-protector-strong -Wformat -Werror=format-security -Wdate-time -D_FORTIFY_SOURCE=2  -c sort_utils.c -o sort_utils.o\n",
            "gcc -I\"/usr/share/R/include\" -DNDEBUG       -fpic  -g -O2 -ffile-prefix-map=/build/r-base-TYDrW1/r-base-4.5.0=. -fstack-protector-strong -Wformat -Werror=format-security -Wdate-time -D_FORTIFY_SOURCE=2  -c subsetting_utils.c -o subsetting_utils.o\n",
            "gcc -I\"/usr/share/R/include\" -DNDEBUG       -fpic  -g -O2 -ffile-prefix-map=/build/r-base-TYDrW1/r-base-4.5.0=. -fstack-protector-strong -Wformat -Werror=format-security -Wdate-time -D_FORTIFY_SOURCE=2  -c vector_utils.c -o vector_utils.o\n",
            "gcc -shared -L/usr/lib/R/lib -Wl,-Bsymbolic-functions -flto=auto -ffat-lto-objects -flto=auto -Wl,-z,relro -o S4Vectors.so AEbufs.o DataFrame_class.o Hits_class.o LLint_class.o List_class.o R_init_S4Vectors.o Rle_class.o Rle_utils.o SEXP_utils.o SimpleList_class.o anyMissing.o character_utils.o eval_utils.o hash_utils.o integer_utils.o logical_utils.o map_ranges_to_runs.o raw_utils.o safe_arithm.o sort_utils.o subsetting_utils.o vector_utils.o -L/usr/lib/R/lib -lR\n",
            "installing to /usr/local/lib/R/site-library/00LOCK-S4Vectors/00new/S4Vectors/libs\n",
            "** R\n",
            "** inst\n",
            "** byte-compile and prepare package for lazy loading\n",
            "in method for ‘normalizeSingleBracketReplacementValue’ with signature ‘\"List\"’: no definition for class “List”\n",
            "Creating a new generic function for ‘unname’ in package ‘S4Vectors’\n",
            "Creating a new generic function for ‘expand.grid’ in package ‘S4Vectors’\n",
            "Creating a new generic function for ‘findMatches’ in package ‘S4Vectors’\n",
            "in method for ‘coerce’ with signature ‘\"Hits\",\"DFrame\"’: no definition for class “DFrame”\n",
            "Creating a generic function for ‘as.factor’ from package ‘base’ in package ‘S4Vectors’\n",
            "Creating a generic function for ‘tabulate’ from package ‘base’ in package ‘S4Vectors’\n",
            "Creating a generic function for ‘cov’ from package ‘stats’ in package ‘S4Vectors’\n",
            "Creating a generic function for ‘cor’ from package ‘stats’ in package ‘S4Vectors’\n",
            "Creating a generic function for ‘smoothEnds’ from package ‘stats’ in package ‘S4Vectors’\n",
            "Creating a generic function for ‘runmed’ from package ‘stats’ in package ‘S4Vectors’\n",
            "Creating a generic function for ‘nchar’ from package ‘base’ in package ‘S4Vectors’\n",
            "Creating a generic function for ‘substr’ from package ‘base’ in package ‘S4Vectors’\n",
            "Creating a generic function for ‘substring’ from package ‘base’ in package ‘S4Vectors’\n",
            "Creating a generic function for ‘chartr’ from package ‘base’ in package ‘S4Vectors’\n",
            "Creating a generic function for ‘tolower’ from package ‘base’ in package ‘S4Vectors’\n",
            "Creating a generic function for ‘toupper’ from package ‘base’ in package ‘S4Vectors’\n",
            "Creating a generic function for ‘sub’ from package ‘base’ in package ‘S4Vectors’\n",
            "Creating a generic function for ‘gsub’ from package ‘base’ in package ‘S4Vectors’\n",
            "Creating a generic function for ‘nlevels’ from package ‘base’ in package ‘S4Vectors’\n",
            "in method for ‘coerce’ with signature ‘\"data.table\",\"DFrame\"’: no definition for class “data.table”\n",
            "Creating a generic function for ‘complete.cases’ from package ‘stats’ in package ‘S4Vectors’\n",
            "** help\n",
            "*** installing help indices\n",
            "** building package indices\n",
            "** installing vignettes\n",
            "** testing if installed package can be loaded from temporary location\n",
            "** checking absolute paths in shared objects and dynamic libraries\n",
            "** testing if installed package can be loaded from final location\n",
            "** testing if installed package keeps a record of temporary installation path\n",
            "* DONE (S4Vectors)\n",
            "* installing *source* package ‘e1071’ ...\n",
            "** this is package ‘e1071’ version ‘1.7-16’\n",
            "** package ‘e1071’ successfully unpacked and MD5 sums checked\n",
            "** using staged installation\n",
            "** libs\n",
            "using C compiler: ‘gcc (Ubuntu 11.4.0-1ubuntu1~22.04) 11.4.0’\n",
            "using C++ compiler: ‘g++ (Ubuntu 11.4.0-1ubuntu1~22.04) 11.4.0’\n",
            "gcc -I\"/usr/share/R/include\" -DNDEBUG       -fpic  -g -O2 -ffile-prefix-map=/build/r-base-TYDrW1/r-base-4.5.0=. -fstack-protector-strong -Wformat -Werror=format-security -Wdate-time -D_FORTIFY_SOURCE=2  -c Rsvm.c -o Rsvm.o\n",
            "gcc -I\"/usr/share/R/include\" -DNDEBUG       -fpic  -g -O2 -ffile-prefix-map=/build/r-base-TYDrW1/r-base-4.5.0=. -fstack-protector-strong -Wformat -Werror=format-security -Wdate-time -D_FORTIFY_SOURCE=2  -c cmeans.c -o cmeans.o\n",
            "gcc -I\"/usr/share/R/include\" -DNDEBUG       -fpic  -g -O2 -ffile-prefix-map=/build/r-base-TYDrW1/r-base-4.5.0=. -fstack-protector-strong -Wformat -Werror=format-security -Wdate-time -D_FORTIFY_SOURCE=2  -c cshell.c -o cshell.o\n",
            "gcc -I\"/usr/share/R/include\" -DNDEBUG       -fpic  -g -O2 -ffile-prefix-map=/build/r-base-TYDrW1/r-base-4.5.0=. -fstack-protector-strong -Wformat -Werror=format-security -Wdate-time -D_FORTIFY_SOURCE=2  -c floyd.c -o floyd.o\n",
            "gcc -I\"/usr/share/R/include\" -DNDEBUG       -fpic  -g -O2 -ffile-prefix-map=/build/r-base-TYDrW1/r-base-4.5.0=. -fstack-protector-strong -Wformat -Werror=format-security -Wdate-time -D_FORTIFY_SOURCE=2  -c init.c -o init.o\n",
            "g++ -std=gnu++17 -I\"/usr/share/R/include\" -DNDEBUG       -fpic  -g -O2 -ffile-prefix-map=/build/r-base-TYDrW1/r-base-4.5.0=. -fstack-protector-strong -Wformat -Werror=format-security -Wdate-time -D_FORTIFY_SOURCE=2   -c svm.cpp -o svm.o\n",
            "g++ -std=gnu++17 -shared -L/usr/lib/R/lib -Wl,-Bsymbolic-functions -flto=auto -ffat-lto-objects -flto=auto -Wl,-z,relro -o e1071.so Rsvm.o cmeans.o cshell.o floyd.o init.o svm.o -L/usr/lib/R/lib -lR\n",
            "installing to /usr/local/lib/R/site-library/00LOCK-e1071/00new/e1071/libs\n",
            "** R\n",
            "** inst\n",
            "** byte-compile and prepare package for lazy loading\n",
            "** help\n",
            "*** installing help indices\n",
            "** building package indices\n",
            "** installing vignettes\n",
            "** testing if installed package can be loaded from temporary location\n",
            "** checking absolute paths in shared objects and dynamic libraries\n",
            "** testing if installed package can be loaded from final location\n",
            "** testing if installed package keeps a record of temporary installation path\n",
            "* DONE (e1071)\n",
            "* installing *source* package ‘UCSC.utils’ ...\n",
            "** this is package ‘UCSC.utils’ version ‘1.4.0’\n",
            "** using staged installation\n",
            "** R\n",
            "** inst\n",
            "** byte-compile and prepare package for lazy loading\n",
            "** help\n",
            "*** installing help indices\n",
            "** building package indices\n",
            "** installing vignettes\n",
            "** testing if installed package can be loaded from temporary location\n",
            "** testing if installed package can be loaded from final location\n",
            "** testing if installed package keeps a record of temporary installation path\n",
            "* DONE (UCSC.utils)\n",
            "* installing *source* package ‘IRanges’ ...\n",
            "** this is package ‘IRanges’ version ‘2.42.0’\n",
            "** using staged installation\n",
            "** libs\n",
            "using C compiler: ‘gcc (Ubuntu 11.4.0-1ubuntu1~22.04) 11.4.0’\n",
            "gcc -I\"/usr/share/R/include\" -DNDEBUG  -I'/usr/local/lib/R/site-library/S4Vectors/include'     -fpic  -g -O2 -ffile-prefix-map=/build/r-base-TYDrW1/r-base-4.5.0=. -fstack-protector-strong -Wformat -Werror=format-security -Wdate-time -D_FORTIFY_SOURCE=2  -c CompressedAtomicList_utils.c -o CompressedAtomicList_utils.o\n",
            "gcc -I\"/usr/share/R/include\" -DNDEBUG  -I'/usr/local/lib/R/site-library/S4Vectors/include'     -fpic  -g -O2 -ffile-prefix-map=/build/r-base-TYDrW1/r-base-4.5.0=. -fstack-protector-strong -Wformat -Werror=format-security -Wdate-time -D_FORTIFY_SOURCE=2  -c CompressedIRangesList_class.c -o CompressedIRangesList_class.o\n",
            "gcc -I\"/usr/share/R/include\" -DNDEBUG  -I'/usr/local/lib/R/site-library/S4Vectors/include'     -fpic  -g -O2 -ffile-prefix-map=/build/r-base-TYDrW1/r-base-4.5.0=. -fstack-protector-strong -Wformat -Werror=format-security -Wdate-time -D_FORTIFY_SOURCE=2  -c CompressedList_class.c -o CompressedList_class.o\n",
            "gcc -I\"/usr/share/R/include\" -DNDEBUG  -I'/usr/local/lib/R/site-library/S4Vectors/include'     -fpic  -g -O2 -ffile-prefix-map=/build/r-base-TYDrW1/r-base-4.5.0=. -fstack-protector-strong -Wformat -Werror=format-security -Wdate-time -D_FORTIFY_SOURCE=2  -c Grouping_class.c -o Grouping_class.o\n",
            "gcc -I\"/usr/share/R/include\" -DNDEBUG  -I'/usr/local/lib/R/site-library/S4Vectors/include'     -fpic  -g -O2 -ffile-prefix-map=/build/r-base-TYDrW1/r-base-4.5.0=. -fstack-protector-strong -Wformat -Werror=format-security -Wdate-time -D_FORTIFY_SOURCE=2  -c IPosRanges_comparison.c -o IPosRanges_comparison.o\n",
            "gcc -I\"/usr/share/R/include\" -DNDEBUG  -I'/usr/local/lib/R/site-library/S4Vectors/include'     -fpic  -g -O2 -ffile-prefix-map=/build/r-base-TYDrW1/r-base-4.5.0=. -fstack-protector-strong -Wformat -Werror=format-security -Wdate-time -D_FORTIFY_SOURCE=2  -c IRanges_class.c -o IRanges_class.o\n",
            "gcc -I\"/usr/share/R/include\" -DNDEBUG  -I'/usr/local/lib/R/site-library/S4Vectors/include'     -fpic  -g -O2 -ffile-prefix-map=/build/r-base-TYDrW1/r-base-4.5.0=. -fstack-protector-strong -Wformat -Werror=format-security -Wdate-time -D_FORTIFY_SOURCE=2  -c IRanges_constructor.c -o IRanges_constructor.o\n",
            "gcc -I\"/usr/share/R/include\" -DNDEBUG  -I'/usr/local/lib/R/site-library/S4Vectors/include'     -fpic  -g -O2 -ffile-prefix-map=/build/r-base-TYDrW1/r-base-4.5.0=. -fstack-protector-strong -Wformat -Werror=format-security -Wdate-time -D_FORTIFY_SOURCE=2  -c NCList.c -o NCList.o\n",
            "gcc -I\"/usr/share/R/include\" -DNDEBUG  -I'/usr/local/lib/R/site-library/S4Vectors/include'     -fpic  -g -O2 -ffile-prefix-map=/build/r-base-TYDrW1/r-base-4.5.0=. -fstack-protector-strong -Wformat -Werror=format-security -Wdate-time -D_FORTIFY_SOURCE=2  -c R_init_IRanges.c -o R_init_IRanges.o\n",
            "gcc -I\"/usr/share/R/include\" -DNDEBUG  -I'/usr/local/lib/R/site-library/S4Vectors/include'     -fpic  -g -O2 -ffile-prefix-map=/build/r-base-TYDrW1/r-base-4.5.0=. -fstack-protector-strong -Wformat -Werror=format-security -Wdate-time -D_FORTIFY_SOURCE=2  -c Ranges_class.c -o Ranges_class.o\n",
            "gcc -I\"/usr/share/R/include\" -DNDEBUG  -I'/usr/local/lib/R/site-library/S4Vectors/include'     -fpic  -g -O2 -ffile-prefix-map=/build/r-base-TYDrW1/r-base-4.5.0=. -fstack-protector-strong -Wformat -Werror=format-security -Wdate-time -D_FORTIFY_SOURCE=2  -c RleViews_utils.c -o RleViews_utils.o\n",
            "gcc -I\"/usr/share/R/include\" -DNDEBUG  -I'/usr/local/lib/R/site-library/S4Vectors/include'     -fpic  -g -O2 -ffile-prefix-map=/build/r-base-TYDrW1/r-base-4.5.0=. -fstack-protector-strong -Wformat -Werror=format-security -Wdate-time -D_FORTIFY_SOURCE=2  -c S4Vectors_stubs.c -o S4Vectors_stubs.o\n",
            "gcc -I\"/usr/share/R/include\" -DNDEBUG  -I'/usr/local/lib/R/site-library/S4Vectors/include'     -fpic  -g -O2 -ffile-prefix-map=/build/r-base-TYDrW1/r-base-4.5.0=. -fstack-protector-strong -Wformat -Werror=format-security -Wdate-time -D_FORTIFY_SOURCE=2  -c SimpleIRangesList_class.c -o SimpleIRangesList_class.o\n",
            "gcc -I\"/usr/share/R/include\" -DNDEBUG  -I'/usr/local/lib/R/site-library/S4Vectors/include'     -fpic  -g -O2 -ffile-prefix-map=/build/r-base-TYDrW1/r-base-4.5.0=. -fstack-protector-strong -Wformat -Werror=format-security -Wdate-time -D_FORTIFY_SOURCE=2  -c coverage_methods.c -o coverage_methods.o\n",
            "gcc -I\"/usr/share/R/include\" -DNDEBUG  -I'/usr/local/lib/R/site-library/S4Vectors/include'     -fpic  -g -O2 -ffile-prefix-map=/build/r-base-TYDrW1/r-base-4.5.0=. -fstack-protector-strong -Wformat -Werror=format-security -Wdate-time -D_FORTIFY_SOURCE=2  -c extractListFragments.c -o extractListFragments.o\n",
            "gcc -I\"/usr/share/R/include\" -DNDEBUG  -I'/usr/local/lib/R/site-library/S4Vectors/include'     -fpic  -g -O2 -ffile-prefix-map=/build/r-base-TYDrW1/r-base-4.5.0=. -fstack-protector-strong -Wformat -Werror=format-security -Wdate-time -D_FORTIFY_SOURCE=2  -c inter_range_methods.c -o inter_range_methods.o\n",
            "gcc -shared -L/usr/lib/R/lib -Wl,-Bsymbolic-functions -flto=auto -ffat-lto-objects -flto=auto -Wl,-z,relro -o IRanges.so CompressedAtomicList_utils.o CompressedIRangesList_class.o CompressedList_class.o Grouping_class.o IPosRanges_comparison.o IRanges_class.o IRanges_constructor.o NCList.o R_init_IRanges.o Ranges_class.o RleViews_utils.o S4Vectors_stubs.o SimpleIRangesList_class.o coverage_methods.o extractListFragments.o inter_range_methods.o -L/usr/lib/R/lib -lR\n",
            "installing to /usr/local/lib/R/site-library/00LOCK-IRanges/00new/IRanges/libs\n",
            "** R\n",
            "** inst\n",
            "** byte-compile and prepare package for lazy loading\n",
            "Creating a generic function for ‘drop’ from package ‘base’ in package ‘IRanges’\n",
            "Creating a generic function for ‘runmed’ from package ‘stats’ in package ‘IRanges’\n",
            "Creating a generic function for ‘chartr’ from package ‘base’ in package ‘IRanges’\n",
            "Creating a generic function for ‘toupper’ from package ‘base’ in package ‘IRanges’\n",
            "Creating a generic function for ‘tolower’ from package ‘base’ in package ‘IRanges’\n",
            "Creating a generic function for ‘sub’ from package ‘base’ in package ‘IRanges’\n",
            "Creating a generic function for ‘gsub’ from package ‘base’ in package ‘IRanges’\n",
            "Creating a generic function for ‘startsWith’ from package ‘base’ in package ‘IRanges’\n",
            "Creating a generic function for ‘endsWith’ from package ‘base’ in package ‘IRanges’\n",
            "Creating a generic function for ‘smoothEnds’ from package ‘stats’ in package ‘IRanges’\n",
            "** help\n",
            "*** installing help indices\n",
            "** building package indices\n",
            "** installing vignettes\n",
            "** testing if installed package can be loaded from temporary location\n",
            "** checking absolute paths in shared objects and dynamic libraries\n",
            "** testing if installed package can be loaded from final location\n",
            "** testing if installed package keeps a record of temporary installation path\n",
            "* DONE (IRanges)\n",
            "* installing *source* package ‘GenomeInfoDb’ ...\n",
            "** this is package ‘GenomeInfoDb’ version ‘1.44.0’\n",
            "** using staged installation\n",
            "** R\n",
            "** inst\n",
            "** byte-compile and prepare package for lazy loading\n",
            "** help\n",
            "*** installing help indices\n",
            "** building package indices\n",
            "** installing vignettes\n",
            "** testing if installed package can be loaded from temporary location\n",
            "** testing if installed package can be loaded from final location\n",
            "** testing if installed package keeps a record of temporary installation path\n",
            "* DONE (GenomeInfoDb)\n",
            "* installing *source* package ‘XVector’ ...\n",
            "** this is package ‘XVector’ version ‘0.48.0’\n",
            "** using staged installation\n",
            "** libs\n",
            "using C compiler: ‘gcc (Ubuntu 11.4.0-1ubuntu1~22.04) 11.4.0’\n",
            "gcc -I\"/usr/share/R/include\" -DNDEBUG  -I'/usr/local/lib/R/site-library/S4Vectors/include' -I'/usr/local/lib/R/site-library/IRanges/include'     -fpic  -g -O2 -ffile-prefix-map=/build/r-base-TYDrW1/r-base-4.5.0=. -fstack-protector-strong -Wformat -Werror=format-security -Wdate-time -D_FORTIFY_SOURCE=2  -c IRanges_stubs.c -o IRanges_stubs.o\n",
            "gcc -I\"/usr/share/R/include\" -DNDEBUG  -I'/usr/local/lib/R/site-library/S4Vectors/include' -I'/usr/local/lib/R/site-library/IRanges/include'     -fpic  -g -O2 -ffile-prefix-map=/build/r-base-TYDrW1/r-base-4.5.0=. -fstack-protector-strong -Wformat -Werror=format-security -Wdate-time -D_FORTIFY_SOURCE=2  -c Ocopy_byteblocks.c -o Ocopy_byteblocks.o\n",
            "gcc -I\"/usr/share/R/include\" -DNDEBUG  -I'/usr/local/lib/R/site-library/S4Vectors/include' -I'/usr/local/lib/R/site-library/IRanges/include'     -fpic  -g -O2 -ffile-prefix-map=/build/r-base-TYDrW1/r-base-4.5.0=. -fstack-protector-strong -Wformat -Werror=format-security -Wdate-time -D_FORTIFY_SOURCE=2  -c RDS_random_access.c -o RDS_random_access.o\n",
            "gcc -I\"/usr/share/R/include\" -DNDEBUG  -I'/usr/local/lib/R/site-library/S4Vectors/include' -I'/usr/local/lib/R/site-library/IRanges/include'     -fpic  -g -O2 -ffile-prefix-map=/build/r-base-TYDrW1/r-base-4.5.0=. -fstack-protector-strong -Wformat -Werror=format-security -Wdate-time -D_FORTIFY_SOURCE=2  -c R_init_XVector.c -o R_init_XVector.o\n",
            "gcc -I\"/usr/share/R/include\" -DNDEBUG  -I'/usr/local/lib/R/site-library/S4Vectors/include' -I'/usr/local/lib/R/site-library/IRanges/include'     -fpic  -g -O2 -ffile-prefix-map=/build/r-base-TYDrW1/r-base-4.5.0=. -fstack-protector-strong -Wformat -Werror=format-security -Wdate-time -D_FORTIFY_SOURCE=2  -c S4Vectors_stubs.c -o S4Vectors_stubs.o\n",
            "gcc -I\"/usr/share/R/include\" -DNDEBUG  -I'/usr/local/lib/R/site-library/S4Vectors/include' -I'/usr/local/lib/R/site-library/IRanges/include'     -fpic  -g -O2 -ffile-prefix-map=/build/r-base-TYDrW1/r-base-4.5.0=. -fstack-protector-strong -Wformat -Werror=format-security -Wdate-time -D_FORTIFY_SOURCE=2  -c SharedDouble_class.c -o SharedDouble_class.o\n",
            "gcc -I\"/usr/share/R/include\" -DNDEBUG  -I'/usr/local/lib/R/site-library/S4Vectors/include' -I'/usr/local/lib/R/site-library/IRanges/include'     -fpic  -g -O2 -ffile-prefix-map=/build/r-base-TYDrW1/r-base-4.5.0=. -fstack-protector-strong -Wformat -Werror=format-security -Wdate-time -D_FORTIFY_SOURCE=2  -c SharedInteger_class.c -o SharedInteger_class.o\n",
            "gcc -I\"/usr/share/R/include\" -DNDEBUG  -I'/usr/local/lib/R/site-library/S4Vectors/include' -I'/usr/local/lib/R/site-library/IRanges/include'     -fpic  -g -O2 -ffile-prefix-map=/build/r-base-TYDrW1/r-base-4.5.0=. -fstack-protector-strong -Wformat -Werror=format-security -Wdate-time -D_FORTIFY_SOURCE=2  -c SharedRaw_class.c -o SharedRaw_class.o\n",
            "gcc -I\"/usr/share/R/include\" -DNDEBUG  -I'/usr/local/lib/R/site-library/S4Vectors/include' -I'/usr/local/lib/R/site-library/IRanges/include'     -fpic  -g -O2 -ffile-prefix-map=/build/r-base-TYDrW1/r-base-4.5.0=. -fstack-protector-strong -Wformat -Werror=format-security -Wdate-time -D_FORTIFY_SOURCE=2  -c SharedVector_class.c -o SharedVector_class.o\n",
            "gcc -I\"/usr/share/R/include\" -DNDEBUG  -I'/usr/local/lib/R/site-library/S4Vectors/include' -I'/usr/local/lib/R/site-library/IRanges/include'     -fpic  -g -O2 -ffile-prefix-map=/build/r-base-TYDrW1/r-base-4.5.0=. -fstack-protector-strong -Wformat -Werror=format-security -Wdate-time -D_FORTIFY_SOURCE=2  -c XDouble_class.c -o XDouble_class.o\n",
            "gcc -I\"/usr/share/R/include\" -DNDEBUG  -I'/usr/local/lib/R/site-library/S4Vectors/include' -I'/usr/local/lib/R/site-library/IRanges/include'     -fpic  -g -O2 -ffile-prefix-map=/build/r-base-TYDrW1/r-base-4.5.0=. -fstack-protector-strong -Wformat -Werror=format-security -Wdate-time -D_FORTIFY_SOURCE=2  -c XInteger_class.c -o XInteger_class.o\n",
            "gcc -I\"/usr/share/R/include\" -DNDEBUG  -I'/usr/local/lib/R/site-library/S4Vectors/include' -I'/usr/local/lib/R/site-library/IRanges/include'     -fpic  -g -O2 -ffile-prefix-map=/build/r-base-TYDrW1/r-base-4.5.0=. -fstack-protector-strong -Wformat -Werror=format-security -Wdate-time -D_FORTIFY_SOURCE=2  -c XRawList_comparison.c -o XRawList_comparison.o\n",
            "gcc -I\"/usr/share/R/include\" -DNDEBUG  -I'/usr/local/lib/R/site-library/S4Vectors/include' -I'/usr/local/lib/R/site-library/IRanges/include'     -fpic  -g -O2 -ffile-prefix-map=/build/r-base-TYDrW1/r-base-4.5.0=. -fstack-protector-strong -Wformat -Werror=format-security -Wdate-time -D_FORTIFY_SOURCE=2  -c XRaw_class.c -o XRaw_class.o\n",
            "gcc -I\"/usr/share/R/include\" -DNDEBUG  -I'/usr/local/lib/R/site-library/S4Vectors/include' -I'/usr/local/lib/R/site-library/IRanges/include'     -fpic  -g -O2 -ffile-prefix-map=/build/r-base-TYDrW1/r-base-4.5.0=. -fstack-protector-strong -Wformat -Werror=format-security -Wdate-time -D_FORTIFY_SOURCE=2  -c XVectorList_class.c -o XVectorList_class.o\n",
            "gcc -I\"/usr/share/R/include\" -DNDEBUG  -I'/usr/local/lib/R/site-library/S4Vectors/include' -I'/usr/local/lib/R/site-library/IRanges/include'     -fpic  -g -O2 -ffile-prefix-map=/build/r-base-TYDrW1/r-base-4.5.0=. -fstack-protector-strong -Wformat -Werror=format-security -Wdate-time -D_FORTIFY_SOURCE=2  -c XVector_class.c -o XVector_class.o\n",
            "gcc -I\"/usr/share/R/include\" -DNDEBUG  -I'/usr/local/lib/R/site-library/S4Vectors/include' -I'/usr/local/lib/R/site-library/IRanges/include'     -fpic  -g -O2 -ffile-prefix-map=/build/r-base-TYDrW1/r-base-4.5.0=. -fstack-protector-strong -Wformat -Werror=format-security -Wdate-time -D_FORTIFY_SOURCE=2  -c io_utils.c -o io_utils.o\n",
            "gcc -I\"/usr/share/R/include\" -DNDEBUG  -I'/usr/local/lib/R/site-library/S4Vectors/include' -I'/usr/local/lib/R/site-library/IRanges/include'     -fpic  -g -O2 -ffile-prefix-map=/build/r-base-TYDrW1/r-base-4.5.0=. -fstack-protector-strong -Wformat -Werror=format-security -Wdate-time -D_FORTIFY_SOURCE=2  -c slice_methods.c -o slice_methods.o\n",
            "gcc -I\"/usr/share/R/include\" -DNDEBUG  -I'/usr/local/lib/R/site-library/S4Vectors/include' -I'/usr/local/lib/R/site-library/IRanges/include'     -fpic  -g -O2 -ffile-prefix-map=/build/r-base-TYDrW1/r-base-4.5.0=. -fstack-protector-strong -Wformat -Werror=format-security -Wdate-time -D_FORTIFY_SOURCE=2  -c vector_copy.c -o vector_copy.o\n",
            "gcc -I\"/usr/share/R/include\" -DNDEBUG  -I'/usr/local/lib/R/site-library/S4Vectors/include' -I'/usr/local/lib/R/site-library/IRanges/include'     -fpic  -g -O2 -ffile-prefix-map=/build/r-base-TYDrW1/r-base-4.5.0=. -fstack-protector-strong -Wformat -Werror=format-security -Wdate-time -D_FORTIFY_SOURCE=2  -c view_summarization_methods.c -o view_summarization_methods.o\n",
            "gcc -shared -L/usr/lib/R/lib -Wl,-Bsymbolic-functions -flto=auto -ffat-lto-objects -flto=auto -Wl,-z,relro -o XVector.so IRanges_stubs.o Ocopy_byteblocks.o RDS_random_access.o R_init_XVector.o S4Vectors_stubs.o SharedDouble_class.o SharedInteger_class.o SharedRaw_class.o SharedVector_class.o XDouble_class.o XInteger_class.o XRawList_comparison.o XRaw_class.o XVectorList_class.o XVector_class.o io_utils.o slice_methods.o vector_copy.o view_summarization_methods.o -lz -L/usr/lib/R/lib -lR\n",
            "installing to /usr/local/lib/R/site-library/00LOCK-XVector/00new/XVector/libs\n",
            "** R\n",
            "** inst\n",
            "** byte-compile and prepare package for lazy loading\n",
            "** help\n",
            "*** installing help indices\n",
            "** building package indices\n",
            "** testing if installed package can be loaded from temporary location\n",
            "** checking absolute paths in shared objects and dynamic libraries\n",
            "** testing if installed package can be loaded from final location\n",
            "** testing if installed package keeps a record of temporary installation path\n",
            "* DONE (XVector)\n",
            "* installing *source* package ‘Biostrings’ ...\n",
            "** this is package ‘Biostrings’ version ‘2.76.0’\n",
            "** using staged installation\n",
            "** libs\n",
            "using C compiler: ‘gcc (Ubuntu 11.4.0-1ubuntu1~22.04) 11.4.0’\n",
            "gcc -I\"/usr/share/R/include\" -DNDEBUG  -I'/usr/local/lib/R/site-library/S4Vectors/include' -I'/usr/local/lib/R/site-library/IRanges/include' -I'/usr/local/lib/R/site-library/XVector/include'     -fpic  -g -O2 -ffile-prefix-map=/build/r-base-TYDrW1/r-base-4.5.0=. -fstack-protector-strong -Wformat -Werror=format-security -Wdate-time -D_FORTIFY_SOURCE=2  -c BAB_class.c -o BAB_class.o\n",
            "gcc -I\"/usr/share/R/include\" -DNDEBUG  -I'/usr/local/lib/R/site-library/S4Vectors/include' -I'/usr/local/lib/R/site-library/IRanges/include' -I'/usr/local/lib/R/site-library/XVector/include'     -fpic  -g -O2 -ffile-prefix-map=/build/r-base-TYDrW1/r-base-4.5.0=. -fstack-protector-strong -Wformat -Werror=format-security -Wdate-time -D_FORTIFY_SOURCE=2  -c BitMatrix.c -o BitMatrix.o\n",
            "gcc -I\"/usr/share/R/include\" -DNDEBUG  -I'/usr/local/lib/R/site-library/S4Vectors/include' -I'/usr/local/lib/R/site-library/IRanges/include' -I'/usr/local/lib/R/site-library/XVector/include'     -fpic  -g -O2 -ffile-prefix-map=/build/r-base-TYDrW1/r-base-4.5.0=. -fstack-protector-strong -Wformat -Werror=format-security -Wdate-time -D_FORTIFY_SOURCE=2  -c IRanges_stubs.c -o IRanges_stubs.o\n",
            "gcc -I\"/usr/share/R/include\" -DNDEBUG  -I'/usr/local/lib/R/site-library/S4Vectors/include' -I'/usr/local/lib/R/site-library/IRanges/include' -I'/usr/local/lib/R/site-library/XVector/include'     -fpic  -g -O2 -ffile-prefix-map=/build/r-base-TYDrW1/r-base-4.5.0=. -fstack-protector-strong -Wformat -Werror=format-security -Wdate-time -D_FORTIFY_SOURCE=2  -c MIndex_class.c -o MIndex_class.o\n",
            "gcc -I\"/usr/share/R/include\" -DNDEBUG  -I'/usr/local/lib/R/site-library/S4Vectors/include' -I'/usr/local/lib/R/site-library/IRanges/include' -I'/usr/local/lib/R/site-library/XVector/include'     -fpic  -g -O2 -ffile-prefix-map=/build/r-base-TYDrW1/r-base-4.5.0=. -fstack-protector-strong -Wformat -Werror=format-security -Wdate-time -D_FORTIFY_SOURCE=2  -c PreprocessedTB_class.c -o PreprocessedTB_class.o\n",
            "gcc -I\"/usr/share/R/include\" -DNDEBUG  -I'/usr/local/lib/R/site-library/S4Vectors/include' -I'/usr/local/lib/R/site-library/IRanges/include' -I'/usr/local/lib/R/site-library/XVector/include'     -fpic  -g -O2 -ffile-prefix-map=/build/r-base-TYDrW1/r-base-4.5.0=. -fstack-protector-strong -Wformat -Werror=format-security -Wdate-time -D_FORTIFY_SOURCE=2  -c R_init_Biostrings.c -o R_init_Biostrings.o\n",
            "gcc -I\"/usr/share/R/include\" -DNDEBUG  -I'/usr/local/lib/R/site-library/S4Vectors/include' -I'/usr/local/lib/R/site-library/IRanges/include' -I'/usr/local/lib/R/site-library/XVector/include'     -fpic  -g -O2 -ffile-prefix-map=/build/r-base-TYDrW1/r-base-4.5.0=. -fstack-protector-strong -Wformat -Werror=format-security -Wdate-time -D_FORTIFY_SOURCE=2  -c RoSeqs_utils.c -o RoSeqs_utils.o\n",
            "gcc -I\"/usr/share/R/include\" -DNDEBUG  -I'/usr/local/lib/R/site-library/S4Vectors/include' -I'/usr/local/lib/R/site-library/IRanges/include' -I'/usr/local/lib/R/site-library/XVector/include'     -fpic  -g -O2 -ffile-prefix-map=/build/r-base-TYDrW1/r-base-4.5.0=. -fstack-protector-strong -Wformat -Werror=format-security -Wdate-time -D_FORTIFY_SOURCE=2  -c S4Vectors_stubs.c -o S4Vectors_stubs.o\n",
            "gcc -I\"/usr/share/R/include\" -DNDEBUG  -I'/usr/local/lib/R/site-library/S4Vectors/include' -I'/usr/local/lib/R/site-library/IRanges/include' -I'/usr/local/lib/R/site-library/XVector/include'     -fpic  -g -O2 -ffile-prefix-map=/build/r-base-TYDrW1/r-base-4.5.0=. -fstack-protector-strong -Wformat -Werror=format-security -Wdate-time -D_FORTIFY_SOURCE=2  -c SparseList_utils.c -o SparseList_utils.o\n",
            "gcc -I\"/usr/share/R/include\" -DNDEBUG  -I'/usr/local/lib/R/site-library/S4Vectors/include' -I'/usr/local/lib/R/site-library/IRanges/include' -I'/usr/local/lib/R/site-library/XVector/include'     -fpic  -g -O2 -ffile-prefix-map=/build/r-base-TYDrW1/r-base-4.5.0=. -fstack-protector-strong -Wformat -Werror=format-security -Wdate-time -D_FORTIFY_SOURCE=2  -c XStringSetList_class.c -o XStringSetList_class.o\n",
            "gcc -I\"/usr/share/R/include\" -DNDEBUG  -I'/usr/local/lib/R/site-library/S4Vectors/include' -I'/usr/local/lib/R/site-library/IRanges/include' -I'/usr/local/lib/R/site-library/XVector/include'     -fpic  -g -O2 -ffile-prefix-map=/build/r-base-TYDrW1/r-base-4.5.0=. -fstack-protector-strong -Wformat -Werror=format-security -Wdate-time -D_FORTIFY_SOURCE=2  -c XStringSet_class.c -o XStringSet_class.o\n",
            "gcc -I\"/usr/share/R/include\" -DNDEBUG  -I'/usr/local/lib/R/site-library/S4Vectors/include' -I'/usr/local/lib/R/site-library/IRanges/include' -I'/usr/local/lib/R/site-library/XVector/include'     -fpic  -g -O2 -ffile-prefix-map=/build/r-base-TYDrW1/r-base-4.5.0=. -fstack-protector-strong -Wformat -Werror=format-security -Wdate-time -D_FORTIFY_SOURCE=2  -c XString_class.c -o XString_class.o\n",
            "gcc -I\"/usr/share/R/include\" -DNDEBUG  -I'/usr/local/lib/R/site-library/S4Vectors/include' -I'/usr/local/lib/R/site-library/IRanges/include' -I'/usr/local/lib/R/site-library/XVector/include'     -fpic  -g -O2 -ffile-prefix-map=/build/r-base-TYDrW1/r-base-4.5.0=. -fstack-protector-strong -Wformat -Werror=format-security -Wdate-time -D_FORTIFY_SOURCE=2  -c XVector_stubs.c -o XVector_stubs.o\n",
            "gcc -I\"/usr/share/R/include\" -DNDEBUG  -I'/usr/local/lib/R/site-library/S4Vectors/include' -I'/usr/local/lib/R/site-library/IRanges/include' -I'/usr/local/lib/R/site-library/XVector/include'     -fpic  -g -O2 -ffile-prefix-map=/build/r-base-TYDrW1/r-base-4.5.0=. -fstack-protector-strong -Wformat -Werror=format-security -Wdate-time -D_FORTIFY_SOURCE=2  -c find_palindromes.c -o find_palindromes.o\n",
            "gcc -I\"/usr/share/R/include\" -DNDEBUG  -I'/usr/local/lib/R/site-library/S4Vectors/include' -I'/usr/local/lib/R/site-library/IRanges/include' -I'/usr/local/lib/R/site-library/XVector/include'     -fpic  -g -O2 -ffile-prefix-map=/build/r-base-TYDrW1/r-base-4.5.0=. -fstack-protector-strong -Wformat -Werror=format-security -Wdate-time -D_FORTIFY_SOURCE=2  -c gtestsim.c -o gtestsim.o\n",
            "gcc -I\"/usr/share/R/include\" -DNDEBUG  -I'/usr/local/lib/R/site-library/S4Vectors/include' -I'/usr/local/lib/R/site-library/IRanges/include' -I'/usr/local/lib/R/site-library/XVector/include'     -fpic  -g -O2 -ffile-prefix-map=/build/r-base-TYDrW1/r-base-4.5.0=. -fstack-protector-strong -Wformat -Werror=format-security -Wdate-time -D_FORTIFY_SOURCE=2  -c inject_code.c -o inject_code.o\n",
            "gcc -I\"/usr/share/R/include\" -DNDEBUG  -I'/usr/local/lib/R/site-library/S4Vectors/include' -I'/usr/local/lib/R/site-library/IRanges/include' -I'/usr/local/lib/R/site-library/XVector/include'     -fpic  -g -O2 -ffile-prefix-map=/build/r-base-TYDrW1/r-base-4.5.0=. -fstack-protector-strong -Wformat -Werror=format-security -Wdate-time -D_FORTIFY_SOURCE=2  -c letter_frequency.c -o letter_frequency.o\n",
            "gcc -I\"/usr/share/R/include\" -DNDEBUG  -I'/usr/local/lib/R/site-library/S4Vectors/include' -I'/usr/local/lib/R/site-library/IRanges/include' -I'/usr/local/lib/R/site-library/XVector/include'     -fpic  -g -O2 -ffile-prefix-map=/build/r-base-TYDrW1/r-base-4.5.0=. -fstack-protector-strong -Wformat -Werror=format-security -Wdate-time -D_FORTIFY_SOURCE=2  -c lowlevel_matching.c -o lowlevel_matching.o\n",
            "gcc -I\"/usr/share/R/include\" -DNDEBUG  -I'/usr/local/lib/R/site-library/S4Vectors/include' -I'/usr/local/lib/R/site-library/IRanges/include' -I'/usr/local/lib/R/site-library/XVector/include'     -fpic  -g -O2 -ffile-prefix-map=/build/r-base-TYDrW1/r-base-4.5.0=. -fstack-protector-strong -Wformat -Werror=format-security -Wdate-time -D_FORTIFY_SOURCE=2  -c match_PWM.c -o match_PWM.o\n",
            "gcc -I\"/usr/share/R/include\" -DNDEBUG  -I'/usr/local/lib/R/site-library/S4Vectors/include' -I'/usr/local/lib/R/site-library/IRanges/include' -I'/usr/local/lib/R/site-library/XVector/include'     -fpic  -g -O2 -ffile-prefix-map=/build/r-base-TYDrW1/r-base-4.5.0=. -fstack-protector-strong -Wformat -Werror=format-security -Wdate-time -D_FORTIFY_SOURCE=2  -c match_pattern.c -o match_pattern.o\n",
            "gcc -I\"/usr/share/R/include\" -DNDEBUG  -I'/usr/local/lib/R/site-library/S4Vectors/include' -I'/usr/local/lib/R/site-library/IRanges/include' -I'/usr/local/lib/R/site-library/XVector/include'     -fpic  -g -O2 -ffile-prefix-map=/build/r-base-TYDrW1/r-base-4.5.0=. -fstack-protector-strong -Wformat -Werror=format-security -Wdate-time -D_FORTIFY_SOURCE=2  -c match_pattern_boyermoore.c -o match_pattern_boyermoore.o\n",
            "gcc -I\"/usr/share/R/include\" -DNDEBUG  -I'/usr/local/lib/R/site-library/S4Vectors/include' -I'/usr/local/lib/R/site-library/IRanges/include' -I'/usr/local/lib/R/site-library/XVector/include'     -fpic  -g -O2 -ffile-prefix-map=/build/r-base-TYDrW1/r-base-4.5.0=. -fstack-protector-strong -Wformat -Werror=format-security -Wdate-time -D_FORTIFY_SOURCE=2  -c match_pattern_indels.c -o match_pattern_indels.o\n",
            "gcc -I\"/usr/share/R/include\" -DNDEBUG  -I'/usr/local/lib/R/site-library/S4Vectors/include' -I'/usr/local/lib/R/site-library/IRanges/include' -I'/usr/local/lib/R/site-library/XVector/include'     -fpic  -g -O2 -ffile-prefix-map=/build/r-base-TYDrW1/r-base-4.5.0=. -fstack-protector-strong -Wformat -Werror=format-security -Wdate-time -D_FORTIFY_SOURCE=2  -c match_pattern_shiftor.c -o match_pattern_shiftor.o\n",
            "gcc -I\"/usr/share/R/include\" -DNDEBUG  -I'/usr/local/lib/R/site-library/S4Vectors/include' -I'/usr/local/lib/R/site-library/IRanges/include' -I'/usr/local/lib/R/site-library/XVector/include'     -fpic  -g -O2 -ffile-prefix-map=/build/r-base-TYDrW1/r-base-4.5.0=. -fstack-protector-strong -Wformat -Werror=format-security -Wdate-time -D_FORTIFY_SOURCE=2  -c match_pdict.c -o match_pdict.o\n",
            "gcc -I\"/usr/share/R/include\" -DNDEBUG  -I'/usr/local/lib/R/site-library/S4Vectors/include' -I'/usr/local/lib/R/site-library/IRanges/include' -I'/usr/local/lib/R/site-library/XVector/include'     -fpic  -g -O2 -ffile-prefix-map=/build/r-base-TYDrW1/r-base-4.5.0=. -fstack-protector-strong -Wformat -Werror=format-security -Wdate-time -D_FORTIFY_SOURCE=2  -c match_pdict_ACtree2.c -o match_pdict_ACtree2.o\n",
            "gcc -I\"/usr/share/R/include\" -DNDEBUG  -I'/usr/local/lib/R/site-library/S4Vectors/include' -I'/usr/local/lib/R/site-library/IRanges/include' -I'/usr/local/lib/R/site-library/XVector/include'     -fpic  -g -O2 -ffile-prefix-map=/build/r-base-TYDrW1/r-base-4.5.0=. -fstack-protector-strong -Wformat -Werror=format-security -Wdate-time -D_FORTIFY_SOURCE=2  -c match_pdict_Twobit.c -o match_pdict_Twobit.o\n",
            "gcc -I\"/usr/share/R/include\" -DNDEBUG  -I'/usr/local/lib/R/site-library/S4Vectors/include' -I'/usr/local/lib/R/site-library/IRanges/include' -I'/usr/local/lib/R/site-library/XVector/include'     -fpic  -g -O2 -ffile-prefix-map=/build/r-base-TYDrW1/r-base-4.5.0=. -fstack-protector-strong -Wformat -Werror=format-security -Wdate-time -D_FORTIFY_SOURCE=2  -c match_pdict_utils.c -o match_pdict_utils.o\n",
            "gcc -I\"/usr/share/R/include\" -DNDEBUG  -I'/usr/local/lib/R/site-library/S4Vectors/include' -I'/usr/local/lib/R/site-library/IRanges/include' -I'/usr/local/lib/R/site-library/XVector/include'     -fpic  -g -O2 -ffile-prefix-map=/build/r-base-TYDrW1/r-base-4.5.0=. -fstack-protector-strong -Wformat -Werror=format-security -Wdate-time -D_FORTIFY_SOURCE=2  -c match_reporting.c -o match_reporting.o\n",
            "gcc -I\"/usr/share/R/include\" -DNDEBUG  -I'/usr/local/lib/R/site-library/S4Vectors/include' -I'/usr/local/lib/R/site-library/IRanges/include' -I'/usr/local/lib/R/site-library/XVector/include'     -fpic  -g -O2 -ffile-prefix-map=/build/r-base-TYDrW1/r-base-4.5.0=. -fstack-protector-strong -Wformat -Werror=format-security -Wdate-time -D_FORTIFY_SOURCE=2  -c matchprobes.c -o matchprobes.o\n",
            "gcc -I\"/usr/share/R/include\" -DNDEBUG  -I'/usr/local/lib/R/site-library/S4Vectors/include' -I'/usr/local/lib/R/site-library/IRanges/include' -I'/usr/local/lib/R/site-library/XVector/include'     -fpic  -g -O2 -ffile-prefix-map=/build/r-base-TYDrW1/r-base-4.5.0=. -fstack-protector-strong -Wformat -Werror=format-security -Wdate-time -D_FORTIFY_SOURCE=2  -c pmatchPattern.c -o pmatchPattern.o\n",
            "gcc -I\"/usr/share/R/include\" -DNDEBUG  -I'/usr/local/lib/R/site-library/S4Vectors/include' -I'/usr/local/lib/R/site-library/IRanges/include' -I'/usr/local/lib/R/site-library/XVector/include'     -fpic  -g -O2 -ffile-prefix-map=/build/r-base-TYDrW1/r-base-4.5.0=. -fstack-protector-strong -Wformat -Werror=format-security -Wdate-time -D_FORTIFY_SOURCE=2  -c read_fasta_files.c -o read_fasta_files.o\n",
            "gcc -I\"/usr/share/R/include\" -DNDEBUG  -I'/usr/local/lib/R/site-library/S4Vectors/include' -I'/usr/local/lib/R/site-library/IRanges/include' -I'/usr/local/lib/R/site-library/XVector/include'     -fpic  -g -O2 -ffile-prefix-map=/build/r-base-TYDrW1/r-base-4.5.0=. -fstack-protector-strong -Wformat -Werror=format-security -Wdate-time -D_FORTIFY_SOURCE=2  -c read_fastq_files.c -o read_fastq_files.o\n",
            "gcc -I\"/usr/share/R/include\" -DNDEBUG  -I'/usr/local/lib/R/site-library/S4Vectors/include' -I'/usr/local/lib/R/site-library/IRanges/include' -I'/usr/local/lib/R/site-library/XVector/include'     -fpic  -g -O2 -ffile-prefix-map=/build/r-base-TYDrW1/r-base-4.5.0=. -fstack-protector-strong -Wformat -Werror=format-security -Wdate-time -D_FORTIFY_SOURCE=2  -c replaceAt.c -o replaceAt.o\n",
            "gcc -I\"/usr/share/R/include\" -DNDEBUG  -I'/usr/local/lib/R/site-library/S4Vectors/include' -I'/usr/local/lib/R/site-library/IRanges/include' -I'/usr/local/lib/R/site-library/XVector/include'     -fpic  -g -O2 -ffile-prefix-map=/build/r-base-TYDrW1/r-base-4.5.0=. -fstack-protector-strong -Wformat -Werror=format-security -Wdate-time -D_FORTIFY_SOURCE=2  -c replace_letter_at.c -o replace_letter_at.o\n",
            "gcc -I\"/usr/share/R/include\" -DNDEBUG  -I'/usr/local/lib/R/site-library/S4Vectors/include' -I'/usr/local/lib/R/site-library/IRanges/include' -I'/usr/local/lib/R/site-library/XVector/include'     -fpic  -g -O2 -ffile-prefix-map=/build/r-base-TYDrW1/r-base-4.5.0=. -fstack-protector-strong -Wformat -Werror=format-security -Wdate-time -D_FORTIFY_SOURCE=2  -c strutils.c -o strutils.o\n",
            "gcc -I\"/usr/share/R/include\" -DNDEBUG  -I'/usr/local/lib/R/site-library/S4Vectors/include' -I'/usr/local/lib/R/site-library/IRanges/include' -I'/usr/local/lib/R/site-library/XVector/include'     -fpic  -g -O2 -ffile-prefix-map=/build/r-base-TYDrW1/r-base-4.5.0=. -fstack-protector-strong -Wformat -Werror=format-security -Wdate-time -D_FORTIFY_SOURCE=2  -c translate.c -o translate.o\n",
            "gcc -I\"/usr/share/R/include\" -DNDEBUG  -I'/usr/local/lib/R/site-library/S4Vectors/include' -I'/usr/local/lib/R/site-library/IRanges/include' -I'/usr/local/lib/R/site-library/XVector/include'     -fpic  -g -O2 -ffile-prefix-map=/build/r-base-TYDrW1/r-base-4.5.0=. -fstack-protector-strong -Wformat -Werror=format-security -Wdate-time -D_FORTIFY_SOURCE=2  -c unstrsplit_methods.c -o unstrsplit_methods.o\n",
            "gcc -I\"/usr/share/R/include\" -DNDEBUG  -I'/usr/local/lib/R/site-library/S4Vectors/include' -I'/usr/local/lib/R/site-library/IRanges/include' -I'/usr/local/lib/R/site-library/XVector/include'     -fpic  -g -O2 -ffile-prefix-map=/build/r-base-TYDrW1/r-base-4.5.0=. -fstack-protector-strong -Wformat -Werror=format-security -Wdate-time -D_FORTIFY_SOURCE=2  -c utils.c -o utils.o\n",
            "gcc -I\"/usr/share/R/include\" -DNDEBUG  -I'/usr/local/lib/R/site-library/S4Vectors/include' -I'/usr/local/lib/R/site-library/IRanges/include' -I'/usr/local/lib/R/site-library/XVector/include'     -fpic  -g -O2 -ffile-prefix-map=/build/r-base-TYDrW1/r-base-4.5.0=. -fstack-protector-strong -Wformat -Werror=format-security -Wdate-time -D_FORTIFY_SOURCE=2  -c xscat.c -o xscat.o\n",
            "gcc -shared -L/usr/lib/R/lib -Wl,-Bsymbolic-functions -flto=auto -ffat-lto-objects -flto=auto -Wl,-z,relro -o Biostrings.so BAB_class.o BitMatrix.o IRanges_stubs.o MIndex_class.o PreprocessedTB_class.o R_init_Biostrings.o RoSeqs_utils.o S4Vectors_stubs.o SparseList_utils.o XStringSetList_class.o XStringSet_class.o XString_class.o XVector_stubs.o find_palindromes.o gtestsim.o inject_code.o letter_frequency.o lowlevel_matching.o match_PWM.o match_pattern.o match_pattern_boyermoore.o match_pattern_indels.o match_pattern_shiftor.o match_pdict.o match_pdict_ACtree2.o match_pdict_Twobit.o match_pdict_utils.o match_reporting.o matchprobes.o pmatchPattern.o read_fasta_files.o read_fastq_files.o replaceAt.o replace_letter_at.o strutils.o translate.o unstrsplit_methods.o utils.o xscat.o -L/usr/lib/R/lib -lR\n",
            "installing to /usr/local/lib/R/site-library/00LOCK-Biostrings/00new/Biostrings/libs\n",
            "** R\n",
            "** data\n",
            "** inst\n",
            "** byte-compile and prepare package for lazy loading\n",
            "in method for ‘twoWayAlphabetFrequencyByQuality’ with signature ‘\"QualityScaledXStringSet\"’: no definition for class “QualityScaledXStringSet”\n",
            "Creating a new generic function for ‘strsplit’ in package ‘Biostrings’\n",
            "Creating a generic function for ‘ls’ from package ‘base’ in package ‘Biostrings’\n",
            "Creating a new generic function for ‘offset’ in package ‘Biostrings’\n",
            "** help\n",
            "*** installing help indices\n",
            "** building package indices\n",
            "** installing vignettes\n",
            "** testing if installed package can be loaded from temporary location\n",
            "** checking absolute paths in shared objects and dynamic libraries\n",
            "** testing if installed package can be loaded from final location\n",
            "** testing if installed package keeps a record of temporary installation path\n",
            "* DONE (Biostrings)\n",
            "* installing *source* package ‘kebabs’ ...\n",
            "** this is package ‘kebabs’ version ‘1.42.0’\n",
            "** using staged installation\n",
            "** libs\n",
            "using C compiler: ‘gcc (Ubuntu 11.4.0-1ubuntu1~22.04) 11.4.0’\n",
            "using C++ compiler: ‘g++ (Ubuntu 11.4.0-1ubuntu1~22.04) 11.4.0’\n",
            "gcc -I\"/usr/share/R/include\" -DNDEBUG -DSTRICT_R_HEADERS -I'/usr/local/lib/R/site-library/IRanges/include' -I'/usr/local/lib/R/site-library/XVector/include' -I'/usr/local/lib/R/site-library/Biostrings/include' -I'/usr/lib/R/site-library/Rcpp/include' -I'/usr/local/lib/R/site-library/S4Vectors/include'     -fpic  -g -O2 -ffile-prefix-map=/build/r-base-TYDrW1/r-base-4.5.0=. -fstack-protector-strong -Wformat -Werror=format-security -Wdate-time -D_FORTIFY_SOURCE=2  -c Biostrings_stubs.c -o Biostrings_stubs.o\n",
            "gcc -I\"/usr/share/R/include\" -DNDEBUG -DSTRICT_R_HEADERS -I'/usr/local/lib/R/site-library/IRanges/include' -I'/usr/local/lib/R/site-library/XVector/include' -I'/usr/local/lib/R/site-library/Biostrings/include' -I'/usr/lib/R/site-library/Rcpp/include' -I'/usr/local/lib/R/site-library/S4Vectors/include'     -fpic  -g -O2 -ffile-prefix-map=/build/r-base-TYDrW1/r-base-4.5.0=. -fstack-protector-strong -Wformat -Werror=format-security -Wdate-time -D_FORTIFY_SOURCE=2  -c ByteStringVector.c -o ByteStringVector.o\n",
            "g++ -std=gnu++17 -I\"/usr/share/R/include\" -DNDEBUG -DSTRICT_R_HEADERS -I'/usr/local/lib/R/site-library/IRanges/include' -I'/usr/local/lib/R/site-library/XVector/include' -I'/usr/local/lib/R/site-library/Biostrings/include' -I'/usr/lib/R/site-library/Rcpp/include' -I'/usr/local/lib/R/site-library/S4Vectors/include'     -fpic  -g -O2 -ffile-prefix-map=/build/r-base-TYDrW1/r-base-4.5.0=. -fstack-protector-strong -Wformat -Werror=format-security -Wdate-time -D_FORTIFY_SOURCE=2   -c ExplicitRepC.cpp -o ExplicitRepC.o\n",
            "g++ -std=gnu++17 -I\"/usr/share/R/include\" -DNDEBUG -DSTRICT_R_HEADERS -I'/usr/local/lib/R/site-library/IRanges/include' -I'/usr/local/lib/R/site-library/XVector/include' -I'/usr/local/lib/R/site-library/Biostrings/include' -I'/usr/lib/R/site-library/Rcpp/include' -I'/usr/local/lib/R/site-library/S4Vectors/include'     -fpic  -g -O2 -ffile-prefix-map=/build/r-base-TYDrW1/r-base-4.5.0=. -fstack-protector-strong -Wformat -Werror=format-security -Wdate-time -D_FORTIFY_SOURCE=2   -c FeatureWeightsPosDepC.cpp -o FeatureWeightsPosDepC.o\n",
            "g++ -std=gnu++17 -I\"/usr/share/R/include\" -DNDEBUG -DSTRICT_R_HEADERS -I'/usr/local/lib/R/site-library/IRanges/include' -I'/usr/local/lib/R/site-library/XVector/include' -I'/usr/local/lib/R/site-library/Biostrings/include' -I'/usr/lib/R/site-library/Rcpp/include' -I'/usr/local/lib/R/site-library/S4Vectors/include'     -fpic  -g -O2 -ffile-prefix-map=/build/r-base-TYDrW1/r-base-4.5.0=. -fstack-protector-strong -Wformat -Werror=format-security -Wdate-time -D_FORTIFY_SOURCE=2   -c GappyPairC.cpp -o GappyPairC.o\n",
            "gcc -I\"/usr/share/R/include\" -DNDEBUG -DSTRICT_R_HEADERS -I'/usr/local/lib/R/site-library/IRanges/include' -I'/usr/local/lib/R/site-library/XVector/include' -I'/usr/local/lib/R/site-library/Biostrings/include' -I'/usr/lib/R/site-library/Rcpp/include' -I'/usr/local/lib/R/site-library/S4Vectors/include'     -fpic  -g -O2 -ffile-prefix-map=/build/r-base-TYDrW1/r-base-4.5.0=. -fstack-protector-strong -Wformat -Werror=format-security -Wdate-time -D_FORTIFY_SOURCE=2  -c IRanges_stubs.c -o IRanges_stubs.o\n",
            "g++ -std=gnu++17 -I\"/usr/share/R/include\" -DNDEBUG -DSTRICT_R_HEADERS -I'/usr/local/lib/R/site-library/IRanges/include' -I'/usr/local/lib/R/site-library/XVector/include' -I'/usr/local/lib/R/site-library/Biostrings/include' -I'/usr/lib/R/site-library/Rcpp/include' -I'/usr/local/lib/R/site-library/S4Vectors/include'     -fpic  -g -O2 -ffile-prefix-map=/build/r-base-TYDrW1/r-base-4.5.0=. -fstack-protector-strong -Wformat -Werror=format-security -Wdate-time -D_FORTIFY_SOURCE=2   -c KernelUtils.cpp -o KernelUtils.o\n",
            "g++ -std=gnu++17 -I\"/usr/share/R/include\" -DNDEBUG -DSTRICT_R_HEADERS -I'/usr/local/lib/R/site-library/IRanges/include' -I'/usr/local/lib/R/site-library/XVector/include' -I'/usr/local/lib/R/site-library/Biostrings/include' -I'/usr/lib/R/site-library/Rcpp/include' -I'/usr/local/lib/R/site-library/S4Vectors/include'     -fpic  -g -O2 -ffile-prefix-map=/build/r-base-TYDrW1/r-base-4.5.0=. -fstack-protector-strong -Wformat -Werror=format-security -Wdate-time -D_FORTIFY_SOURCE=2   -c MismatchC.cpp -o MismatchC.o\n",
            "g++ -std=gnu++17 -I\"/usr/share/R/include\" -DNDEBUG -DSTRICT_R_HEADERS -I'/usr/local/lib/R/site-library/IRanges/include' -I'/usr/local/lib/R/site-library/XVector/include' -I'/usr/local/lib/R/site-library/Biostrings/include' -I'/usr/lib/R/site-library/Rcpp/include' -I'/usr/local/lib/R/site-library/S4Vectors/include'     -fpic  -g -O2 -ffile-prefix-map=/build/r-base-TYDrW1/r-base-4.5.0=. -fstack-protector-strong -Wformat -Werror=format-security -Wdate-time -D_FORTIFY_SOURCE=2   -c MotifC.cpp -o MotifC.o\n",
            "g++ -std=gnu++17 -I\"/usr/share/R/include\" -DNDEBUG -DSTRICT_R_HEADERS -I'/usr/local/lib/R/site-library/IRanges/include' -I'/usr/local/lib/R/site-library/XVector/include' -I'/usr/local/lib/R/site-library/Biostrings/include' -I'/usr/lib/R/site-library/Rcpp/include' -I'/usr/local/lib/R/site-library/S4Vectors/include'     -fpic  -g -O2 -ffile-prefix-map=/build/r-base-TYDrW1/r-base-4.5.0=. -fstack-protector-strong -Wformat -Werror=format-security -Wdate-time -D_FORTIFY_SOURCE=2   -c PredictionC.cpp -o PredictionC.o\n",
            "g++ -std=gnu++17 -I\"/usr/share/R/include\" -DNDEBUG -DSTRICT_R_HEADERS -I'/usr/local/lib/R/site-library/IRanges/include' -I'/usr/local/lib/R/site-library/XVector/include' -I'/usr/local/lib/R/site-library/Biostrings/include' -I'/usr/lib/R/site-library/Rcpp/include' -I'/usr/local/lib/R/site-library/S4Vectors/include'     -fpic  -g -O2 -ffile-prefix-map=/build/r-base-TYDrW1/r-base-4.5.0=. -fstack-protector-strong -Wformat -Werror=format-security -Wdate-time -D_FORTIFY_SOURCE=2   -c PredictionProfileC.cpp -o PredictionProfileC.o\n",
            "g++ -std=gnu++17 -I\"/usr/share/R/include\" -DNDEBUG -DSTRICT_R_HEADERS -I'/usr/local/lib/R/site-library/IRanges/include' -I'/usr/local/lib/R/site-library/XVector/include' -I'/usr/local/lib/R/site-library/Biostrings/include' -I'/usr/lib/R/site-library/Rcpp/include' -I'/usr/local/lib/R/site-library/S4Vectors/include'     -fpic  -g -O2 -ffile-prefix-map=/build/r-base-TYDrW1/r-base-4.5.0=. -fstack-protector-strong -Wformat -Werror=format-security -Wdate-time -D_FORTIFY_SOURCE=2   -c R_init_kebabs.cpp -o R_init_kebabs.o\n",
            "gcc -I\"/usr/share/R/include\" -DNDEBUG -DSTRICT_R_HEADERS -I'/usr/local/lib/R/site-library/IRanges/include' -I'/usr/local/lib/R/site-library/XVector/include' -I'/usr/local/lib/R/site-library/Biostrings/include' -I'/usr/lib/R/site-library/Rcpp/include' -I'/usr/local/lib/R/site-library/S4Vectors/include'     -fpic  -g -O2 -ffile-prefix-map=/build/r-base-TYDrW1/r-base-4.5.0=. -fstack-protector-strong -Wformat -Werror=format-security -Wdate-time -D_FORTIFY_SOURCE=2  -c Rsvm.c -o Rsvm.o\n",
            "g++ -std=gnu++17 -I\"/usr/share/R/include\" -DNDEBUG -DSTRICT_R_HEADERS -I'/usr/local/lib/R/site-library/IRanges/include' -I'/usr/local/lib/R/site-library/XVector/include' -I'/usr/local/lib/R/site-library/Biostrings/include' -I'/usr/lib/R/site-library/Rcpp/include' -I'/usr/local/lib/R/site-library/S4Vectors/include'     -fpic  -g -O2 -ffile-prefix-map=/build/r-base-TYDrW1/r-base-4.5.0=. -fstack-protector-strong -Wformat -Werror=format-security -Wdate-time -D_FORTIFY_SOURCE=2   -c SparseMatrixHash.cpp -o SparseMatrixHash.o\n",
            "g++ -std=gnu++17 -I\"/usr/share/R/include\" -DNDEBUG -DSTRICT_R_HEADERS -I'/usr/local/lib/R/site-library/IRanges/include' -I'/usr/local/lib/R/site-library/XVector/include' -I'/usr/local/lib/R/site-library/Biostrings/include' -I'/usr/lib/R/site-library/Rcpp/include' -I'/usr/local/lib/R/site-library/S4Vectors/include'     -fpic  -g -O2 -ffile-prefix-map=/build/r-base-TYDrW1/r-base-4.5.0=. -fstack-protector-strong -Wformat -Werror=format-security -Wdate-time -D_FORTIFY_SOURCE=2   -c SpectrumC.cpp -o SpectrumC.o\n",
            "g++ -std=gnu++17 -I\"/usr/share/R/include\" -DNDEBUG -DSTRICT_R_HEADERS -I'/usr/local/lib/R/site-library/IRanges/include' -I'/usr/local/lib/R/site-library/XVector/include' -I'/usr/local/lib/R/site-library/Biostrings/include' -I'/usr/lib/R/site-library/Rcpp/include' -I'/usr/local/lib/R/site-library/S4Vectors/include'     -fpic  -g -O2 -ffile-prefix-map=/build/r-base-TYDrW1/r-base-4.5.0=. -fstack-protector-strong -Wformat -Werror=format-security -Wdate-time -D_FORTIFY_SOURCE=2   -c SymmetricPairC.cpp -o SymmetricPairC.o\n",
            "g++ -std=gnu++17 -I\"/usr/share/R/include\" -DNDEBUG -DSTRICT_R_HEADERS -I'/usr/local/lib/R/site-library/IRanges/include' -I'/usr/local/lib/R/site-library/XVector/include' -I'/usr/local/lib/R/site-library/Biostrings/include' -I'/usr/lib/R/site-library/Rcpp/include' -I'/usr/local/lib/R/site-library/S4Vectors/include'     -fpic  -g -O2 -ffile-prefix-map=/build/r-base-TYDrW1/r-base-4.5.0=. -fstack-protector-strong -Wformat -Werror=format-security -Wdate-time -D_FORTIFY_SOURCE=2   -c Utils.cpp -o Utils.o\n",
            "gcc -I\"/usr/share/R/include\" -DNDEBUG -DSTRICT_R_HEADERS -I'/usr/local/lib/R/site-library/IRanges/include' -I'/usr/local/lib/R/site-library/XVector/include' -I'/usr/local/lib/R/site-library/Biostrings/include' -I'/usr/lib/R/site-library/Rcpp/include' -I'/usr/local/lib/R/site-library/S4Vectors/include'     -fpic  -g -O2 -ffile-prefix-map=/build/r-base-TYDrW1/r-base-4.5.0=. -fstack-protector-strong -Wformat -Werror=format-security -Wdate-time -D_FORTIFY_SOURCE=2  -c XVector_stubs.c -o XVector_stubs.o\n",
            "g++ -std=gnu++17 -I\"/usr/share/R/include\" -DNDEBUG -DSTRICT_R_HEADERS -I'/usr/local/lib/R/site-library/IRanges/include' -I'/usr/local/lib/R/site-library/XVector/include' -I'/usr/local/lib/R/site-library/Biostrings/include' -I'/usr/lib/R/site-library/Rcpp/include' -I'/usr/local/lib/R/site-library/S4Vectors/include'     -fpic  -g -O2 -ffile-prefix-map=/build/r-base-TYDrW1/r-base-4.5.0=. -fstack-protector-strong -Wformat -Werror=format-security -Wdate-time -D_FORTIFY_SOURCE=2   -c svm.cpp -o svm.o\n",
            "g++ -std=gnu++17 -shared -L/usr/lib/R/lib -Wl,-Bsymbolic-functions -flto=auto -ffat-lto-objects -flto=auto -Wl,-z,relro -o kebabs.so Biostrings_stubs.o ByteStringVector.o ExplicitRepC.o FeatureWeightsPosDepC.o GappyPairC.o IRanges_stubs.o KernelUtils.o MismatchC.o MotifC.o PredictionC.o PredictionProfileC.o R_init_kebabs.o Rsvm.o SparseMatrixHash.o SpectrumC.o SymmetricPairC.o Utils.o XVector_stubs.o svm.o -L/usr/lib/R/lib -lR\n",
            "installing to /usr/local/lib/R/site-library/00LOCK-kebabs/00new/kebabs/libs\n",
            "** R\n",
            "** data\n",
            "** inst\n",
            "** byte-compile and prepare package for lazy loading\n",
            "** help\n",
            "*** installing help indices\n",
            "** building package indices\n",
            "** installing vignettes\n",
            "** testing if installed package can be loaded from temporary location\n",
            "** checking absolute paths in shared objects and dynamic libraries\n",
            "** testing if installed package can be loaded from final location\n",
            "** testing if installed package keeps a record of temporary installation path\n",
            "* DONE (kebabs)\n",
            "\n",
            "The downloaded source packages are in\n",
            "\t‘/tmp/RtmpFXCsJ4/downloaded_packages’\n",
            "Old packages: 'textshaping', 'utf8'\n",
            "> \n"
          ]
        }
      ],
      "source": [
        "# We install Kebabs on the version of R that runs colab\n",
        "!R -e \"if (!requireNamespace('BiocManager', quietly = TRUE)) install.packages('BiocManager')\"\n",
        "!R -e \"BiocManager::install('kebabs')\""
      ]
    },
    {
      "cell_type": "code",
      "execution_count": null,
      "metadata": {
        "id": "CjkCovfrrkvd"
      },
      "outputs": [],
      "source": [
        "# We create the folders to save the descriptors\n",
        "dir = './analysis/features/kernel/spec/'\n",
        "if not os.path.exists(dir):\n",
        "    os.makedirs(dir)\n",
        "\n",
        "dir = './analysis/features/kernel/mism/'\n",
        "if not os.path.exists(dir):\n",
        "    os.makedirs(dir)\n",
        "\n",
        "dir = './analysis/features/kernel/gap/'\n",
        "if not os.path.exists(dir):\n",
        "    os.makedirs(dir)"
      ]
    },
    {
      "cell_type": "code",
      "execution_count": null,
      "metadata": {
        "colab": {
          "base_uri": "https://localhost:8080/"
        },
        "id": "B0T1ftlP4Ly0",
        "outputId": "c200f149-bf98-47fa-a3c5-8e9be664ebf3"
      },
      "outputs": [
        {
          "output_type": "stream",
          "name": "stdout",
          "text": [
            "Loading required package: Biostrings\n",
            "Loading required package: BiocGenerics\n",
            "Loading required package: generics\n",
            "\n",
            "Attaching package: ‘generics’\n",
            "\n",
            "The following objects are masked from ‘package:base’:\n",
            "\n",
            "    as.difftime, as.factor, as.ordered, intersect, is.element, setdiff,\n",
            "    setequal, union\n",
            "\n",
            "\n",
            "Attaching package: ‘BiocGenerics’\n",
            "\n",
            "The following objects are masked from ‘package:stats’:\n",
            "\n",
            "    IQR, mad, sd, var, xtabs\n",
            "\n",
            "The following objects are masked from ‘package:base’:\n",
            "\n",
            "    anyDuplicated, aperm, append, as.data.frame, basename, cbind,\n",
            "    colnames, dirname, do.call, duplicated, eval, evalq, Filter, Find,\n",
            "    get, grep, grepl, is.unsorted, lapply, Map, mapply, match, mget,\n",
            "    order, paste, pmax, pmax.int, pmin, pmin.int, Position, rank,\n",
            "    rbind, Reduce, rownames, sapply, saveRDS, table, tapply, unique,\n",
            "    unsplit, which.max, which.min\n",
            "\n",
            "Loading required package: S4Vectors\n",
            "Loading required package: stats4\n",
            "\n",
            "Attaching package: ‘S4Vectors’\n",
            "\n",
            "The following object is masked from ‘package:utils’:\n",
            "\n",
            "    findMatches\n",
            "\n",
            "The following objects are masked from ‘package:base’:\n",
            "\n",
            "    expand.grid, I, unname\n",
            "\n",
            "Loading required package: IRanges\n",
            "Loading required package: XVector\n",
            "Loading required package: GenomeInfoDb\n",
            "\n",
            "Attaching package: ‘Biostrings’\n",
            "\n",
            "The following object is masked from ‘package:base’:\n",
            "\n",
            "    strsplit\n",
            "\n",
            "Loading required package: kernlab\n",
            "\n",
            "Attaching package: ‘kernlab’\n",
            "\n",
            "The following object is masked from ‘package:BiocGenerics’:\n",
            "\n",
            "    type\n",
            "\n",
            "\n",
            "Attaching package: ‘Matrix’\n",
            "\n",
            "The following object is masked from ‘package:S4Vectors’:\n",
            "\n",
            "    expand\n",
            "\n",
            "NULL\n",
            "NULL\n",
            "NULL\n"
          ]
        }
      ],
      "source": [
        "# Running the Rscript using a bash command\n",
        "!Rscript ./utils/Kernels-KeBABs.r"
      ]
    },
    {
      "cell_type": "markdown",
      "metadata": {
        "id": "X30kLx0d_hUQ"
      },
      "source": [
        "##### Analyzing the exit of Kebabs\n"
      ]
    },
    {
      "cell_type": "code",
      "execution_count": null,
      "metadata": {
        "id": "btAgqkX0_fJJ"
      },
      "outputs": [],
      "source": [
        "featfile_dir = \"./analysis/features/kernel/\"\n",
        "file_prefixes = ['spec', 'gap', 'mism']\n",
        "output_train_file = \"./analysis/features/kernel/train/\"\n",
        "output_search_space_file = \"./analysis/features/kernel/search_space/\"\n",
        "\n",
        "os.makedirs(output_train_file, exist_ok=True)\n",
        "os.makedirs(output_search_space_file, exist_ok=True)"
      ]
    },
    {
      "cell_type": "code",
      "execution_count": null,
      "metadata": {
        "id": "syTk9Hpq_rcG"
      },
      "outputs": [],
      "source": [
        "def save_feat_vec_files(file_dir, outdir_train, outdir_search_space, file_prefix):\n",
        "    '''\n",
        "      It takes the kernel features (mismatch, spectrum, and Gappy) and saves them in the train and search_space folders.\n",
        "\n",
        "      Inputs\n",
        "        file_dir: String; Path to the directory where the input files are located.\n",
        "        outdir_train: String; Path to the directory where the output files for the training enzymes will be saved.\n",
        "        outdir_search_space: String; Path to the directory where the output files for the search space enzymes will be saved.\n",
        "        file_prefix: String; Prefix used to construct the names of the input and output files.\n",
        "    '''\n",
        "\n",
        "    sp_mat_file = file_dir + file_prefix + \"/\" + file_prefix + '_kern_sparsematrix.txt'\n",
        "    enz_name_file = file_dir + file_prefix + \"/\" + file_prefix + '_kern_rownames.txt'\n",
        "    print(sp_mat_file)\n",
        "    print(enz_name_file)\n",
        "    sp_mat = io.mmread(sp_mat_file).tocsr()\n",
        "    enz_names = np.genfromtxt(enz_name_file, dtype=str)\n",
        "\n",
        "\n",
        "    train_enz_idx = []\n",
        "    search_space_enz_idx = []\n",
        "\n",
        "    for idx, enz_name in enumerate(enz_names):\n",
        "        if enz_name.startswith('enz'):\n",
        "            train_enz_idx.append(idx)\n",
        "        elif enz_name.startswith('search_space'):\n",
        "            search_space_enz_idx.append(idx)\n",
        "        else:\n",
        "            raise ValueError('Wrong Enzyme Prefix')\n",
        "\n",
        "    X_train, X_search_space = sp_mat[train_enz_idx,:], sp_mat[search_space_enz_idx,:]\n",
        "\n",
        "    enz_names_train, enz_names_search_space = enz_names[train_enz_idx], enz_names[search_space_enz_idx]\n",
        "\n",
        "    assert X_train.shape[0] == len(enz_names_train)\n",
        "    assert X_search_space.shape[0] == len(enz_names_search_space)\n",
        "\n",
        "\n",
        "    sparse.save_npz(outdir_train+file_prefix+'mat.npz', X_train)\n",
        "    sparse.save_npz(outdir_search_space+file_prefix+'mat.npz', X_search_space)\n",
        "\n",
        "    np.savetxt(outdir_train+file_prefix+'enz_names.txt', enz_names_train, fmt='%s')\n",
        "    np.savetxt(outdir_search_space+file_prefix+'enz_names.txt', enz_names_search_space, fmt='%s')\n",
        "\n",
        "\n",
        "    return"
      ]
    },
    {
      "cell_type": "code",
      "execution_count": null,
      "metadata": {
        "colab": {
          "base_uri": "https://localhost:8080/"
        },
        "id": "wx--Q-it_xyW",
        "outputId": "fdc88a06-9562-4994-f908-e684cc7ce798"
      },
      "outputs": [
        {
          "output_type": "stream",
          "name": "stdout",
          "text": [
            "./analysis/features/kernel/spec/spec_kern_sparsematrix.txt\n",
            "./analysis/features/kernel/spec/spec_kern_rownames.txt\n",
            "./analysis/features/kernel/gap/gap_kern_sparsematrix.txt\n",
            "./analysis/features/kernel/gap/gap_kern_rownames.txt\n",
            "./analysis/features/kernel/mism/mism_kern_sparsematrix.txt\n",
            "./analysis/features/kernel/mism/mism_kern_rownames.txt\n"
          ]
        }
      ],
      "source": [
        "for fp in file_prefixes:\n",
        "    save_feat_vec_files(featfile_dir, output_train_file,\n",
        "                        output_search_space_file, fp)"
      ]
    },
    {
      "cell_type": "markdown",
      "metadata": {
        "id": "phvh82L6xQqd"
      },
      "source": [
        "#### Save Descriptors\n",
        "Once the descriptors have been generated, we can save them so as not to re-execute the previous lines."
      ]
    },
    {
      "cell_type": "code",
      "execution_count": null,
      "metadata": {
        "id": "jXXLHMnUwP2p"
      },
      "outputs": [],
      "source": [
        "import shutil\n",
        "archivo = shutil.make_archive('analysis', 'zip','analysis')"
      ]
    },
    {
      "cell_type": "markdown",
      "metadata": {
        "id": "yWMmBwvzxsO2"
      },
      "source": [
        "## Load Features\n"
      ]
    },
    {
      "cell_type": "markdown",
      "metadata": {
        "id": "uriDtTPX8WGK"
      },
      "source": [
        "If you have a file with the descriptors, simply load them with the following lines. Note that you must have the initial folder loaded; to do this, run the preprocessing section."
      ]
    },
    {
      "cell_type": "code",
      "execution_count": null,
      "metadata": {
        "colab": {
          "base_uri": "https://localhost:8080/",
          "height": 73
        },
        "id": "bMlF-Pe5x6h9",
        "outputId": "0890bfb5-3009-42f2-f4fe-b31520db2831"
      },
      "outputs": [
        {
          "output_type": "display_data",
          "data": {
            "text/plain": [
              "<IPython.core.display.HTML object>"
            ],
            "text/html": [
              "\n",
              "     <input type=\"file\" id=\"files-f92ecf33-c8ae-447a-80bb-5c1a15622d60\" name=\"files[]\" multiple disabled\n",
              "        style=\"border:none\" />\n",
              "     <output id=\"result-f92ecf33-c8ae-447a-80bb-5c1a15622d60\">\n",
              "      Upload widget is only available when the cell has been executed in the\n",
              "      current browser session. Please rerun this cell to enable.\n",
              "      </output>\n",
              "      <script>// Copyright 2017 Google LLC\n",
              "//\n",
              "// Licensed under the Apache License, Version 2.0 (the \"License\");\n",
              "// you may not use this file except in compliance with the License.\n",
              "// You may obtain a copy of the License at\n",
              "//\n",
              "//      http://www.apache.org/licenses/LICENSE-2.0\n",
              "//\n",
              "// Unless required by applicable law or agreed to in writing, software\n",
              "// distributed under the License is distributed on an \"AS IS\" BASIS,\n",
              "// WITHOUT WARRANTIES OR CONDITIONS OF ANY KIND, either express or implied.\n",
              "// See the License for the specific language governing permissions and\n",
              "// limitations under the License.\n",
              "\n",
              "/**\n",
              " * @fileoverview Helpers for google.colab Python module.\n",
              " */\n",
              "(function(scope) {\n",
              "function span(text, styleAttributes = {}) {\n",
              "  const element = document.createElement('span');\n",
              "  element.textContent = text;\n",
              "  for (const key of Object.keys(styleAttributes)) {\n",
              "    element.style[key] = styleAttributes[key];\n",
              "  }\n",
              "  return element;\n",
              "}\n",
              "\n",
              "// Max number of bytes which will be uploaded at a time.\n",
              "const MAX_PAYLOAD_SIZE = 100 * 1024;\n",
              "\n",
              "function _uploadFiles(inputId, outputId) {\n",
              "  const steps = uploadFilesStep(inputId, outputId);\n",
              "  const outputElement = document.getElementById(outputId);\n",
              "  // Cache steps on the outputElement to make it available for the next call\n",
              "  // to uploadFilesContinue from Python.\n",
              "  outputElement.steps = steps;\n",
              "\n",
              "  return _uploadFilesContinue(outputId);\n",
              "}\n",
              "\n",
              "// This is roughly an async generator (not supported in the browser yet),\n",
              "// where there are multiple asynchronous steps and the Python side is going\n",
              "// to poll for completion of each step.\n",
              "// This uses a Promise to block the python side on completion of each step,\n",
              "// then passes the result of the previous step as the input to the next step.\n",
              "function _uploadFilesContinue(outputId) {\n",
              "  const outputElement = document.getElementById(outputId);\n",
              "  const steps = outputElement.steps;\n",
              "\n",
              "  const next = steps.next(outputElement.lastPromiseValue);\n",
              "  return Promise.resolve(next.value.promise).then((value) => {\n",
              "    // Cache the last promise value to make it available to the next\n",
              "    // step of the generator.\n",
              "    outputElement.lastPromiseValue = value;\n",
              "    return next.value.response;\n",
              "  });\n",
              "}\n",
              "\n",
              "/**\n",
              " * Generator function which is called between each async step of the upload\n",
              " * process.\n",
              " * @param {string} inputId Element ID of the input file picker element.\n",
              " * @param {string} outputId Element ID of the output display.\n",
              " * @return {!Iterable<!Object>} Iterable of next steps.\n",
              " */\n",
              "function* uploadFilesStep(inputId, outputId) {\n",
              "  const inputElement = document.getElementById(inputId);\n",
              "  inputElement.disabled = false;\n",
              "\n",
              "  const outputElement = document.getElementById(outputId);\n",
              "  outputElement.innerHTML = '';\n",
              "\n",
              "  const pickedPromise = new Promise((resolve) => {\n",
              "    inputElement.addEventListener('change', (e) => {\n",
              "      resolve(e.target.files);\n",
              "    });\n",
              "  });\n",
              "\n",
              "  const cancel = document.createElement('button');\n",
              "  inputElement.parentElement.appendChild(cancel);\n",
              "  cancel.textContent = 'Cancel upload';\n",
              "  const cancelPromise = new Promise((resolve) => {\n",
              "    cancel.onclick = () => {\n",
              "      resolve(null);\n",
              "    };\n",
              "  });\n",
              "\n",
              "  // Wait for the user to pick the files.\n",
              "  const files = yield {\n",
              "    promise: Promise.race([pickedPromise, cancelPromise]),\n",
              "    response: {\n",
              "      action: 'starting',\n",
              "    }\n",
              "  };\n",
              "\n",
              "  cancel.remove();\n",
              "\n",
              "  // Disable the input element since further picks are not allowed.\n",
              "  inputElement.disabled = true;\n",
              "\n",
              "  if (!files) {\n",
              "    return {\n",
              "      response: {\n",
              "        action: 'complete',\n",
              "      }\n",
              "    };\n",
              "  }\n",
              "\n",
              "  for (const file of files) {\n",
              "    const li = document.createElement('li');\n",
              "    li.append(span(file.name, {fontWeight: 'bold'}));\n",
              "    li.append(span(\n",
              "        `(${file.type || 'n/a'}) - ${file.size} bytes, ` +\n",
              "        `last modified: ${\n",
              "            file.lastModifiedDate ? file.lastModifiedDate.toLocaleDateString() :\n",
              "                                    'n/a'} - `));\n",
              "    const percent = span('0% done');\n",
              "    li.appendChild(percent);\n",
              "\n",
              "    outputElement.appendChild(li);\n",
              "\n",
              "    const fileDataPromise = new Promise((resolve) => {\n",
              "      const reader = new FileReader();\n",
              "      reader.onload = (e) => {\n",
              "        resolve(e.target.result);\n",
              "      };\n",
              "      reader.readAsArrayBuffer(file);\n",
              "    });\n",
              "    // Wait for the data to be ready.\n",
              "    let fileData = yield {\n",
              "      promise: fileDataPromise,\n",
              "      response: {\n",
              "        action: 'continue',\n",
              "      }\n",
              "    };\n",
              "\n",
              "    // Use a chunked sending to avoid message size limits. See b/62115660.\n",
              "    let position = 0;\n",
              "    do {\n",
              "      const length = Math.min(fileData.byteLength - position, MAX_PAYLOAD_SIZE);\n",
              "      const chunk = new Uint8Array(fileData, position, length);\n",
              "      position += length;\n",
              "\n",
              "      const base64 = btoa(String.fromCharCode.apply(null, chunk));\n",
              "      yield {\n",
              "        response: {\n",
              "          action: 'append',\n",
              "          file: file.name,\n",
              "          data: base64,\n",
              "        },\n",
              "      };\n",
              "\n",
              "      let percentDone = fileData.byteLength === 0 ?\n",
              "          100 :\n",
              "          Math.round((position / fileData.byteLength) * 100);\n",
              "      percent.textContent = `${percentDone}% done`;\n",
              "\n",
              "    } while (position < fileData.byteLength);\n",
              "  }\n",
              "\n",
              "  // All done.\n",
              "  yield {\n",
              "    response: {\n",
              "      action: 'complete',\n",
              "    }\n",
              "  };\n",
              "}\n",
              "\n",
              "scope.google = scope.google || {};\n",
              "scope.google.colab = scope.google.colab || {};\n",
              "scope.google.colab._files = {\n",
              "  _uploadFiles,\n",
              "  _uploadFilesContinue,\n",
              "};\n",
              "})(self);\n",
              "</script> "
            ]
          },
          "metadata": {}
        },
        {
          "output_type": "stream",
          "name": "stdout",
          "text": [
            "Saving analysis_CYP.zip to analysis_CYP.zip\n"
          ]
        }
      ],
      "source": [
        "from google.colab import files\n",
        "import shutil\n",
        "import zipfile\n",
        "import os\n",
        "\n",
        "# Delete the existing folder analysis\n",
        "fold_del = './analysis'\n",
        "if os.path.exists(fold_del):\n",
        "    shutil.rmtree(fold_del)\n",
        "\n",
        "# Upload the compressed analysis file in zip\n",
        "uploaded = files.upload()\n",
        "name_file = list(uploaded.keys())[0]\n",
        "\n",
        "# Create the folder\n",
        "dir = './analysis'\n",
        "if not os.path.exists(dir):\n",
        "    os.makedirs(dir)\n",
        "\n",
        "# Unzip\n",
        "with zipfile.ZipFile(name_file, 'r') as zip_ref:\n",
        "    zip_ref.extractall('./analysis')"
      ]
    },
    {
      "cell_type": "markdown",
      "source": [
        "## ESI Models"
      ],
      "metadata": {
        "id": "EWZLDnmDYJp5"
      }
    },
    {
      "cell_type": "code",
      "source": [
        "import numpy as np\n",
        "import pandas as pd\n",
        "from scipy import sparse\n",
        "from sklearn.neural_network import MLPClassifier\n",
        "from sklearn.ensemble import GradientBoostingClassifier, VotingClassifier\n",
        "from sklearn.svm import SVC\n",
        "from sklearn.preprocessing import StandardScaler, Normalizer\n",
        "from sklearn.decomposition import PCA\n",
        "from sklearn.metrics import accuracy_score, recall_score, precision_score\n",
        "from sklearn.model_selection import train_test_split\n",
        "import joblib\n",
        "import os\n",
        "import matplotlib.pyplot as plt\n",
        "import seaborn as sns"
      ],
      "metadata": {
        "id": "J6xBjKG-YOCm"
      },
      "execution_count": null,
      "outputs": []
    },
    {
      "cell_type": "markdown",
      "source": [
        "#### Reading of features"
      ],
      "metadata": {
        "id": "GkimrVVugPOA"
      }
    },
    {
      "cell_type": "code",
      "source": [
        "# We read the descriptors and join them into a file\n",
        "label_file = \"analysis/label/train_enz_label.csv\"\n",
        "train_feature_dirs = [\"analysis/features/ifeatpro/train/\",\n",
        "                      \"analysis/features/kernel/train/\",\n",
        "                      #\"analysis/features/pssmpro/train/\",\n",
        "                      \"analysis/features/ngrampro/kmer/train/\",\n",
        "                      \"analysis/features/ngrampro/gaakmer/train/\"]\n",
        "search_space_feature_dirs = [\"analysis/features/ifeatpro/search_space/\",\n",
        "                             \"analysis/features/kernel/search_space/\",\n",
        "                             #\"analysis/features/pssmpro/search_space/\",\n",
        "                             \"analysis/features/ngrampro/kmer/search_space/\",\n",
        "                             \"analysis/features/ngrampro/gaakmer/search_space/\"]\n",
        "\n",
        "# load labels and enzyme names\n",
        "labels_df = pd.read_csv(label_file, header=None, names=[\"enz_alias\", \"enz_label\"])\n",
        "y_train = labels_df[\"enz_label\"].values\n",
        "search_space_enz_df = pd.read_csv(\"analysis/seq/search_space_enz.csv\", header=None, names=[\"enz_alias\", \"enz_seq\"])\n",
        "search_space_enz_names = search_space_enz_df[\"enz_alias\"].values"
      ],
      "metadata": {
        "id": "5z9GXNkyYSox"
      },
      "execution_count": null,
      "outputs": []
    },
    {
      "cell_type": "code",
      "source": [
        "def load_features(feature_dirs, enz_names):\n",
        "    '''\n",
        "    Function to load and concatenate features from multiple files stored in different directories.\n",
        "    Inputs:\n",
        "      feature_dirs: list of strings; paths to the directories where the feature files are located.\n",
        "      enz_names: list of strings; enzyme names\n",
        "    Outputs:\n",
        "      all_features: numpy array; concatenated features from all files\n",
        "    '''\n",
        "    all_features = []\n",
        "    for dir_path in feature_dirs:\n",
        "        if \"kernel\" in dir_path:\n",
        "            for prefix in [\"spec\", \"gap\", \"mism\"]:\n",
        "                feat_file = os.path.join(dir_path, f\"{prefix}mat.npz\")\n",
        "                features = sparse.load_npz(feat_file).toarray()\n",
        "                all_features.append(features)\n",
        "        else:\n",
        "            for feat_file in os.listdir(dir_path):\n",
        "                if feat_file.endswith(\".npz\"):\n",
        "                    feat_path = os.path.join(dir_path, feat_file)\n",
        "                    features = sparse.load_npz(feat_path).toarray()\n",
        "                    all_features.append(features)\n",
        "    return np.hstack(all_features)"
      ],
      "metadata": {
        "id": "YPutg63J9_C7"
      },
      "execution_count": null,
      "outputs": []
    },
    {
      "cell_type": "code",
      "source": [
        "def load_features(feature_dirs, enz_names):\n",
        "    '''\n",
        "    Function to load and concatenate features from multiple files stored in different directories.\n",
        "    Inputs:\n",
        "      feature_dirs: list of strings; paths to the directories where the feature files are located.\n",
        "      enz_names: list of strings; enzyme names\n",
        "    Outputs:\n",
        "      all_features: numpy array; concatenated features from all files\n",
        "    '''\n",
        "    all_features = []\n",
        "    for dir_path in feature_dirs:\n",
        "        if \"kernel\" in dir_path:\n",
        "            for prefix in [\"spec\", \"gap\", \"mism\"]:\n",
        "                feat_file = os.path.join(dir_path, f\"{prefix}mat.npz\")\n",
        "                features = sparse.load_npz(feat_file).toarray()\n",
        "                all_features.append(features)\n",
        "        else:\n",
        "            for feat_file in os.listdir(dir_path):\n",
        "                if feat_file.endswith(\".npz\"):\n",
        "                    feat_path = os.path.join(dir_path, feat_file)\n",
        "                    features = sparse.load_npz(feat_path).toarray()\n",
        "                    all_features.append(features)\n",
        "    return np.hstack(all_features)"
      ],
      "metadata": {
        "id": "j_WJn10cYfeb"
      },
      "execution_count": null,
      "outputs": []
    },
    {
      "cell_type": "code",
      "source": [
        "# load features data train and search space\n",
        "X_train = load_features(train_feature_dirs, labels_df[\"enz_alias\"].values)\n",
        "X_search_space = load_features(search_space_feature_dirs, search_space_enz_names)"
      ],
      "metadata": {
        "id": "gRMi9W1DYlCK"
      },
      "execution_count": null,
      "outputs": []
    },
    {
      "cell_type": "code",
      "source": [
        "#scaler = StandardScaler()\n",
        "#X_train = scaler.fit_transform(X_train)\n",
        "#X_search_space = scaler.transform(X_search_space)"
      ],
      "metadata": {
        "id": "ObtuO3Rr9xje"
      },
      "execution_count": null,
      "outputs": []
    },
    {
      "cell_type": "markdown",
      "source": [
        "#### PCA and Normalization"
      ],
      "metadata": {
        "id": "ca0R_3_WZyHb"
      }
    },
    {
      "cell_type": "code",
      "source": [
        "n_components_selected=55\n",
        "pca = PCA(n_components=55, random_state=42)\n",
        "X_train_pca = pca.fit_transform(X_train)\n",
        "X_search_space_pca = pca.transform(X_search_space)"
      ],
      "metadata": {
        "id": "zTCl4YJVYoMp"
      },
      "execution_count": null,
      "outputs": []
    },
    {
      "cell_type": "code",
      "source": [
        "# PCA number components dynamic\n",
        "pca = PCA(n_components=0.95, random_state=42)  # 95% variance explained\n",
        "X_train_pca = pca.fit_transform(X_train)\n",
        "n_components_selected = pca.n_components_\n",
        "\n",
        "if n_components_selected < 55:\n",
        "    n_components_selected = 55\n",
        "    pca = PCA(n_components=n_components_selected, random_state=42)\n",
        "    X_train_pca = pca.fit_transform(X_train)\n",
        "\n",
        "print(f\"the PCA maintained {n_components_selected} components\")\n",
        "X_search_space_pca = pca.transform(X_search_space)"
      ],
      "metadata": {
        "colab": {
          "base_uri": "https://localhost:8080/"
        },
        "id": "cknQkq1dBOSP",
        "outputId": "cdd4f9f3-61c9-481d-85d1-d2b9799d206b"
      },
      "execution_count": null,
      "outputs": [
        {
          "output_type": "stream",
          "name": "stdout",
          "text": [
            "the PCA maintained 77 components\n"
          ]
        }
      ]
    },
    {
      "cell_type": "code",
      "source": [
        "# Cumulative explained variance by PCA\n",
        "cum_var = np.cumsum(pca.explained_variance_ratio_)\n",
        "plt.figure(figsize=(7, 5))\n",
        "plt.plot(range(1, len(cum_var) + 1), cum_var, marker='o')\n",
        "plt.axhline(y=0.95, color='r', linestyle='--', label='95% variance')\n",
        "plt.axvline(x=n_components_selected, color='g', linestyle='--', label=f'Selected components ({n_components_selected})')\n",
        "plt.xlabel('Number of components')\n",
        "plt.ylabel('Cumulative explained variance')\n",
        "plt.title('Cumulative explained variance by PCA')\n",
        "plt.legend()\n",
        "plt.grid(True)\n",
        "plt.savefig('pca_cumulative_variance.png')"
      ],
      "metadata": {
        "colab": {
          "base_uri": "https://localhost:8080/",
          "height": 496
        },
        "id": "yyhUkPaDZ3-h",
        "outputId": "ba5845dd-8047-49ca-892c-24e0b297015c"
      },
      "execution_count": null,
      "outputs": [
        {
          "output_type": "display_data",
          "data": {
            "text/plain": [
              "<Figure size 700x500 with 1 Axes>"
            ],
            "image/png": "[encoded data removed]"
          },
          "metadata": {}
        }
      ]
    },
    {
      "cell_type": "code",
      "source": [
        "from mpl_toolkits.mplot3d import Axes3D\n",
        "\n",
        "category_names = {1: 'CYP-450', 2: 'Others Enz'}\n",
        "\n",
        "fig = plt.figure(figsize=(14, 5))\n",
        "\n",
        "# subplot 1 left\n",
        "ax1 = fig.add_subplot(121)\n",
        "scatter = ax1.scatter(X_train_pca[:, 0], X_train_pca[:, 1], c=y_train, cmap='viridis', alpha=0.6)\n",
        "\n",
        "handles = []\n",
        "for category, name in category_names.items():\n",
        "    handles.append(plt.Line2D([0], [0], marker='o', color='w', label=name,\n",
        "                                markerfacecolor=scatter.cmap(scatter.norm(category)), markersize=10))\n",
        "\n",
        "ax1.legend(handles=handles, title='Classes')\n",
        "ax1.set_xlabel('PC1')\n",
        "ax1.set_ylabel('PC2')\n",
        "ax1.set_title('Dispersion of the first two PCA components')\n",
        "ax1.grid(True)\n",
        "\n",
        "# subplot 2 right\n",
        "ax2 = fig.add_subplot(122, projection='3d')\n",
        "scatter_3d = ax2.scatter(X_train_pca[:, 0], X_train_pca[:, 1], X_train_pca[:, 2], c=y_train, cmap='viridis', alpha=0.6)\n",
        "ax2.set_xlabel('PC1')\n",
        "ax2.set_ylabel('PC2')\n",
        "ax2.set_zlabel('PC3')\n",
        "ax2.set_title('Dispersion of the first three PCA components')\n",
        "ax2.legend(handles=handles, title='Classes')\n",
        "\n",
        "# Save figure\n",
        "plt.savefig('pca_scatter_plot.png')\n",
        "plt.show()"
      ],
      "metadata": {
        "colab": {
          "base_uri": "https://localhost:8080/",
          "height": 409
        },
        "id": "1PkbEYSmANvS",
        "outputId": "9c562e80-ef7a-47b8-d861-eaf482e75fb6"
      },
      "execution_count": null,
      "outputs": [
        {
          "output_type": "display_data",
          "data": {
            "text/plain": [
              "<Figure size 1400x500 with 2 Axes>"
            ],
            "image/png": "[encoded data removed]"
          },
          "metadata": {}
        }
      ]
    },
    {
      "cell_type": "code",
      "source": [
        "# Normalization of the features\n",
        "scaler = StandardScaler()\n",
        "X_train_scaled = scaler.fit_transform(X_train_pca)\n",
        "X_search_space_scaled = scaler.transform(X_search_space_pca)"
      ],
      "metadata": {
        "id": "C-9bCWUMYs2U"
      },
      "execution_count": null,
      "outputs": []
    },
    {
      "cell_type": "code",
      "source": [
        "normalizer = Normalizer()\n",
        "X_train_normalized = normalizer.fit_transform(X_train_pca)\n",
        "X_search_space_normalized = normalizer.transform(X_search_space_pca)"
      ],
      "metadata": {
        "id": "nJgePdUxKEh3"
      },
      "execution_count": null,
      "outputs": []
    },
    {
      "cell_type": "markdown",
      "source": [
        "#### Models"
      ],
      "metadata": {
        "id": "23tLJk6jn7ny"
      }
    },
    {
      "cell_type": "code",
      "source": [
        "import os\n",
        "import sys\n",
        "\n",
        "current_dir = os.getcwd()\n",
        "\n",
        "if current_dir not in sys.path:\n",
        "    sys.path.append(current_dir)\n",
        "\n",
        "from utils.hyperparameter_optimizer import optimize_svm, optimize_nn, optimize_gbc"
      ],
      "metadata": {
        "id": "zyG6KhsZdByw"
      },
      "execution_count": null,
      "outputs": []
    },
    {
      "cell_type": "code",
      "source": [
        "def ESI_training_model(model, split_fraction, num_simulations, X_train_scaled, y_train, model_name):\n",
        "    '''\n",
        "      Function to evaluate an ML model using simulations. It calculates performance metrics such as accuracy, recall, and precision, and saves the trained model.\n",
        "\n",
        "      Inputs\n",
        "        model: ML model object; The model to be trained and evaluated (SVM, NN, GBC, meta_learner).\n",
        "        split_fraction: Float; Proportion of the data to be used for cross-validation.\n",
        "        num_simulations: Integer; Number of simulations to perform to evaluate the model. Each simulation involves splitting the data into training and validation sets.\n",
        "        x_train_scaled: numpy.ndarray or pandas.DataFrame. Training feature set.\n",
        "        y_train: numpy.ndarray or pandas.Series; Labels or target values ​​corresponding to x_train_scaled.\n",
        "        model_name: String; Name of the model being evaluated, used for printing and saving the model.\n",
        "\n",
        "      Outputs\n",
        "        Return: Dict. Contains the model's average performance metrics, including:\n",
        "          \"accuracy\": Average precision.\n",
        "          \"recall\": Average recall.\n",
        "          \"precision\": Average precision.\n",
        "    '''\n",
        "    print(f\"Evaluating {model_name} with {num_simulations} simulations\")\n",
        "    accuracy_scores = []\n",
        "    recall_scores = []\n",
        "    precision_scores = []\n",
        "\n",
        "    #Simulations\n",
        "    for sim in range(num_simulations):\n",
        "        # Split data into training and validation\n",
        "        X_tr, X_val, y_tr, y_val = train_test_split(\n",
        "            X_train_scaled, y_train, test_size=split_fraction, random_state=sim\n",
        "        )\n",
        "\n",
        "        # Training\n",
        "        model.fit(X_tr, y_tr)\n",
        "\n",
        "        # Predict on the validation set\n",
        "        y_pred = model.predict(X_val)\n",
        "\n",
        "        # Metrics\n",
        "        accuracy_scores.append(accuracy_score(y_val, y_pred))\n",
        "        recall_scores.append(recall_score(y_val, y_pred, average='weighted'))\n",
        "        precision_scores.append(precision_score(y_val, y_pred, average='weighted'))\n",
        "\n",
        "    # Average metrics\n",
        "    metrics = {\n",
        "        \"accuracy\": np.mean(accuracy_scores),\n",
        "        \"recall\": np.mean(recall_scores),\n",
        "        \"precision\": np.mean(precision_scores)\n",
        "    }\n",
        "\n",
        "    # Train the model with all the data and save it\n",
        "    model.fit(X_train_scaled, y_train)\n",
        "    joblib.dump(model, f\"{model_name.lower().replace(' ', '_')}_classifier.pkl\")\n",
        "\n",
        "    return metrics"
      ],
      "metadata": {
        "id": "5unf0cIVYwtP"
      },
      "execution_count": null,
      "outputs": []
    },
    {
      "cell_type": "markdown",
      "source": [
        "##### Parameters"
      ],
      "metadata": {
        "id": "VuoS-JIvftbD"
      }
    },
    {
      "cell_type": "code",
      "source": [
        "num_sim = 1000 # 100\n",
        "split_fraction = 0.1"
      ],
      "metadata": {
        "id": "3E26eLv2cAhU"
      },
      "execution_count": null,
      "outputs": []
    },
    {
      "cell_type": "markdown",
      "source": [
        "#### Without hyperparameter optimization"
      ],
      "metadata": {
        "id": "uy2orRipjbNf"
      }
    },
    {
      "cell_type": "markdown",
      "source": [
        "##### Support Vector Machine"
      ],
      "metadata": {
        "id": "NDsvSnSufwaF"
      }
    },
    {
      "cell_type": "code",
      "source": [
        "SVM = SVC(\n",
        "        C=5,              #Regularization parameter\n",
        "        kernel='linear',     #kernel type\n",
        "        gamma='scale',    #Kernel coefficient for ‘rbf’, ‘poly’ and ‘sigmoid’\n",
        "        probability=True, #Whether to enable probability estimates\n",
        "        random_state=42   #seed\n",
        "      )"
      ],
      "metadata": {
        "id": "GPyvvZfKcTsZ"
      },
      "execution_count": null,
      "outputs": []
    },
    {
      "cell_type": "code",
      "source": [
        "%%time\n",
        "#metrics = ESI_training_model(SVM, split_fraction, num_sim,\n",
        "#                                        X_train_normalized, y_train, 'SVM')\n",
        "metrics = ESI_training_model(SVM, split_fraction, num_sim,\n",
        "                                        X_train_scaled, y_train, 'SVM')\n",
        "accuracy_svm = metrics[\"accuracy\"]\n",
        "recall_svm = metrics[\"recall\"]\n",
        "precision_svm = metrics[\"precision\"]\n",
        "print('********** Performance of SVM **************')\n",
        "print(f' Accuracy:\\t{accuracy_svm:.2f} \\n Precision:\\t{precision_svm:.2f} \\n Recall:\\t{recall_svm:.2f}')"
      ],
      "metadata": {
        "colab": {
          "base_uri": "https://localhost:8080/"
        },
        "id": "wQEV0CeteE_1",
        "outputId": "37d0c5a4-99f8-4a2d-aa30-04998b2be81e"
      },
      "execution_count": null,
      "outputs": [
        {
          "output_type": "stream",
          "name": "stdout",
          "text": [
            "Evaluating SVM with 100 simulations\n",
            "********** Performance of SVM **************\n",
            " Accuracy:\t0.82 \n",
            " Precision:\t0.84 \n",
            " Recall:\t0.82\n",
            "CPU times: user 990 ms, sys: 4.01 ms, total: 994 ms\n",
            "Wall time: 993 ms\n"
          ]
        }
      ]
    },
    {
      "cell_type": "markdown",
      "source": [
        "##### Neural Network"
      ],
      "metadata": {
        "id": "5HkyKwn5f_o9"
      }
    },
    {
      "cell_type": "code",
      "source": [
        "#NN = MLPClassifier(hidden_layer_sizes=(100,50), learning_rate_init=0.01, alpha=0.001,\n",
        "#                       max_iter=500, random_state=42)\n",
        "NN = MLPClassifier(\n",
        "    hidden_layer_sizes=(100,50),    # layers\n",
        "    learning_rate_init=0.01,      # Learning rate init\n",
        "    learning_rate='adaptive',      # learning rate\n",
        "    alpha=0.001,                  # regularization rate\n",
        "    max_iter=200,                  # iterations\n",
        "    solver='adam',                 # Solver\n",
        "    activation='relu',             # Function activation\n",
        "    random_state=42                # seed\n",
        ")"
      ],
      "metadata": {
        "id": "gE_ARq1af_o_"
      },
      "execution_count": null,
      "outputs": []
    },
    {
      "cell_type": "code",
      "source": [
        "%%time\n",
        "metrics = ESI_training_model(NN, split_fraction, num_sim,\n",
        "                                        X_train_normalized, y_train, 'NN')\n",
        "#metrics = ESI_training_model(NN, split_fraction, num_sim,\n",
        "#                                        X_train_scaled, y_train, 'NN')\n",
        "accuracy_nn = metrics[\"accuracy\"]\n",
        "recall_nn = metrics[\"recall\"]\n",
        "precision_nn = metrics[\"precision\"]\n",
        "print('********** Performance of NN **************')\n",
        "print(f' Accuracy:\\t{accuracy_nn:.2f} \\n Precision:\\t{precision_nn:.2f} \\n Recall:\\t{recall_nn:.2f}')"
      ],
      "metadata": {
        "colab": {
          "base_uri": "https://localhost:8080/"
        },
        "outputId": "9edd1e0a-9636-4d76-bec4-e85d8a05d6e3",
        "id": "S4gf9yHrf_pA"
      },
      "execution_count": null,
      "outputs": [
        {
          "output_type": "stream",
          "name": "stdout",
          "text": [
            "Evaluating NN with 100 simulations\n",
            "********** Performance of NN **************\n",
            " Accuracy:\t0.80 \n",
            " Precision:\t0.82 \n",
            " Recall:\t0.80\n",
            "CPU times: user 3.71 s, sys: 11 ms, total: 3.72 s\n",
            "Wall time: 3.69 s\n"
          ]
        }
      ]
    },
    {
      "cell_type": "markdown",
      "source": [
        "##### Gradient Boosting"
      ],
      "metadata": {
        "id": "94asWMApgaTf"
      }
    },
    {
      "cell_type": "code",
      "source": [
        "#GBC = GradientBoostingClassifier(n_estimators=15, learning_rate=0.1, max_depth=3,\n",
        "#                                     subsample=1, random_state=42)\n",
        "GBC = GradientBoostingClassifier(\n",
        "    n_estimators=5,              # Trees\n",
        "    learning_rate=0.1,            # Learning rate\n",
        "    max_depth=2,                   # depth tree\n",
        "    subsample=1,                 # Subsample\n",
        "    min_samples_split=3,           # Minimum number of samples to split\n",
        "    min_samples_leaf=2,            # Minimum number of samples per leaf\n",
        "    random_state=42\n",
        ")"
      ],
      "metadata": {
        "id": "A9C5WE0wgaTg"
      },
      "execution_count": null,
      "outputs": []
    },
    {
      "cell_type": "code",
      "source": [
        "%%time\n",
        "#metrics = ESI_training_model(GBC, split_fraction, num_sim,\n",
        "#                                        X_train_normalized, y_train, 'GBC')\n",
        "metrics = ESI_training_model(GBC, split_fraction, num_sim,\n",
        "                                        X_train_scaled, y_train, 'GBC')\n",
        "accuracy_gbc = metrics[\"accuracy\"]\n",
        "recall_gbc = metrics[\"recall\"]\n",
        "precision_gbc = metrics[\"precision\"]\n",
        "print('********** Performance of GBC **************')\n",
        "print(f' Accuracy:\\t{accuracy_gbc:.2f} \\n Precision:\\t{precision_gbc:.2f} \\n Recall:\\t{recall_gbc:.2f}')"
      ],
      "metadata": {
        "colab": {
          "base_uri": "https://localhost:8080/"
        },
        "outputId": "f833b73a-396d-446a-fa3f-147925364f5a",
        "id": "5b81g04YgaTg"
      },
      "execution_count": null,
      "outputs": [
        {
          "output_type": "stream",
          "name": "stdout",
          "text": [
            "Evaluating GBC with 100 simulations\n",
            "********** Performance of GBC **************\n",
            " Accuracy:\t0.86 \n",
            " Precision:\t0.87 \n",
            " Recall:\t0.86\n",
            "CPU times: user 1.78 s, sys: 14.9 ms, total: 1.8 s\n",
            "Wall time: 1.79 s\n"
          ]
        }
      ]
    },
    {
      "cell_type": "markdown",
      "source": [
        "##### Meta Learner"
      ],
      "metadata": {
        "id": "1CeYgR9cg7WC"
      }
    },
    {
      "cell_type": "code",
      "source": [
        "meta_learner = VotingClassifier(\n",
        "    estimators=[\n",
        "        ('NN', NN),\n",
        "        ('GBC', GBC),\n",
        "        ('SVM', SVM)\n",
        "    ],\n",
        "    voting='soft'\n",
        ")"
      ],
      "metadata": {
        "id": "X6swXpzrcI2j"
      },
      "execution_count": null,
      "outputs": []
    },
    {
      "cell_type": "code",
      "source": [
        "%%time\n",
        "metrics = ESI_training_model(meta_learner, split_fraction, num_sim,\n",
        "                                        X_train_normalized, y_train, 'Meta Learner')\n",
        "#metrics = ESI_training_model(meta_learner, split_fraction, num_sim,\n",
        "#                                        X_train_scaled, y_train, 'Meta Learner')\n",
        "accuracy_ml = metrics[\"accuracy\"]\n",
        "recall_ml = metrics[\"recall\"]\n",
        "precision_ml = metrics[\"precision\"]\n",
        "print('********** Performance of Meta Learner **************')\n",
        "print(f' Accuracy:\\t{accuracy_ml:.2f} \\n Precision:\\t{precision_ml:.2f} \\n Recall:\\t{recall_ml:.2f}')"
      ],
      "metadata": {
        "colab": {
          "base_uri": "https://localhost:8080/"
        },
        "id": "Meh0Oz1ChWkn",
        "outputId": "b78e0965-cc23-4075-d528-f50caf96fc00"
      },
      "execution_count": null,
      "outputs": [
        {
          "output_type": "stream",
          "name": "stdout",
          "text": [
            "Evaluating Meta Learner with 100 simulations\n",
            "********** Performance of Meta Learner **************\n",
            " Accuracy:\t0.91 \n",
            " Precision:\t0.92 \n",
            " Recall:\t0.91\n",
            "CPU times: user 24.8 s, sys: 89.7 ms, total: 24.9 s\n",
            "Wall time: 25.8 s\n"
          ]
        }
      ]
    },
    {
      "cell_type": "code",
      "execution_count": null,
      "metadata": {
        "id": "il6qcosejQyH"
      },
      "outputs": [],
      "source": [
        "# Data\n",
        "data = {\n",
        "    'Model': ['SVM', 'NN', 'GBC', 'META'],\n",
        "    'Accuracy': [accuracy_svm, accuracy_nn, accuracy_gbc, accuracy_ml],\n",
        "    'Precision': [precision_svm, precision_nn, precision_gbc, precision_ml],\n",
        "    'Recall': [recall_svm, recall_nn, recall_gbc, recall_ml]\n",
        "}\n",
        "df = pd.DataFrame(data)"
      ]
    },
    {
      "cell_type": "code",
      "execution_count": null,
      "metadata": {
        "colab": {
          "base_uri": "https://localhost:8080/",
          "height": 501
        },
        "outputId": "02cc9347-a64d-48df-afaa-fe3051ea63c8",
        "id": "Ni4H4jS5jQyI"
      },
      "outputs": [
        {
          "output_type": "display_data",
          "data": {
            "text/plain": [
              "<Figure size 700x500 with 1 Axes>"
            ],
            "image/png": "[encoded data removed]"
          },
          "metadata": {}
        }
      ],
      "source": [
        "sns.set(style=\"whitegrid\")\n",
        "df_long = df.melt(id_vars='Model', var_name='Metric', value_name='Value')\n",
        "\n",
        "# bar chart\n",
        "plt.figure(figsize=(7, 5))\n",
        "ax = sns.barplot(data=df_long, x='Model', y='Value', hue='Metric', palette='Set2')\n",
        "\n",
        "# labels\n",
        "for container in ax.containers:\n",
        "    ax.bar_label(container, fmt='%.2f', padding=2, fontsize=10)\n",
        "\n",
        "plt.title(\"Comparison of Metrics by Model\", fontsize=14, fontweight='bold')\n",
        "plt.ylim(0, 1.05)\n",
        "plt.legend(title='Metric',loc='lower left', fontsize=10, title_fontsize=12)\n",
        "plt.xticks(fontsize=11)\n",
        "plt.yticks(fontsize=11)\n",
        "plt.tight_layout()\n",
        "plt.savefig('Comparison_of_Metrics_by_Model.png')\n",
        "plt.show()"
      ]
    },
    {
      "cell_type": "markdown",
      "source": [
        "#### With hyperparameter optimization"
      ],
      "metadata": {
        "id": "VriBJHBfjqEM"
      }
    },
    {
      "cell_type": "markdown",
      "source": [
        "##### SVM"
      ],
      "metadata": {
        "id": "D6ZG1rwNkydC"
      }
    },
    {
      "cell_type": "code",
      "source": [
        "%%time\n",
        "print(\"Optimizing SVM...\")\n",
        "best_svm, best_svm_params = optimize_svm(X_train_scaled, y_train)\n",
        "print(\"Best parameters for SVM:\", best_svm_params)"
      ],
      "metadata": {
        "id": "QbUguAwZjtMU"
      },
      "execution_count": null,
      "outputs": []
    },
    {
      "cell_type": "code",
      "source": [
        "%%time\n",
        "metrics_best_svm = ESI_training_model(best_svm, split_fraction, num_simulations, X_train_scaled, y_train, 'SVM')\n",
        "accuracy_best_svm = metrics_best_svm[\"accuracy\"]\n",
        "recall_best_svm = metrics_best_svm[\"recall\"]\n",
        "precision_best_svm = metrics_best_svm[\"precision\"]\n",
        "print('********** Performance of best SVM **************')\n",
        "print(f' Accuracy:\\t{accuracy_best_svm:.2f} \\n Precision:\\t{precision_best_svm:.2f} \\n Recall:\\t{recall_best_svm:.2f}')"
      ],
      "metadata": {
        "id": "-HnlbSb-ka2U"
      },
      "execution_count": null,
      "outputs": []
    },
    {
      "cell_type": "markdown",
      "source": [
        "##### NN"
      ],
      "metadata": {
        "id": "q5Rmeaavk2qM"
      }
    },
    {
      "cell_type": "code",
      "source": [
        "%%time\n",
        "print(\"Optimizing NN...\")\n",
        "best_nn, best_nn_params = optimize_nn(X_train_normalized, y_train)\n",
        "print(\"Best parameters for NN:\", best_nn_params)"
      ],
      "metadata": {
        "id": "2cu-8xSXkBnU"
      },
      "execution_count": null,
      "outputs": []
    },
    {
      "cell_type": "code",
      "source": [
        "%%time\n",
        "metrics_best_nn = ESI_training_model(best_nn, split_fraction, num_simulations, X_train_normalized, y_train, 'NN')\n",
        "accuracy_best_nn = metrics_best_nn[\"accuracy\"]\n",
        "recall_best_nn = metrics_best_nn[\"recall\"]\n",
        "precision_best_nn = metrics_best_nn[\"precision\"]\n",
        "print('********** Performance of Best NN **************')\n",
        "print(f' Accuracy:\\t{accuracy_best_nn:.2f} \\n Precision:\\t{precision_best_nn:.2f} \\n Recall:\\t{recall_best_nn:.2f}')"
      ],
      "metadata": {
        "id": "Zji_YY-dkbvp"
      },
      "execution_count": null,
      "outputs": []
    },
    {
      "cell_type": "markdown",
      "source": [
        "##### GBC"
      ],
      "metadata": {
        "id": "YrQ5fcQdk6U6"
      }
    },
    {
      "cell_type": "code",
      "source": [
        "%%time\n",
        "print(\"Optimizing GBC...\")\n",
        "best_gbc, best_gbc_params = optimize_gbc(X_train_scaled, y_train)\n",
        "print(\"Best parameters for GBC:\", best_gbc_params)"
      ],
      "metadata": {
        "id": "-nZmCASfkHGF"
      },
      "execution_count": null,
      "outputs": []
    },
    {
      "cell_type": "code",
      "source": [
        "%%time\n",
        "metrics_best_gbc = ESI_training_model(best_gbc, split_fraction, num_simulations, X_train_scaled, y_train, 'GBC')\n",
        "accuracy_best_gbc = metrics_best_gbc[\"accuracy\"]\n",
        "recall_best_gbc = metrics_best_gbc[\"recall\"]\n",
        "precision_best_gbc = metrics_best_gbc[\"precision\"]\n",
        "print('********** Performance of Best GBC **************')\n",
        "print(f' Accuracy:\\t{accuracy_best_gbc:.2f} \\n Precision:\\t{precision_best_gbc:.2f} \\n Recall:\\t{recall_best_gbc:.2f}')"
      ],
      "metadata": {
        "id": "zLpFuN3Mkhnp"
      },
      "execution_count": null,
      "outputs": []
    },
    {
      "cell_type": "markdown",
      "source": [
        "##### Meta Learner"
      ],
      "metadata": {
        "id": "WdIz6Fr5k9a3"
      }
    },
    {
      "cell_type": "code",
      "source": [
        "%%time\n",
        "meta_learner = VotingClassifier(\n",
        "    estimators=[\n",
        "        ('NN', best_nn),\n",
        "        ('GBC', best_gbc),\n",
        "        ('SVM', best_svm)\n",
        "    ],\n",
        "    voting='soft'\n",
        ")"
      ],
      "metadata": {
        "id": "xqVRJed6kJUc"
      },
      "execution_count": null,
      "outputs": []
    },
    {
      "cell_type": "code",
      "source": [
        "%%time\n",
        "metrics_best_ml = ESI_training_model(meta_learner, split_fraction, num_simulations, X_train_normalized, y_train, 'Meta Learner')\n",
        "accuracy_best_ml = metrics_best_ml[\"accuracy\"]\n",
        "recall_best_ml = metrics_best_ml[\"recall\"]\n",
        "precision_best_ml = metrics_best_ml[\"precision\"]\n",
        "print('********** Performance of Best Meta Learner **************')\n",
        "print(f' Accuracy:\\t{accuracy_best_ml:.2f} \\n Precision:\\t{precision_best_ml:.2f} \\n Recall:\\t{recall_best_ml:.2f}')"
      ],
      "metadata": {
        "id": "YuFkbhR1kwG0"
      },
      "execution_count": null,
      "outputs": []
    },
    {
      "cell_type": "code",
      "execution_count": null,
      "metadata": {
        "id": "GWiyu6j8o9oF"
      },
      "outputs": [],
      "source": [
        "# Data\n",
        "data_best = {\n",
        "    'Model': ['Best SVM', 'Best NN', 'Best GBC', 'Best META'],\n",
        "    'Accuracy': [accuracy_best_svm, accuracy_best_nn, accuracy_best_gbc, accuracy_best_ml],\n",
        "    'Precision': [precision_best_svm, precision_best_nn, precision_best_gbc, precision_best_ml],\n",
        "    'Recall': [recall_best_svm, recall_best_nn, recall_best_gbc, recall_best_ml]\n",
        "}\n",
        "dfb = pd.DataFrame(data_best)"
      ]
    },
    {
      "cell_type": "code",
      "execution_count": null,
      "metadata": {
        "colab": {
          "base_uri": "https://localhost:8080/",
          "height": 501
        },
        "outputId": "02cc9347-a64d-48df-afaa-fe3051ea63c8",
        "id": "Uvc0lLVFo9oG"
      },
      "outputs": [
        {
          "output_type": "display_data",
          "data": {
            "text/plain": [
              "<Figure size 700x500 with 1 Axes>"
            ],
            "image/png": "[encoded data removed]"
          },
          "metadata": {}
        }
      ],
      "source": [
        "sns.set(style=\"whitegrid\")\n",
        "df_long_best = dfb.melt(id_vars='Model', var_name='Metric', value_name='Value')\n",
        "\n",
        "# bar chart\n",
        "plt.figure(figsize=(7, 5))\n",
        "ax = sns.barplot(data=df_long_best, x='Model', y='Value', hue='Metric', palette='Set2')\n",
        "\n",
        "# labels\n",
        "for container in ax.containers:\n",
        "    ax.bar_label(container, fmt='%.2f', padding=2, fontsize=10)\n",
        "\n",
        "plt.title(\"Comparison of Metrics of Best Models\", fontsize=14, fontweight='bold')\n",
        "plt.ylim(0, 1.05)\n",
        "plt.legend(title='Metric',loc='lower left', fontsize=10, title_fontsize=12)\n",
        "plt.xticks(fontsize=11)\n",
        "plt.yticks(fontsize=11)\n",
        "plt.tight_layout()\n",
        "plt.savefig('Comparison_of_Metrics_of_Best_Models.png')\n",
        "plt.show()"
      ]
    },
    {
      "cell_type": "markdown",
      "source": [
        "## Predictions"
      ],
      "metadata": {
        "id": "0hYlNa_hiJYE"
      }
    },
    {
      "cell_type": "code",
      "source": [
        "#predictions = meta_learner.predict(X_search_space_scaled)\n",
        "#predictions = meta_learner.predict(X_search_space_normalized)\n",
        "#predictions = GBC.predict(X_search_space_scaled)\n",
        "#predictions = GBC.predict(X_search_space_normalized)\n",
        "#predictions = NN.predict(X_search_space_scaled)\n",
        "#predictions = NN.predict(X_search_space_normalized)\n",
        "#predictions = SVM.predict(X_search_space_scaled)\n",
        "predictions = SVM.predict(X_search_space_normalized)"
      ],
      "metadata": {
        "id": "0kodzxxciMrm"
      },
      "execution_count": null,
      "outputs": []
    },
    {
      "cell_type": "code",
      "source": [
        "predictions_df = pd.DataFrame({\n",
        "    \"enz_alias\": search_space_enz_names,\n",
        "    \"prediction\": predictions\n",
        "})\n",
        "predictions_df.to_excel(\"predictions.xlsx\", index=False)"
      ],
      "metadata": {
        "id": "8KlLF8HviIfT"
      },
      "execution_count": null,
      "outputs": []
    },
    {
      "cell_type": "code",
      "source": [
        "pred=predictions_df[predictions_df['prediction']==1]\n",
        "df_out=pd.read_csv('./analysis/mappings/search_space_enz_map.csv',header=None, names=['alias','name'])\n",
        "pred=df_out[df_out['alias'].isin(pred['enz_alias'])]\n",
        "print(f'Number of enzymes of interest: {len(pred)}')\n",
        "pred"
      ],
      "metadata": {
        "colab": {
          "base_uri": "https://localhost:8080/",
          "height": 441
        },
        "id": "tRn9Bp-kiaCk",
        "outputId": "098463ee-4ca9-4426-a086-e3695b567e6f"
      },
      "execution_count": null,
      "outputs": [
        {
          "output_type": "stream",
          "name": "stdout",
          "text": [
            "Number of enzymes of interest: 69\n"
          ]
        },
        {
          "output_type": "execute_result",
          "data": {
            "text/plain": [
              "                  alias                   name\n",
              "0    search_space_enz_0  sp|O22781|SUVH2_ARATH\n",
              "1    search_space_enz_1   sp|O95050|INMT_HUMAN\n",
              "2    search_space_enz_2     sp|P10937|PNMT_RAT\n",
              "3    search_space_enz_3   sp|P21964|COMT_HUMAN\n",
              "4    search_space_enz_4   sp|P22061|PIMT_HUMAN\n",
              "..                  ...                    ...\n",
              "90  search_space_enz_90  sp|Q99LB7|SARDH_MOUSE\n",
              "91  search_space_enz_91  sp|Q9AGP0|TSOXG_ARTSP\n",
              "92  search_space_enz_92  sp|Q9AGP1|TSOXA_ARTSP\n",
              "93  search_space_enz_93  sp|Q9AGP2|TSOXD_ARTSP\n",
              "94  search_space_enz_94  sp|Q9AGP3|TSOXB_ARTSP\n",
              "\n",
              "[69 rows x 2 columns]"
            ],
            "text/html": [
              "\n",
              "  <div id=\"df-bedf1882-e385-4f28-a18d-88d6370789e6\" class=\"colab-df-container\">\n",
              "    <div>\n",
              "<style scoped>\n",
              "    .dataframe tbody tr th:only-of-type {\n",
              "        vertical-align: middle;\n",
              "    }\n",
              "\n",
              "    .dataframe tbody tr th {\n",
              "        vertical-align: top;\n",
              "    }\n",
              "\n",
              "    .dataframe thead th {\n",
              "        text-align: right;\n",
              "    }\n",
              "</style>\n",
              "<table border=\"1\" class=\"dataframe\">\n",
              "  <thead>\n",
              "    <tr style=\"text-align: right;\">\n",
              "      <th></th>\n",
              "      <th>alias</th>\n",
              "      <th>name</th>\n",
              "    </tr>\n",
              "  </thead>\n",
              "  <tbody>\n",
              "    <tr>\n",
              "      <th>0</th>\n",
              "      <td>search_space_enz_0</td>\n",
              "      <td>sp|O22781|SUVH2_ARATH</td>\n",
              "    </tr>\n",
              "    <tr>\n",
              "      <th>1</th>\n",
              "      <td>search_space_enz_1</td>\n",
              "      <td>sp|O95050|INMT_HUMAN</td>\n",
              "    </tr>\n",
              "    <tr>\n",
              "      <th>2</th>\n",
              "      <td>search_space_enz_2</td>\n",
              "      <td>sp|P10937|PNMT_RAT</td>\n",
              "    </tr>\n",
              "    <tr>\n",
              "      <th>3</th>\n",
              "      <td>search_space_enz_3</td>\n",
              "      <td>sp|P21964|COMT_HUMAN</td>\n",
              "    </tr>\n",
              "    <tr>\n",
              "      <th>4</th>\n",
              "      <td>search_space_enz_4</td>\n",
              "      <td>sp|P22061|PIMT_HUMAN</td>\n",
              "    </tr>\n",
              "    <tr>\n",
              "      <th>...</th>\n",
              "      <td>...</td>\n",
              "      <td>...</td>\n",
              "    </tr>\n",
              "    <tr>\n",
              "      <th>90</th>\n",
              "      <td>search_space_enz_90</td>\n",
              "      <td>sp|Q99LB7|SARDH_MOUSE</td>\n",
              "    </tr>\n",
              "    <tr>\n",
              "      <th>91</th>\n",
              "      <td>search_space_enz_91</td>\n",
              "      <td>sp|Q9AGP0|TSOXG_ARTSP</td>\n",
              "    </tr>\n",
              "    <tr>\n",
              "      <th>92</th>\n",
              "      <td>search_space_enz_92</td>\n",
              "      <td>sp|Q9AGP1|TSOXA_ARTSP</td>\n",
              "    </tr>\n",
              "    <tr>\n",
              "      <th>93</th>\n",
              "      <td>search_space_enz_93</td>\n",
              "      <td>sp|Q9AGP2|TSOXD_ARTSP</td>\n",
              "    </tr>\n",
              "    <tr>\n",
              "      <th>94</th>\n",
              "      <td>search_space_enz_94</td>\n",
              "      <td>sp|Q9AGP3|TSOXB_ARTSP</td>\n",
              "    </tr>\n",
              "  </tbody>\n",
              "</table>\n",
              "<p>69 rows × 2 columns</p>\n",
              "</div>\n",
              "    <div class=\"colab-df-buttons\">\n",
              "\n",
              "  <div class=\"colab-df-container\">\n",
              "    <button class=\"colab-df-convert\" onclick=\"convertToInteractive('df-bedf1882-e385-4f28-a18d-88d6370789e6')\"\n",
              "            title=\"Convert this dataframe to an interactive table.\"\n",
              "            style=\"display:none;\">\n",
              "\n",
              "  <svg xmlns=\"http://www.w3.org/2000/svg\" height=\"24px\" viewBox=\"0 -960 960 960\">\n",
              "    <path d=\"M120-120v-720h720v720H120Zm60-500h600v-160H180v160Zm220 220h160v-160H400v160Zm0 220h160v-160H400v160ZM180-400h160v-160H180v160Zm440 0h160v-160H620v160ZM180-180h160v-160H180v160Zm440 0h160v-160H620v160Z\"/>\n",
              "  </svg>\n",
              "    </button>\n",
              "\n",
              "  <style>\n",
              "    .colab-df-container {\n",
              "      display:flex;\n",
              "      gap: 12px;\n",
              "    }\n",
              "\n",
              "    .colab-df-convert {\n",
              "      background-color: #E8F0FE;\n",
              "      border: none;\n",
              "      border-radius: 50%;\n",
              "      cursor: pointer;\n",
              "      display: none;\n",
              "      fill: #1967D2;\n",
              "      height: 32px;\n",
              "      padding: 0 0 0 0;\n",
              "      width: 32px;\n",
              "    }\n",
              "\n",
              "    .colab-df-convert:hover {\n",
              "      background-color: #E2EBFA;\n",
              "      box-shadow: 0px 1px 2px rgba(60, 64, 67, 0.3), 0px 1px 3px 1px rgba(60, 64, 67, 0.15);\n",
              "      fill: #174EA6;\n",
              "    }\n",
              "\n",
              "    .colab-df-buttons div {\n",
              "      margin-bottom: 4px;\n",
              "    }\n",
              "\n",
              "    [theme=dark] .colab-df-convert {\n",
              "      background-color: #3B4455;\n",
              "      fill: #D2E3FC;\n",
              "    }\n",
              "\n",
              "    [theme=dark] .colab-df-convert:hover {\n",
              "      background-color: #434B5C;\n",
              "      box-shadow: 0px 1px 3px 1px rgba(0, 0, 0, 0.15);\n",
              "      filter: drop-shadow(0px 1px 2px rgba(0, 0, 0, 0.3));\n",
              "      fill: #FFFFFF;\n",
              "    }\n",
              "  </style>\n",
              "\n",
              "    <script>\n",
              "      const buttonEl =\n",
              "        document.querySelector('#df-bedf1882-e385-4f28-a18d-88d6370789e6 button.colab-df-convert');\n",
              "      buttonEl.style.display =\n",
              "        google.colab.kernel.accessAllowed ? 'block' : 'none';\n",
              "\n",
              "      async function convertToInteractive(key) {\n",
              "        const element = document.querySelector('#df-bedf1882-e385-4f28-a18d-88d6370789e6');\n",
              "        const dataTable =\n",
              "          await google.colab.kernel.invokeFunction('convertToInteractive',\n",
              "                                                    [key], {});\n",
              "        if (!dataTable) return;\n",
              "\n",
              "        const docLinkHtml = 'Like what you see? Visit the ' +\n",
              "          '<a target=\"_blank\" href=https://colab.research.google.com/notebooks/data_table.ipynb>data table notebook</a>'\n",
              "          + ' to learn more about interactive tables.';\n",
              "        element.innerHTML = '';\n",
              "        dataTable['output_type'] = 'display_data';\n",
              "        await google.colab.output.renderOutput(dataTable, element);\n",
              "        const docLink = document.createElement('div');\n",
              "        docLink.innerHTML = docLinkHtml;\n",
              "        element.appendChild(docLink);\n",
              "      }\n",
              "    </script>\n",
              "  </div>\n",
              "\n",
              "\n",
              "    <div id=\"df-d56457ee-fcaa-415b-9f37-b8271921300c\">\n",
              "      <button class=\"colab-df-quickchart\" onclick=\"quickchart('df-d56457ee-fcaa-415b-9f37-b8271921300c')\"\n",
              "                title=\"Suggest charts\"\n",
              "                style=\"display:none;\">\n",
              "\n",
              "<svg xmlns=\"http://www.w3.org/2000/svg\" height=\"24px\"viewBox=\"0 0 24 24\"\n",
              "     width=\"24px\">\n",
              "    <g>\n",
              "        <path d=\"M19 3H5c-1.1 0-2 .9-2 2v14c0 1.1.9 2 2 2h14c1.1 0 2-.9 2-2V5c0-1.1-.9-2-2-2zM9 17H7v-7h2v7zm4 0h-2V7h2v10zm4 0h-2v-4h2v4z\"/>\n",
              "    </g>\n",
              "</svg>\n",
              "      </button>\n",
              "\n",
              "<style>\n",
              "  .colab-df-quickchart {\n",
              "      --bg-color: #E8F0FE;\n",
              "      --fill-color: #1967D2;\n",
              "      --hover-bg-color: #E2EBFA;\n",
              "      --hover-fill-color: #174EA6;\n",
              "      --disabled-fill-color: #AAA;\n",
              "      --disabled-bg-color: #DDD;\n",
              "  }\n",
              "\n",
              "  [theme=dark] .colab-df-quickchart {\n",
              "      --bg-color: #3B4455;\n",
              "      --fill-color: #D2E3FC;\n",
              "      --hover-bg-color: #434B5C;\n",
              "      --hover-fill-color: #FFFFFF;\n",
              "      --disabled-bg-color: #3B4455;\n",
              "      --disabled-fill-color: #666;\n",
              "  }\n",
              "\n",
              "  .colab-df-quickchart {\n",
              "    background-color: var(--bg-color);\n",
              "    border: none;\n",
              "    border-radius: 50%;\n",
              "    cursor: pointer;\n",
              "    display: none;\n",
              "    fill: var(--fill-color);\n",
              "    height: 32px;\n",
              "    padding: 0;\n",
              "    width: 32px;\n",
              "  }\n",
              "\n",
              "  .colab-df-quickchart:hover {\n",
              "    background-color: var(--hover-bg-color);\n",
              "    box-shadow: 0 1px 2px rgba(60, 64, 67, 0.3), 0 1px 3px 1px rgba(60, 64, 67, 0.15);\n",
              "    fill: var(--button-hover-fill-color);\n",
              "  }\n",
              "\n",
              "  .colab-df-quickchart-complete:disabled,\n",
              "  .colab-df-quickchart-complete:disabled:hover {\n",
              "    background-color: var(--disabled-bg-color);\n",
              "    fill: var(--disabled-fill-color);\n",
              "    box-shadow: none;\n",
              "  }\n",
              "\n",
              "  .colab-df-spinner {\n",
              "    border: 2px solid var(--fill-color);\n",
              "    border-color: transparent;\n",
              "    border-bottom-color: var(--fill-color);\n",
              "    animation:\n",
              "      spin 1s steps(1) infinite;\n",
              "  }\n",
              "\n",
              "  @keyframes spin {\n",
              "    0% {\n",
              "      border-color: transparent;\n",
              "      border-bottom-color: var(--fill-color);\n",
              "      border-left-color: var(--fill-color);\n",
              "    }\n",
              "    20% {\n",
              "      border-color: transparent;\n",
              "      border-left-color: var(--fill-color);\n",
              "      border-top-color: var(--fill-color);\n",
              "    }\n",
              "    30% {\n",
              "      border-color: transparent;\n",
              "      border-left-color: var(--fill-color);\n",
              "      border-top-color: var(--fill-color);\n",
              "      border-right-color: var(--fill-color);\n",
              "    }\n",
              "    40% {\n",
              "      border-color: transparent;\n",
              "      border-right-color: var(--fill-color);\n",
              "      border-top-color: var(--fill-color);\n",
              "    }\n",
              "    60% {\n",
              "      border-color: transparent;\n",
              "      border-right-color: var(--fill-color);\n",
              "    }\n",
              "    80% {\n",
              "      border-color: transparent;\n",
              "      border-right-color: var(--fill-color);\n",
              "      border-bottom-color: var(--fill-color);\n",
              "    }\n",
              "    90% {\n",
              "      border-color: transparent;\n",
              "      border-bottom-color: var(--fill-color);\n",
              "    }\n",
              "  }\n",
              "</style>\n",
              "\n",
              "      <script>\n",
              "        async function quickchart(key) {\n",
              "          const quickchartButtonEl =\n",
              "            document.querySelector('#' + key + ' button');\n",
              "          quickchartButtonEl.disabled = true;  // To prevent multiple clicks.\n",
              "          quickchartButtonEl.classList.add('colab-df-spinner');\n",
              "          try {\n",
              "            const charts = await google.colab.kernel.invokeFunction(\n",
              "                'suggestCharts', [key], {});\n",
              "          } catch (error) {\n",
              "            console.error('Error during call to suggestCharts:', error);\n",
              "          }\n",
              "          quickchartButtonEl.classList.remove('colab-df-spinner');\n",
              "          quickchartButtonEl.classList.add('colab-df-quickchart-complete');\n",
              "        }\n",
              "        (() => {\n",
              "          let quickchartButtonEl =\n",
              "            document.querySelector('#df-d56457ee-fcaa-415b-9f37-b8271921300c button');\n",
              "          quickchartButtonEl.style.display =\n",
              "            google.colab.kernel.accessAllowed ? 'block' : 'none';\n",
              "        })();\n",
              "      </script>\n",
              "    </div>\n",
              "\n",
              "  <div id=\"id_96943c51-3b17-45d3-9190-0f818c32f282\">\n",
              "    <style>\n",
              "      .colab-df-generate {\n",
              "        background-color: #E8F0FE;\n",
              "        border: none;\n",
              "        border-radius: 50%;\n",
              "        cursor: pointer;\n",
              "        display: none;\n",
              "        fill: #1967D2;\n",
              "        height: 32px;\n",
              "        padding: 0 0 0 0;\n",
              "        width: 32px;\n",
              "      }\n",
              "\n",
              "      .colab-df-generate:hover {\n",
              "        background-color: #E2EBFA;\n",
              "        box-shadow: 0px 1px 2px rgba(60, 64, 67, 0.3), 0px 1px 3px 1px rgba(60, 64, 67, 0.15);\n",
              "        fill: #174EA6;\n",
              "      }\n",
              "\n",
              "      [theme=dark] .colab-df-generate {\n",
              "        background-color: #3B4455;\n",
              "        fill: #D2E3FC;\n",
              "      }\n",
              "\n",
              "      [theme=dark] .colab-df-generate:hover {\n",
              "        background-color: #434B5C;\n",
              "        box-shadow: 0px 1px 3px 1px rgba(0, 0, 0, 0.15);\n",
              "        filter: drop-shadow(0px 1px 2px rgba(0, 0, 0, 0.3));\n",
              "        fill: #FFFFFF;\n",
              "      }\n",
              "    </style>\n",
              "    <button class=\"colab-df-generate\" onclick=\"generateWithVariable('pred')\"\n",
              "            title=\"Generate code using this dataframe.\"\n",
              "            style=\"display:none;\">\n",
              "\n",
              "  <svg xmlns=\"http://www.w3.org/2000/svg\" height=\"24px\"viewBox=\"0 0 24 24\"\n",
              "       width=\"24px\">\n",
              "    <path d=\"M7,19H8.4L18.45,9,17,7.55,7,17.6ZM5,21V16.75L18.45,3.32a2,2,0,0,1,2.83,0l1.4,1.43a1.91,1.91,0,0,1,.58,1.4,1.91,1.91,0,0,1-.58,1.4L9.25,21ZM18.45,9,17,7.55Zm-12,3A5.31,5.31,0,0,0,4.9,8.1,5.31,5.31,0,0,0,1,6.5,5.31,5.31,0,0,0,4.9,4.9,5.31,5.31,0,0,0,6.5,1,5.31,5.31,0,0,0,8.1,4.9,5.31,5.31,0,0,0,12,6.5,5.46,5.46,0,0,0,6.5,12Z\"/>\n",
              "  </svg>\n",
              "    </button>\n",
              "    <script>\n",
              "      (() => {\n",
              "      const buttonEl =\n",
              "        document.querySelector('#id_96943c51-3b17-45d3-9190-0f818c32f282 button.colab-df-generate');\n",
              "      buttonEl.style.display =\n",
              "        google.colab.kernel.accessAllowed ? 'block' : 'none';\n",
              "\n",
              "      buttonEl.onclick = () => {\n",
              "        google.colab.notebook.generateWithVariable('pred');\n",
              "      }\n",
              "      })();\n",
              "    </script>\n",
              "  </div>\n",
              "\n",
              "    </div>\n",
              "  </div>\n"
            ],
            "application/vnd.google.colaboratory.intrinsic+json": {
              "type": "dataframe",
              "variable_name": "pred",
              "summary": "{\n  \"name\": \"pred\",\n  \"rows\": 69,\n  \"fields\": [\n    {\n      \"column\": \"alias\",\n      \"properties\": {\n        \"dtype\": \"string\",\n        \"num_unique_values\": 69,\n        \"samples\": [\n          \"search_space_enz_22\",\n          \"search_space_enz_0\",\n          \"search_space_enz_69\"\n        ],\n        \"semantic_type\": \"\",\n        \"description\": \"\"\n      }\n    },\n    {\n      \"column\": \"name\",\n      \"properties\": {\n        \"dtype\": \"string\",\n        \"num_unique_values\": 67,\n        \"samples\": [\n          \"sp|P46059|S15A1_HUMAN\",\n          \"sp|Q9BV44|THUM3_HUMAN\",\n          \"sp|P22061|PIMT_HUMAN\"\n        ],\n        \"semantic_type\": \"\",\n        \"description\": \"\"\n      }\n    }\n  ]\n}"
            }
          },
          "metadata": {},
          "execution_count": 221
        }
      ]
    },
    {
      "cell_type": "code",
      "source": [
        "print('Enzymes of interest')\n",
        "for nam in pred['name']:\n",
        "    print(f\"Full Name: {nam}\")"
      ],
      "metadata": {
        "colab": {
          "base_uri": "https://localhost:8080/"
        },
        "id": "NMJsrpsKtW3S",
        "outputId": "af0883db-204a-4ce5-e548-2327572e9c9f"
      },
      "execution_count": null,
      "outputs": [
        {
          "output_type": "stream",
          "name": "stdout",
          "text": [
            "Enzymes of interest\n",
            "Full Name: sp|O22781|SUVH2_ARATH\n",
            "Full Name: sp|P46959|TRM61_YEAST\n",
            "Full Name: sp|Q15910|EZH2_HUMAN\n",
            "Full Name: sp|Q7Z4G4|TRM11_HUMAN\n",
            "Full Name: sp|Q9BV44|THUM3_HUMAN\n",
            "Full Name: sp|Q9UBL3|ASH2L_HUMAN\n",
            "Full Name: sp|Q9Y6K1|DNM3A_HUMAN\n",
            "Full Name: sp|protein|C96T_\n",
            "Full Name: sp|P52788|SPSY_HUMAN\n",
            "Full Name: sp|Q1QAX7|CYSG_PSYCK\n",
            "Full Name: sp|Q42606|UPM1_ARATH\n",
            "Full Name: sp|Q4FSU1|CYSG_PSYA2\n",
            "Full Name: sp|Q59292|HEMA_RUMJO\n",
            "Full Name: sp|Q7VQG9|CYSG_BLOFL\n",
            "Full Name: sp|P46059|S15A1_HUMAN\n",
            "Full Name: sp|Q1QYW1|DDHC_CHRSD\n",
            "Full Name: sp|Q495M3|S36A2_HUMAN\n",
            "Full Name: sp|Q50LF0|TSOXA_CORS9\n",
            "Full Name: sp|Q63342|M2GD_RAT\n",
            "Full Name: sp|Q64380|SARDH_RAT\n",
            "Full Name: sp|Q8BHK3|S36A2_MOUSE\n",
            "Full Name: sp|Q8IY34|S15A3_HUMAN\n",
            "Full Name: sp|Q8K415|S36A2_RAT\n",
            "Full Name: sp|Q9NP91|S6A20_HUMAN\n",
            "Full Name: sp|Q9UI17|M2GD_HUMAN\n",
            "Full Name: sp|Q9UL12|SARDH_HUMAN\n",
            "Full Name: sp|Q46337|TSOXA_CORS1\n",
            "Full Name: sp|Q47878|GRDD_PEPAC\n",
            "Full Name: sp|O87386|TSOXA_RHIME\n",
            "Full Name: sp|Q52671|TSOXB_RHOCB\n",
            "Full Name: sp|Q99LB7|SARDH_MOUSE\n",
            "Full Name: sp|Q9AGP1|TSOXA_ARTSP\n"
          ]
        }
      ]
    }
  ],
  "metadata": {
    "colab": {
      "collapsed_sections": [
        "6UyMSgkZ5QGy",
        "HbMrBMtpk33S",
        "0hYlNa_hiJYE"
      ],
      "provenance": []
    },
    "kernelspec": {
      "display_name": "Python 3",
      "name": "python3"
    },
    "language_info": {
      "codemirror_mode": {
        "name": "ipython",
        "version": 3
      },
      "file_extension": ".py",
      "mimetype": "text/x-python",
      "name": "python",
      "nbconvert_exporter": "python",
      "pygments_lexer": "ipython3",
      "version": "3.11.5"
    }
  },
  "nbformat": 4,
  "nbformat_minor": 0
}